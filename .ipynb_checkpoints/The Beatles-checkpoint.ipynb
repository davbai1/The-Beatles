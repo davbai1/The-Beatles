{
 "cells": [
  {
   "cell_type": "code",
   "execution_count": 1,
   "id": "d0d42ec6-d2e2-4f84-b5da-dc8b4cf39095",
   "metadata": {},
   "outputs": [],
   "source": [
    "import pandas as pd\n",
    "import plotly.express as px\n",
    "import streamlit as st"
   ]
  },
  {
   "cell_type": "code",
   "execution_count": 2,
   "id": "a49cd2a6-d1d9-47fe-b65d-2a7b329056ad",
   "metadata": {},
   "outputs": [],
   "source": [
    "file = \"The Beatles songs dataset 285x45 v0.csv\"\n",
    "dt = pd.read_csv(file)"
   ]
  },
  {
   "cell_type": "code",
   "execution_count": 4,
   "id": "8b96c3eb-acc3-460f-971e-9250629f46c5",
   "metadata": {},
   "outputs": [],
   "source": [
    "#Usless columns\n",
    "columns_remove = [\n",
    "    'URI', 'Time_signature', 'Energy', 'Loudness', 'Instrumentalness',\n",
    "    'Speechiness', 'Tempo', 'Other releases', 'Single A side',\n",
    "    'Single B side', 'Single certification', 'Styles', 'Themes',\n",
    "    'Moods', 'Songwriter(s)', 'Lead vocal(s)', 'Cover', 'Covered by',\n",
    "    'Chart position UK (Wikipedia)', 'Chart position US (Wikipedia)',\n",
    "    'Highest position (The Guardian)', 'Weeks on chart in UK (The Guardian)',\n",
    "    'Weeks at No1 in UK (The Guardian)', 'Highest position (Billboard)',\n",
    "    'Weeks at No1 (Billboard)', 'Top 50 (Billboard)',\n",
    "    'Top 50 (Ultimate classic rock)', 'Top 50 (NME)',\n",
    "    'Top 50 (Top50songs.org)', 'Album', 'Genre',\n",
    "    'Top 50 (USA today, 2017)', 'Album debut',\n",
    "    'Top 50 (Vulture, by Bill Wyman)'\n",
    "]\n",
    "dt = dt.drop(columns=columns_remove, errors=\"ignore\")\n",
    "\n",
    "\n",
    "dt['Year'] = pd.to_numeric(dt['Year'], errors='coerce')\n",
    "dt = dt.dropna(subset=['Year'])\n",
    "dt['Top 50 (Rolling Stone)'] = pd.to_numeric(dt['Top 50 (Rolling Stone)'], errors='coerce').fillna(0)"
   ]
  },
  {
   "cell_type": "code",
   "execution_count": 5,
   "id": "99a904f9-952a-4ee7-bd21-171404a49013",
   "metadata": {},
   "outputs": [],
   "source": [
    "# Here I sort whole dataset by year\n",
    "dt = dt.sort_values(by=\"Year\", ascending=False)"
   ]
  },
  {
   "cell_type": "code",
   "execution_count": 9,
   "id": "ef448741-5b15-4946-b7de-6322b2eb9591",
   "metadata": {},
   "outputs": [
    {
     "name": "stdout",
     "output_type": "stream",
     "text": [
      "Basic information\n"
     ]
    },
    {
     "data": {
      "text/html": [
       "<div>\n",
       "<style scoped>\n",
       "    .dataframe tbody tr th:only-of-type {\n",
       "        vertical-align: middle;\n",
       "    }\n",
       "\n",
       "    .dataframe tbody tr th {\n",
       "        vertical-align: top;\n",
       "    }\n",
       "\n",
       "    .dataframe thead th {\n",
       "        text-align: right;\n",
       "    }\n",
       "</style>\n",
       "<table border=\"1\" class=\"dataframe\">\n",
       "  <thead>\n",
       "    <tr style=\"text-align: right;\">\n",
       "      <th></th>\n",
       "      <th>Title</th>\n",
       "      <th>Year</th>\n",
       "      <th>Popularity</th>\n",
       "      <th>Duration</th>\n",
       "      <th>Key</th>\n",
       "      <th>Mode</th>\n",
       "      <th>Valence</th>\n",
       "      <th>Danceability</th>\n",
       "      <th>Acousticness</th>\n",
       "      <th>Liveness</th>\n",
       "      <th>Top 50 (Rolling Stone)</th>\n",
       "    </tr>\n",
       "  </thead>\n",
       "  <tbody>\n",
       "    <tr>\n",
       "      <th>106</th>\n",
       "      <td>I Me Mine</td>\n",
       "      <td>1970.0</td>\n",
       "      <td>57.0</td>\n",
       "      <td>145.0</td>\n",
       "      <td>9.0</td>\n",
       "      <td>0.0</td>\n",
       "      <td>0.525</td>\n",
       "      <td>0.291</td>\n",
       "      <td>0.17900</td>\n",
       "      <td>0.1010</td>\n",
       "      <td>0.0</td>\n",
       "    </tr>\n",
       "    <tr>\n",
       "      <th>77</th>\n",
       "      <td>Golden Slumbers</td>\n",
       "      <td>1969.0</td>\n",
       "      <td>70.0</td>\n",
       "      <td>91.0</td>\n",
       "      <td>0.0</td>\n",
       "      <td>1.0</td>\n",
       "      <td>0.239</td>\n",
       "      <td>0.419</td>\n",
       "      <td>0.32600</td>\n",
       "      <td>0.1130</td>\n",
       "      <td>0.0</td>\n",
       "    </tr>\n",
       "    <tr>\n",
       "      <th>235</th>\n",
       "      <td>The End</td>\n",
       "      <td>1969.0</td>\n",
       "      <td>59.0</td>\n",
       "      <td>140.0</td>\n",
       "      <td>11.0</td>\n",
       "      <td>0.0</td>\n",
       "      <td>0.222</td>\n",
       "      <td>0.647</td>\n",
       "      <td>0.00101</td>\n",
       "      <td>0.1380</td>\n",
       "      <td>0.0</td>\n",
       "    </tr>\n",
       "    <tr>\n",
       "      <th>38</th>\n",
       "      <td>Carry That Weight</td>\n",
       "      <td>1969.0</td>\n",
       "      <td>62.0</td>\n",
       "      <td>96.0</td>\n",
       "      <td>0.0</td>\n",
       "      <td>1.0</td>\n",
       "      <td>0.704</td>\n",
       "      <td>0.543</td>\n",
       "      <td>0.22600</td>\n",
       "      <td>0.2980</td>\n",
       "      <td>0.0</td>\n",
       "    </tr>\n",
       "    <tr>\n",
       "      <th>255</th>\n",
       "      <td>Two of Us</td>\n",
       "      <td>1969.0</td>\n",
       "      <td>61.0</td>\n",
       "      <td>213.0</td>\n",
       "      <td>7.0</td>\n",
       "      <td>1.0</td>\n",
       "      <td>0.931</td>\n",
       "      <td>0.726</td>\n",
       "      <td>0.09740</td>\n",
       "      <td>0.2390</td>\n",
       "      <td>0.0</td>\n",
       "    </tr>\n",
       "    <tr>\n",
       "      <th>181</th>\n",
       "      <td>Oh! Darling</td>\n",
       "      <td>1969.0</td>\n",
       "      <td>69.0</td>\n",
       "      <td>206.0</td>\n",
       "      <td>4.0</td>\n",
       "      <td>1.0</td>\n",
       "      <td>0.549</td>\n",
       "      <td>0.422</td>\n",
       "      <td>0.01260</td>\n",
       "      <td>0.2680</td>\n",
       "      <td>0.0</td>\n",
       "    </tr>\n",
       "    <tr>\n",
       "      <th>43</th>\n",
       "      <td>Come Together</td>\n",
       "      <td>1969.0</td>\n",
       "      <td>81.0</td>\n",
       "      <td>258.0</td>\n",
       "      <td>9.0</td>\n",
       "      <td>0.0</td>\n",
       "      <td>0.187</td>\n",
       "      <td>0.533</td>\n",
       "      <td>0.03020</td>\n",
       "      <td>0.0926</td>\n",
       "      <td>9.0</td>\n",
       "    </tr>\n",
       "    <tr>\n",
       "      <th>44</th>\n",
       "      <td>Come and Get It</td>\n",
       "      <td>1969.0</td>\n",
       "      <td>33.0</td>\n",
       "      <td>150.0</td>\n",
       "      <td>4.0</td>\n",
       "      <td>1.0</td>\n",
       "      <td>0.545</td>\n",
       "      <td>0.603</td>\n",
       "      <td>0.00186</td>\n",
       "      <td>0.1290</td>\n",
       "      <td>0.0</td>\n",
       "    </tr>\n",
       "    <tr>\n",
       "      <th>182</th>\n",
       "      <td>Old Brown Shoe</td>\n",
       "      <td>1969.0</td>\n",
       "      <td>38.0</td>\n",
       "      <td>196.0</td>\n",
       "      <td>1.0</td>\n",
       "      <td>1.0</td>\n",
       "      <td>0.396</td>\n",
       "      <td>0.529</td>\n",
       "      <td>0.00171</td>\n",
       "      <td>0.1790</td>\n",
       "      <td>0.0</td>\n",
       "    </tr>\n",
       "    <tr>\n",
       "      <th>183</th>\n",
       "      <td>One After 909</td>\n",
       "      <td>1969.0</td>\n",
       "      <td>51.0</td>\n",
       "      <td>172.0</td>\n",
       "      <td>4.0</td>\n",
       "      <td>1.0</td>\n",
       "      <td>0.888</td>\n",
       "      <td>0.554</td>\n",
       "      <td>0.03070</td>\n",
       "      <td>0.9070</td>\n",
       "      <td>0.0</td>\n",
       "    </tr>\n",
       "  </tbody>\n",
       "</table>\n",
       "</div>"
      ],
      "text/plain": [
       "                 Title    Year  Popularity  Duration   Key  Mode  Valence  \\\n",
       "106          I Me Mine  1970.0        57.0     145.0   9.0   0.0    0.525   \n",
       "77     Golden Slumbers  1969.0        70.0      91.0   0.0   1.0    0.239   \n",
       "235            The End  1969.0        59.0     140.0  11.0   0.0    0.222   \n",
       "38   Carry That Weight  1969.0        62.0      96.0   0.0   1.0    0.704   \n",
       "255          Two of Us  1969.0        61.0     213.0   7.0   1.0    0.931   \n",
       "181        Oh! Darling  1969.0        69.0     206.0   4.0   1.0    0.549   \n",
       "43       Come Together  1969.0        81.0     258.0   9.0   0.0    0.187   \n",
       "44     Come and Get It  1969.0        33.0     150.0   4.0   1.0    0.545   \n",
       "182     Old Brown Shoe  1969.0        38.0     196.0   1.0   1.0    0.396   \n",
       "183      One After 909  1969.0        51.0     172.0   4.0   1.0    0.888   \n",
       "\n",
       "     Danceability  Acousticness  Liveness  Top 50 (Rolling Stone)  \n",
       "106         0.291       0.17900    0.1010                     0.0  \n",
       "77          0.419       0.32600    0.1130                     0.0  \n",
       "235         0.647       0.00101    0.1380                     0.0  \n",
       "38          0.543       0.22600    0.2980                     0.0  \n",
       "255         0.726       0.09740    0.2390                     0.0  \n",
       "181         0.422       0.01260    0.2680                     0.0  \n",
       "43          0.533       0.03020    0.0926                     9.0  \n",
       "44          0.603       0.00186    0.1290                     0.0  \n",
       "182         0.529       0.00171    0.1790                     0.0  \n",
       "183         0.554       0.03070    0.9070                     0.0  "
      ]
     },
     "execution_count": 9,
     "metadata": {},
     "output_type": "execute_result"
    }
   ],
   "source": [
    "# Basic analyse\n",
    "print(\"Basic information\")\n",
    "dt.head(10)"
   ]
  },
  {
   "cell_type": "code",
   "execution_count": 10,
   "id": "ec742ad6-2b0f-4816-a82d-09b1dc60d962",
   "metadata": {},
   "outputs": [
    {
     "name": "stdout",
     "output_type": "stream",
     "text": [
      "I have sorted dataset by year, deleted some columns that do not suit for my purposes,\n",
      " replaced NaNs in column Top 50 (Rolling Stones) with 0 \n",
      " and deleted songs without realise date (there was only 8, so it did not influence the data).\n",
      "Strings: 275\n",
      "Here is some basic data about the dataset:\n"
     ]
    },
    {
     "data": {
      "text/html": [
       "<div>\n",
       "<style scoped>\n",
       "    .dataframe tbody tr th:only-of-type {\n",
       "        vertical-align: middle;\n",
       "    }\n",
       "\n",
       "    .dataframe tbody tr th {\n",
       "        vertical-align: top;\n",
       "    }\n",
       "\n",
       "    .dataframe thead th {\n",
       "        text-align: right;\n",
       "    }\n",
       "</style>\n",
       "<table border=\"1\" class=\"dataframe\">\n",
       "  <thead>\n",
       "    <tr style=\"text-align: right;\">\n",
       "      <th></th>\n",
       "      <th>Year</th>\n",
       "      <th>Popularity</th>\n",
       "      <th>Duration</th>\n",
       "      <th>Key</th>\n",
       "      <th>Mode</th>\n",
       "      <th>Valence</th>\n",
       "      <th>Danceability</th>\n",
       "      <th>Acousticness</th>\n",
       "      <th>Liveness</th>\n",
       "      <th>Top 50 (Rolling Stone)</th>\n",
       "    </tr>\n",
       "  </thead>\n",
       "  <tbody>\n",
       "    <tr>\n",
       "      <th>count</th>\n",
       "      <td>275.000000</td>\n",
       "      <td>275.000000</td>\n",
       "      <td>275.000000</td>\n",
       "      <td>275.000000</td>\n",
       "      <td>275.000000</td>\n",
       "      <td>275.000000</td>\n",
       "      <td>275.000000</td>\n",
       "      <td>275.000000</td>\n",
       "      <td>275.000000</td>\n",
       "      <td>275.000000</td>\n",
       "    </tr>\n",
       "    <tr>\n",
       "      <th>mean</th>\n",
       "      <td>1965.421818</td>\n",
       "      <td>50.585455</td>\n",
       "      <td>158.454545</td>\n",
       "      <td>4.949091</td>\n",
       "      <td>0.854545</td>\n",
       "      <td>0.695957</td>\n",
       "      <td>0.529382</td>\n",
       "      <td>0.385621</td>\n",
       "      <td>0.226424</td>\n",
       "      <td>4.552727</td>\n",
       "    </tr>\n",
       "    <tr>\n",
       "      <th>std</th>\n",
       "      <td>2.441333</td>\n",
       "      <td>14.315111</td>\n",
       "      <td>56.614853</td>\n",
       "      <td>3.368644</td>\n",
       "      <td>0.353201</td>\n",
       "      <td>0.232059</td>\n",
       "      <td>0.130986</td>\n",
       "      <td>0.287278</td>\n",
       "      <td>0.199454</td>\n",
       "      <td>11.572681</td>\n",
       "    </tr>\n",
       "    <tr>\n",
       "      <th>min</th>\n",
       "      <td>1958.000000</td>\n",
       "      <td>22.000000</td>\n",
       "      <td>23.000000</td>\n",
       "      <td>0.000000</td>\n",
       "      <td>0.000000</td>\n",
       "      <td>0.037800</td>\n",
       "      <td>0.146000</td>\n",
       "      <td>0.000028</td>\n",
       "      <td>0.037100</td>\n",
       "      <td>0.000000</td>\n",
       "    </tr>\n",
       "    <tr>\n",
       "      <th>25%</th>\n",
       "      <td>1963.000000</td>\n",
       "      <td>40.000000</td>\n",
       "      <td>128.000000</td>\n",
       "      <td>2.000000</td>\n",
       "      <td>1.000000</td>\n",
       "      <td>0.567000</td>\n",
       "      <td>0.440000</td>\n",
       "      <td>0.115500</td>\n",
       "      <td>0.100000</td>\n",
       "      <td>0.000000</td>\n",
       "    </tr>\n",
       "    <tr>\n",
       "      <th>50%</th>\n",
       "      <td>1965.000000</td>\n",
       "      <td>52.000000</td>\n",
       "      <td>149.000000</td>\n",
       "      <td>4.000000</td>\n",
       "      <td>1.000000</td>\n",
       "      <td>0.740000</td>\n",
       "      <td>0.540000</td>\n",
       "      <td>0.346000</td>\n",
       "      <td>0.142000</td>\n",
       "      <td>0.000000</td>\n",
       "    </tr>\n",
       "    <tr>\n",
       "      <th>75%</th>\n",
       "      <td>1968.000000</td>\n",
       "      <td>60.000000</td>\n",
       "      <td>175.000000</td>\n",
       "      <td>8.500000</td>\n",
       "      <td>1.000000</td>\n",
       "      <td>0.886500</td>\n",
       "      <td>0.629000</td>\n",
       "      <td>0.629000</td>\n",
       "      <td>0.281000</td>\n",
       "      <td>0.000000</td>\n",
       "    </tr>\n",
       "    <tr>\n",
       "      <th>max</th>\n",
       "      <td>1970.000000</td>\n",
       "      <td>87.000000</td>\n",
       "      <td>502.000000</td>\n",
       "      <td>11.000000</td>\n",
       "      <td>1.000000</td>\n",
       "      <td>0.979000</td>\n",
       "      <td>0.880000</td>\n",
       "      <td>0.992000</td>\n",
       "      <td>0.926000</td>\n",
       "      <td>50.000000</td>\n",
       "    </tr>\n",
       "  </tbody>\n",
       "</table>\n",
       "</div>"
      ],
      "text/plain": [
       "              Year  Popularity    Duration         Key        Mode  \\\n",
       "count   275.000000  275.000000  275.000000  275.000000  275.000000   \n",
       "mean   1965.421818   50.585455  158.454545    4.949091    0.854545   \n",
       "std       2.441333   14.315111   56.614853    3.368644    0.353201   \n",
       "min    1958.000000   22.000000   23.000000    0.000000    0.000000   \n",
       "25%    1963.000000   40.000000  128.000000    2.000000    1.000000   \n",
       "50%    1965.000000   52.000000  149.000000    4.000000    1.000000   \n",
       "75%    1968.000000   60.000000  175.000000    8.500000    1.000000   \n",
       "max    1970.000000   87.000000  502.000000   11.000000    1.000000   \n",
       "\n",
       "          Valence  Danceability  Acousticness    Liveness  \\\n",
       "count  275.000000    275.000000    275.000000  275.000000   \n",
       "mean     0.695957      0.529382      0.385621    0.226424   \n",
       "std      0.232059      0.130986      0.287278    0.199454   \n",
       "min      0.037800      0.146000      0.000028    0.037100   \n",
       "25%      0.567000      0.440000      0.115500    0.100000   \n",
       "50%      0.740000      0.540000      0.346000    0.142000   \n",
       "75%      0.886500      0.629000      0.629000    0.281000   \n",
       "max      0.979000      0.880000      0.992000    0.926000   \n",
       "\n",
       "       Top 50 (Rolling Stone)  \n",
       "count              275.000000  \n",
       "mean                 4.552727  \n",
       "std                 11.572681  \n",
       "min                  0.000000  \n",
       "25%                  0.000000  \n",
       "50%                  0.000000  \n",
       "75%                  0.000000  \n",
       "max                 50.000000  "
      ]
     },
     "execution_count": 10,
     "metadata": {},
     "output_type": "execute_result"
    }
   ],
   "source": [
    "print('''I have sorted dataset by year, deleted some columns that do not suit for my purposes,\n",
    " replaced NaNs in column Top 50 (Rolling Stones) with 0 \n",
    " and deleted songs without realise date (there was only 8, so it did not influence the data).''')\n",
    "print(f\"Strings: {len(dt)}\")\n",
    "print(\"Here is some basic data about the dataset:\")\n",
    "dt.describe()"
   ]
  },
  {
   "cell_type": "code",
   "execution_count": 16,
   "id": "f2962ec1-1500-42bc-9c35-b96bed18060c",
   "metadata": {},
   "outputs": [
    {
     "data": {
      "application/vnd.plotly.v1+json": {
       "config": {
        "plotlyServerURL": "https://plot.ly"
       },
       "data": [
        {
         "alignmentgroup": "True",
         "hovertemplate": "Name=%{x}<br>Popularity=%{y}<br>Year=%{marker.color}<extra></extra>",
         "legendgroup": "",
         "marker": {
          "color": [
           1963,
           1963,
           1963,
           1963,
           1963,
           1963,
           1963,
           1963,
           1964,
           1969,
           1963,
           1963,
           1963,
           1963,
           1963,
           1960,
           1963,
           1963,
           1964,
           1963,
           1968,
           1969,
           1969,
           1968,
           1963,
           1963,
           1969,
           1963,
           1963,
           1963,
           1963,
           1968,
           1963,
           1960,
           1962,
           1963,
           1968,
           1963,
           1964,
           1960,
           1963,
           1965,
           1965,
           1962,
           1964,
           1964,
           1969,
           1968,
           1962,
           1962,
           1963,
           1961,
           1965,
           1969,
           1963,
           1963,
           1961,
           1963,
           1968,
           1958,
           1964,
           1962,
           1969,
           1961,
           1968,
           1963,
           1964,
           1966,
           1969,
           1967,
           1964,
           1965,
           1968,
           1965,
           1968,
           1963,
           1963,
           1963,
           1963,
           1964,
           1965,
           1967,
           1958,
           1964,
           1967,
           1965,
           1964,
           1967,
           1969,
           1965,
           1964,
           1964,
           1964,
           1963,
           1964,
           1964,
           1968,
           1964,
           1964,
           1969,
           1964,
           1969,
           1964,
           1963,
           1963,
           1965,
           1964,
           1963,
           1965,
           1963,
           1968,
           1965,
           1964,
           1963,
           1963,
           1968,
           1968,
           1963,
           1963,
           1964,
           1969,
           1964,
           1969,
           1963,
           1963,
           1965,
           1964,
           1968,
           1968,
           1968,
           1968,
           1968,
           1967,
           1965,
           1962,
           1969,
           1968,
           1966,
           1968,
           1967,
           1968,
           1966,
           1966,
           1964,
           1967,
           1964,
           1967,
           1963,
           1968,
           1966,
           1968,
           1967,
           1968,
           1962,
           1963,
           1968,
           1967,
           1965,
           1963,
           1969,
           1963,
           1967,
           1964,
           1965,
           1968,
           1965,
           1965,
           1963,
           1965,
           1964,
           1963,
           1963,
           1963,
           1967,
           1965,
           1966,
           1968,
           1967,
           1964,
           1965,
           1967,
           1967,
           1965,
           1970,
           1968,
           1965,
           1964,
           1968,
           1965,
           1965,
           1968,
           1969,
           1967,
           1963,
           1966,
           1968,
           1968,
           1963,
           1969,
           1966,
           1969,
           1969,
           1964,
           1969,
           1969,
           1967,
           1966,
           1966,
           1967,
           1969,
           1966,
           1965,
           1969,
           1969,
           1968,
           1969,
           1968,
           1962,
           1966,
           1968,
           1969,
           1967,
           1968,
           1967,
           1967,
           1968,
           1966,
           1969,
           1967,
           1965,
           1965,
           1963,
           1963,
           1966,
           1965,
           1964,
           1966,
           1969,
           1967,
           1968,
           1969,
           1966,
           1965,
           1968,
           1965,
           1967,
           1964,
           1964,
           1969,
           1967,
           1969,
           1964,
           1969,
           1965,
           1966,
           1964,
           1966,
           1962,
           1963,
           1966,
           1963,
           1965,
           1964,
           1968,
           1968,
           1965,
           1965,
           1969,
           1968,
           1965,
           1965,
           1963,
           1969,
           1969,
           1969
          ],
          "coloraxis": "coloraxis",
          "pattern": {
           "shape": ""
          }
         },
         "name": "",
         "offsetgroup": "",
         "orientation": "v",
         "showlegend": false,
         "textposition": "auto",
         "type": "bar",
         "x": [
          "Memphis, Tennessee",
          "Sure to Fall (In Love with You)",
          "Ooh! My Soul",
          "I Got to Find My Baby",
          "So How Come (No One Loves Me)",
          "Beautiful Dreamer",
          "Moonlight Bay",
          "Glad All Over",
          "I Forgot to Remember to Forget",
          "Her Majesty",
          "I Just Don't Understand",
          "Lucille",
          "Nothin' Shakin' (But the Leaves on the Trees)",
          "I'm Talking About You",
          "Clarabella",
          "You'll Be Mine",
          "Carol",
          "Lend Me Your Comb",
          "You Know What to Do",
          "I'm Gonna Sit Right Down and Cry (Over You)",
          "What's the New Mary Jane",
          "Teddy Boy",
          "Mailman, Bring Me No More Blues",
          "Step Inside Love / Los Paranoias",
          "Lonesome Tears in My Eyes",
          "That's All Right (Mama)",
          "Rip It Up / Shake, Rattle, and Roll / Blue Suede Shoes",
          "Young Blood",
          "Sweet Little Sixteen",
          "Too Much Monkey Business",
          "Crying, Waiting, Hoping",
          "Circles - Esher Demo",
          "The Honeymoon Song",
          "Hallelujah, I Love Her So",
          "Searchin'",
          "Don't Ever Change",
          "Sour Milk Sea - Esher Demo",
          "Keep Your Hands Off My Baby",
          "Leave My Kitten Alone",
          "Cayenne",
          "I Got a Woman",
          "12-bar Original",
          "If You've Got Trouble",
          "The Sheik of Araby",
          "Johnny B. Goode",
          "Shout",
          "Come and Get It",
          "Not Guilty",
          "Three Cool Cats",
          "Hello Little Girl",
          "I'll Be on My Way",
          "Cry for a Shadow",
          "That Means a Lot",
          "All Things Must Pass",
          "A Shot of Rhythm and Blues",
          "To Know Her Is to Love Her",
          "My Bonnie",
          "Some Other Guy",
          "Junk",
          "That'll Be the Day",
          "Matchbox",
          "Like Dreamers Do",
          "Old Brown Shoe",
          "Ain't She Sweet",
          "Lady Madonna",
          "Soldier of Love (Lay Down Your Arms)",
          "Slow Down",
          "Paperback Writer",
          "The Ballad of John and Yoko",
          "You Know My Name (Look Up the Number)",
          "I Feel Fine",
          "Bad Boy",
          "The Inner Light",
          "We Can Work It Out",
          "Revolution",
          "I Want to Hold Your Hand",
          "Thank You Girl",
          "I'll Get You",
          "From Me to You",
          "I Call Your Name",
          "I'm Down",
          "Only a Northern Song",
          "In Spite of All the Danger",
          "Long Tall Sally",
          "It's All Too Much",
          "Day Tripper",
          "She's a Woman",
          "All Together Now",
          "Goodbye",
          "Yes It Is",
          "I Don't Want to Spoil the Party",
          "Honey Don't",
          "Everybody's Trying to Be My Baby",
          "Little Child",
          "Kansas City / Hey, Hey, Hey, Hey",
          "When I Get Home",
          "Revolution 9",
          "What You're Doing",
          "Mr. Moonlight",
          "Dig It",
          "Baby's in Black",
          "Don't Let Me Down",
          "Every Little Thing",
          "Not a Second Time",
          "Devil in Her Heart",
          "Tell Me What You See",
          "I'll Cry Instead",
          "I Wanna Be Your Man",
          "Dizzy Miss Lizzy",
          "Chains",
          "Savoy Truffle",
          "You Like Me Too Much",
          "I'm a Loser",
          "Hold Me Tight",
          "A Taste of Honey",
          "Good Night",
          "Hey Jude",
          "Money (That's What I Want)",
          "Boys",
          "You Can't Do That",
          "One After 909",
          "Words of Love",
          "Maggie Mae",
          "There's a Place",
          "She Loves You",
          "Act Naturally",
          "Tell Me Why",
          "Don't Pass Me By",
          "Cry Baby Cry",
          "Wild Honey Pie",
          "Why Don't We Do It in the Road?",
          "Piggies",
          "Sgt. Pepper's Lonely Hearts Club Band (Reprise)",
          "Another Girl",
          "Ask Me Why",
          "For You Blue",
          "Everybody's Got Something to Hide Except Me and My Monkey",
          "Doctor Robert",
          "Revolution 1",
          "Good Morning, Good Morning",
          "Long, Long, Long",
          "I Want to Tell You",
          "Rain",
          "Any Time at All",
          "Flying",
          "I'll Be Back",
          "Blue Jay Way",
          "Don't Bother Me",
          "Honey Pie",
          "Love You to",
          "The Continuing Story of Bungalow Bill",
          "Within You Without You",
          "Sexy Sadie",
          "P.S. I Love You",
          "Misery",
          "Yer Blues",
          "Being for the Benefit of Mr. Kite!",
          "What Goes on",
          "You've Really Got a Hold on Me",
          "Dig a Pony",
          "It Won't Be Long",
          "Baby, You're a Rich Man",
          "No Reply",
          "Wait",
          "Hey Bulldog",
          "The Word",
          "Think for Yourself",
          "All I've Got to Do",
          "Run for Your Life",
          "Rock and Roll Music",
          "Baby It's You",
          "Roll Over Beethoven",
          "This Boy",
          "Lovely Rita",
          "The Night Before",
          "She Said She Said",
          "Martha My Dear",
          "Magical Mystery Tour",
          "Things We Said Today",
          "If I Needed Someone",
          "Getting Better",
          "Fixing a Hole",
          "It's Only Love",
          "I Me Mine",
          "Julia",
          "You Won't See Me",
          "I'm Happy Just to Dance with You",
          "Birthday",
          "You're Going to Lose That Girl",
          "I Need You",
          "Mother Nature's Son",
          "Polythene Pam",
          "Your Mother Should Know",
          "Anna (Go to Him)",
          "And Your Bird Can Sing",
          "Glass Onion",
          "I'm So Tired",
          "Please Mr. Postman",
          "Mean Mr. Mustard",
          "Tomorrow Never Knows",
          "I've Got a Feeling",
          "The End",
          "I Should Have Known Better",
          "Sun King",
          "Because",
          "She's Leaving Home",
          "I'm Only Sleeping",
          "Got to Get You Into My Life",
          "The Fool on the Hill",
          "You Never Give Me Your Money",
          "Taxman",
          "I'm Looking Through You",
          "Two of Us",
          "Maxwell's Silver Hammer",
          "Dear Prudence",
          "She Came in Through the Bathroom Window",
          "Rocky Raccoon",
          "Please Please Me",
          "Yellow Submarine",
          "Happiness Is a Warm Gun",
          "Carry That Weight",
          "Hello, Goodbye",
          "Helter Skelter",
          "Sgt. Pepper's Lonely Hearts Club Band",
          "I Am the Walrus",
          "Back in the U.S.S.R.",
          "Good Day Sunshine",
          "I Want You (She's So Heavy)",
          "A Day in the Life",
          "I've Just Seen a Face",
          "Girl",
          "Till There Was You",
          "Do You Want to Know a Secret?",
          "Penny Lane",
          "Nowhere Man",
          "If I Fell",
          "For No One",
          "Octopus's Garden",
          "All You Need Is Love",
          "I Will",
          "The Long and Winding Road",
          "When I'm Sixty Four",
          "Drive My Car",
          "Across the Universe",
          "Ticket to Ride",
          "With a Little Help From My Friends",
          "Eight Days a Week",
          "I'll Follow the Sun",
          "Oh! Darling",
          "Lucy in the Sky with Diamonds",
          "Get Back",
          "Can't Buy Me Love",
          "Golden Slumbers",
          "Michelle",
          "Here, There and Everywhere",
          "A Hard Day's Night",
          "Strawberry Fields Forever",
          "Love Me Do",
          "I Saw Her Standing There",
          "Eleanor Rigby",
          "All My Loving",
          "You've Got to Hide Your Love Away",
          "And I Love Her",
          "While My Guitar Gently Weeps",
          "Ob-la-di, Ob-la-da",
          "Help!",
          "Norwegian Wood (This Bird Has Flown)",
          "Something",
          "Blackbird",
          "In My Life",
          "Yesterday",
          "Twist and Shout",
          "Come Together",
          "Let It Be",
          "Here Comes the Sun"
         ],
         "xaxis": "x",
         "y": [
          22,
          23,
          24,
          24,
          25,
          25,
          25,
          25,
          26,
          27,
          27,
          27,
          27,
          27,
          27,
          28,
          28,
          28,
          28,
          28,
          28,
          28,
          28,
          28,
          28,
          29,
          29,
          29,
          29,
          30,
          30,
          30,
          30,
          30,
          30,
          30,
          31,
          31,
          31,
          31,
          31,
          31,
          31,
          32,
          33,
          33,
          33,
          33,
          33,
          33,
          33,
          34,
          34,
          35,
          35,
          35,
          35,
          35,
          35,
          36,
          37,
          38,
          38,
          38,
          39,
          39,
          39,
          40,
          40,
          40,
          40,
          40,
          41,
          41,
          41,
          41,
          41,
          42,
          42,
          42,
          43,
          43,
          43,
          44,
          44,
          44,
          45,
          45,
          45,
          46,
          46,
          46,
          46,
          46,
          47,
          47,
          47,
          47,
          48,
          48,
          48,
          48,
          48,
          48,
          49,
          49,
          49,
          49,
          50,
          50,
          50,
          50,
          50,
          50,
          51,
          51,
          51,
          51,
          51,
          51,
          51,
          51,
          51,
          51,
          51,
          52,
          52,
          52,
          52,
          52,
          52,
          52,
          52,
          52,
          52,
          52,
          52,
          52,
          52,
          52,
          52,
          52,
          52,
          52,
          53,
          53,
          53,
          53,
          53,
          53,
          54,
          54,
          54,
          54,
          54,
          54,
          54,
          54,
          54,
          54,
          54,
          55,
          55,
          55,
          55,
          55,
          55,
          55,
          55,
          55,
          56,
          56,
          56,
          56,
          56,
          56,
          56,
          56,
          56,
          56,
          56,
          56,
          56,
          57,
          57,
          57,
          57,
          57,
          57,
          57,
          57,
          57,
          58,
          58,
          58,
          58,
          58,
          58,
          58,
          59,
          59,
          59,
          59,
          59,
          60,
          60,
          60,
          60,
          60,
          60,
          60,
          60,
          61,
          61,
          61,
          61,
          61,
          61,
          61,
          61,
          62,
          63,
          63,
          64,
          64,
          65,
          65,
          65,
          65,
          66,
          66,
          66,
          66,
          67,
          67,
          67,
          67,
          68,
          68,
          68,
          68,
          68,
          69,
          69,
          69,
          69,
          69,
          69,
          69,
          70,
          70,
          70,
          70,
          70,
          70,
          71,
          71,
          71,
          71,
          72,
          73,
          73,
          74,
          74,
          74,
          74,
          75,
          76,
          79,
          79,
          80,
          80,
          81,
          81,
          87
         ],
         "yaxis": "y"
        }
       ],
       "layout": {
        "barmode": "relative",
        "coloraxis": {
         "colorbar": {
          "title": {
           "text": "Year"
          }
         },
         "colorscale": [
          [
           0,
           "#440154"
          ],
          [
           0.1111111111111111,
           "#482878"
          ],
          [
           0.2222222222222222,
           "#3e4989"
          ],
          [
           0.3333333333333333,
           "#31688e"
          ],
          [
           0.4444444444444444,
           "#26828e"
          ],
          [
           0.5555555555555556,
           "#1f9e89"
          ],
          [
           0.6666666666666666,
           "#35b779"
          ],
          [
           0.7777777777777778,
           "#6ece58"
          ],
          [
           0.8888888888888888,
           "#b5de2b"
          ],
          [
           1,
           "#fde725"
          ]
         ]
        },
        "legend": {
         "tracegroupgap": 0
        },
        "margin": {
         "t": 60
        },
        "template": {
         "data": {
          "candlestick": [
           {
            "decreasing": {
             "line": {
              "color": "#000033"
             }
            },
            "increasing": {
             "line": {
              "color": "#000032"
             }
            },
            "type": "candlestick"
           }
          ],
          "contour": [
           {
            "colorscale": [
             [
              0,
              "#000011"
             ],
             [
              0.1111111111111111,
              "#000012"
             ],
             [
              0.2222222222222222,
              "#000013"
             ],
             [
              0.3333333333333333,
              "#000014"
             ],
             [
              0.4444444444444444,
              "#000015"
             ],
             [
              0.5555555555555556,
              "#000016"
             ],
             [
              0.6666666666666666,
              "#000017"
             ],
             [
              0.7777777777777778,
              "#000018"
             ],
             [
              0.8888888888888888,
              "#000019"
             ],
             [
              1,
              "#000020"
             ]
            ],
            "type": "contour"
           }
          ],
          "contourcarpet": [
           {
            "colorscale": [
             [
              0,
              "#000011"
             ],
             [
              0.1111111111111111,
              "#000012"
             ],
             [
              0.2222222222222222,
              "#000013"
             ],
             [
              0.3333333333333333,
              "#000014"
             ],
             [
              0.4444444444444444,
              "#000015"
             ],
             [
              0.5555555555555556,
              "#000016"
             ],
             [
              0.6666666666666666,
              "#000017"
             ],
             [
              0.7777777777777778,
              "#000018"
             ],
             [
              0.8888888888888888,
              "#000019"
             ],
             [
              1,
              "#000020"
             ]
            ],
            "type": "contourcarpet"
           }
          ],
          "heatmap": [
           {
            "colorscale": [
             [
              0,
              "#000011"
             ],
             [
              0.1111111111111111,
              "#000012"
             ],
             [
              0.2222222222222222,
              "#000013"
             ],
             [
              0.3333333333333333,
              "#000014"
             ],
             [
              0.4444444444444444,
              "#000015"
             ],
             [
              0.5555555555555556,
              "#000016"
             ],
             [
              0.6666666666666666,
              "#000017"
             ],
             [
              0.7777777777777778,
              "#000018"
             ],
             [
              0.8888888888888888,
              "#000019"
             ],
             [
              1,
              "#000020"
             ]
            ],
            "type": "heatmap"
           }
          ],
          "histogram2d": [
           {
            "colorscale": [
             [
              0,
              "#000011"
             ],
             [
              0.1111111111111111,
              "#000012"
             ],
             [
              0.2222222222222222,
              "#000013"
             ],
             [
              0.3333333333333333,
              "#000014"
             ],
             [
              0.4444444444444444,
              "#000015"
             ],
             [
              0.5555555555555556,
              "#000016"
             ],
             [
              0.6666666666666666,
              "#000017"
             ],
             [
              0.7777777777777778,
              "#000018"
             ],
             [
              0.8888888888888888,
              "#000019"
             ],
             [
              1,
              "#000020"
             ]
            ],
            "type": "histogram2d"
           }
          ],
          "icicle": [
           {
            "textfont": {
             "color": "white"
            },
            "type": "icicle"
           }
          ],
          "sankey": [
           {
            "textfont": {
             "color": "#000036"
            },
            "type": "sankey"
           }
          ],
          "scatter": [
           {
            "marker": {
             "line": {
              "width": 0
             }
            },
            "type": "scatter"
           }
          ],
          "table": [
           {
            "cells": {
             "fill": {
              "color": "#000038"
             },
             "font": {
              "color": "#000037"
             },
             "line": {
              "color": "#000039"
             }
            },
            "header": {
             "fill": {
              "color": "#000040"
             },
             "font": {
              "color": "#000036"
             },
             "line": {
              "color": "#000039"
             }
            },
            "type": "table"
           }
          ],
          "waterfall": [
           {
            "connector": {
             "line": {
              "color": "#000036",
              "width": 2
             }
            },
            "decreasing": {
             "marker": {
              "color": "#000033"
             }
            },
            "increasing": {
             "marker": {
              "color": "#000032"
             }
            },
            "totals": {
             "marker": {
              "color": "#000034"
             }
            },
            "type": "waterfall"
           }
          ]
         },
         "layout": {
          "coloraxis": {
           "colorscale": [
            [
             0,
             "#000011"
            ],
            [
             0.1111111111111111,
             "#000012"
            ],
            [
             0.2222222222222222,
             "#000013"
            ],
            [
             0.3333333333333333,
             "#000014"
            ],
            [
             0.4444444444444444,
             "#000015"
            ],
            [
             0.5555555555555556,
             "#000016"
            ],
            [
             0.6666666666666666,
             "#000017"
            ],
            [
             0.7777777777777778,
             "#000018"
            ],
            [
             0.8888888888888888,
             "#000019"
            ],
            [
             1,
             "#000020"
            ]
           ]
          },
          "colorscale": {
           "diverging": [
            [
             0,
             "#000021"
            ],
            [
             0.1,
             "#000022"
            ],
            [
             0.2,
             "#000023"
            ],
            [
             0.3,
             "#000024"
            ],
            [
             0.4,
             "#000025"
            ],
            [
             0.5,
             "#000026"
            ],
            [
             0.6,
             "#000027"
            ],
            [
             0.7,
             "#000028"
            ],
            [
             0.8,
             "#000029"
            ],
            [
             0.9,
             "#000030"
            ],
            [
             1,
             "#000031"
            ]
           ],
           "sequential": [
            [
             0,
             "#000011"
            ],
            [
             0.1111111111111111,
             "#000012"
            ],
            [
             0.2222222222222222,
             "#000013"
            ],
            [
             0.3333333333333333,
             "#000014"
            ],
            [
             0.4444444444444444,
             "#000015"
            ],
            [
             0.5555555555555556,
             "#000016"
            ],
            [
             0.6666666666666666,
             "#000017"
            ],
            [
             0.7777777777777778,
             "#000018"
            ],
            [
             0.8888888888888888,
             "#000019"
            ],
            [
             1,
             "#000020"
            ]
           ],
           "sequentialminus": [
            [
             0,
             "#000011"
            ],
            [
             0.1111111111111111,
             "#000012"
            ],
            [
             0.2222222222222222,
             "#000013"
            ],
            [
             0.3333333333333333,
             "#000014"
            ],
            [
             0.4444444444444444,
             "#000015"
            ],
            [
             0.5555555555555556,
             "#000016"
            ],
            [
             0.6666666666666666,
             "#000017"
            ],
            [
             0.7777777777777778,
             "#000018"
            ],
            [
             0.8888888888888888,
             "#000019"
            ],
            [
             1,
             "#000020"
            ]
           ]
          },
          "colorway": [
           "#000001",
           "#000002",
           "#000003",
           "#000004",
           "#000005",
           "#000006",
           "#000007",
           "#000008",
           "#000009",
           "#000010"
          ]
         }
        },
        "xaxis": {
         "anchor": "y",
         "domain": [
          0,
          1
         ],
         "title": {
          "text": "Name"
         }
        },
        "yaxis": {
         "anchor": "x",
         "domain": [
          0,
          1
         ],
         "title": {
          "text": "Popularity"
         }
        }
       }
      },
      "image/png": "[encoded data removed]",
      "text/html": [
       "<div>                            <div id=\"d10961d7-8d1d-45d1-9804-04998990a7d0\" class=\"plotly-graph-div\" style=\"height:525px; width:100%;\"></div>            <script type=\"text/javascript\">                require([\"plotly\"], function(Plotly) {                    window.PLOTLYENV=window.PLOTLYENV || {};                                    if (document.getElementById(\"d10961d7-8d1d-45d1-9804-04998990a7d0\")) {                    Plotly.newPlot(                        \"d10961d7-8d1d-45d1-9804-04998990a7d0\",                        [{\"alignmentgroup\":\"True\",\"hovertemplate\":\"Name=%{x}\\u003cbr\\u003ePopularity=%{y}\\u003cbr\\u003eYear=%{marker.color}\\u003cextra\\u003e\\u003c\\u002fextra\\u003e\",\"legendgroup\":\"\",\"marker\":{\"color\":[1963.0,1963.0,1963.0,1963.0,1963.0,1963.0,1963.0,1963.0,1964.0,1969.0,1963.0,1963.0,1963.0,1963.0,1963.0,1960.0,1963.0,1963.0,1964.0,1963.0,1968.0,1969.0,1969.0,1968.0,1963.0,1963.0,1969.0,1963.0,1963.0,1963.0,1963.0,1968.0,1963.0,1960.0,1962.0,1963.0,1968.0,1963.0,1964.0,1960.0,1963.0,1965.0,1965.0,1962.0,1964.0,1964.0,1969.0,1968.0,1962.0,1962.0,1963.0,1961.0,1965.0,1969.0,1963.0,1963.0,1961.0,1963.0,1968.0,1958.0,1964.0,1962.0,1969.0,1961.0,1968.0,1963.0,1964.0,1966.0,1969.0,1967.0,1964.0,1965.0,1968.0,1965.0,1968.0,1963.0,1963.0,1963.0,1963.0,1964.0,1965.0,1967.0,1958.0,1964.0,1967.0,1965.0,1964.0,1967.0,1969.0,1965.0,1964.0,1964.0,1964.0,1963.0,1964.0,1964.0,1968.0,1964.0,1964.0,1969.0,1964.0,1969.0,1964.0,1963.0,1963.0,1965.0,1964.0,1963.0,1965.0,1963.0,1968.0,1965.0,1964.0,1963.0,1963.0,1968.0,1968.0,1963.0,1963.0,1964.0,1969.0,1964.0,1969.0,1963.0,1963.0,1965.0,1964.0,1968.0,1968.0,1968.0,1968.0,1968.0,1967.0,1965.0,1962.0,1969.0,1968.0,1966.0,1968.0,1967.0,1968.0,1966.0,1966.0,1964.0,1967.0,1964.0,1967.0,1963.0,1968.0,1966.0,1968.0,1967.0,1968.0,1962.0,1963.0,1968.0,1967.0,1965.0,1963.0,1969.0,1963.0,1967.0,1964.0,1965.0,1968.0,1965.0,1965.0,1963.0,1965.0,1964.0,1963.0,1963.0,1963.0,1967.0,1965.0,1966.0,1968.0,1967.0,1964.0,1965.0,1967.0,1967.0,1965.0,1970.0,1968.0,1965.0,1964.0,1968.0,1965.0,1965.0,1968.0,1969.0,1967.0,1963.0,1966.0,1968.0,1968.0,1963.0,1969.0,1966.0,1969.0,1969.0,1964.0,1969.0,1969.0,1967.0,1966.0,1966.0,1967.0,1969.0,1966.0,1965.0,1969.0,1969.0,1968.0,1969.0,1968.0,1962.0,1966.0,1968.0,1969.0,1967.0,1968.0,1967.0,1967.0,1968.0,1966.0,1969.0,1967.0,1965.0,1965.0,1963.0,1963.0,1966.0,1965.0,1964.0,1966.0,1969.0,1967.0,1968.0,1969.0,1966.0,1965.0,1968.0,1965.0,1967.0,1964.0,1964.0,1969.0,1967.0,1969.0,1964.0,1969.0,1965.0,1966.0,1964.0,1966.0,1962.0,1963.0,1966.0,1963.0,1965.0,1964.0,1968.0,1968.0,1965.0,1965.0,1969.0,1968.0,1965.0,1965.0,1963.0,1969.0,1969.0,1969.0],\"coloraxis\":\"coloraxis\",\"pattern\":{\"shape\":\"\"}},\"name\":\"\",\"offsetgroup\":\"\",\"orientation\":\"v\",\"showlegend\":false,\"textposition\":\"auto\",\"x\":[\"Memphis, Tennessee\",\"Sure to Fall (In Love with You)\",\"Ooh! My Soul\",\"I Got to Find My Baby\",\"So How Come (No One Loves Me)\",\"Beautiful Dreamer\",\"Moonlight Bay\",\"Glad All Over\",\"I Forgot to Remember to Forget\",\"Her Majesty\",\"I Just Don't Understand\",\"Lucille\",\"Nothin' Shakin' (But the Leaves on the Trees)\",\"I'm Talking About You\",\"Clarabella\",\"You'll Be Mine\",\"Carol\",\"Lend Me Your Comb\",\"You Know What to Do\",\"I'm Gonna Sit Right Down and Cry (Over You)\",\"What's the New Mary Jane\",\"Teddy Boy\",\"Mailman, Bring Me No More Blues\",\"Step Inside Love \\u002f Los Paranoias\",\"Lonesome Tears in My Eyes\",\"That's All Right (Mama)\",\"Rip It Up \\u002f Shake, Rattle, and Roll \\u002f Blue Suede Shoes\",\"Young Blood\",\"Sweet Little Sixteen\",\"Too Much Monkey Business\",\"Crying, Waiting, Hoping\",\"Circles - Esher Demo\",\"The Honeymoon Song\",\"Hallelujah, I Love Her So\",\"Searchin'\",\"Don't Ever Change\",\"Sour Milk Sea - Esher Demo\",\"Keep Your Hands Off My Baby\",\"Leave My Kitten Alone\",\"Cayenne\",\"I Got a Woman\",\"12-bar Original\",\"If You've Got Trouble\",\"The Sheik of Araby\",\"Johnny B. Goode\",\"Shout\",\"Come and Get It\",\"Not Guilty\",\"Three Cool Cats\",\"Hello Little Girl\",\"I'll Be on My Way\",\"Cry for a Shadow\",\"That Means a Lot\",\"All Things Must Pass\",\"A Shot of Rhythm and Blues\",\"To Know Her Is to Love Her\",\"My Bonnie\",\"Some Other Guy\",\"Junk\",\"That'll Be the Day\",\"Matchbox\",\"Like Dreamers Do\",\"Old Brown Shoe\",\"Ain't She Sweet\",\"Lady Madonna\",\"Soldier of Love (Lay Down Your Arms)\",\"Slow Down\",\"Paperback Writer\",\"The Ballad of John and Yoko\",\"You Know My Name (Look Up the Number)\",\"I Feel Fine\",\"Bad Boy\",\"The Inner Light\",\"We Can Work It Out\",\"Revolution\",\"I Want to Hold Your Hand\",\"Thank You Girl\",\"I'll Get You\",\"From Me to You\",\"I Call Your Name\",\"I'm Down\",\"Only a Northern Song\",\"In Spite of All the Danger\",\"Long Tall Sally\",\"It's All Too Much\",\"Day Tripper\",\"She's a Woman\",\"All Together Now\",\"Goodbye\",\"Yes It Is\",\"I Don't Want to Spoil the Party\",\"Honey Don't\",\"Everybody's Trying to Be My Baby\",\"Little Child\",\"Kansas City \\u002f Hey, Hey, Hey, Hey\",\"When I Get Home\",\"Revolution 9\",\"What You're Doing\",\"Mr. Moonlight\",\"Dig It\",\"Baby's in Black\",\"Don't Let Me Down\",\"Every Little Thing\",\"Not a Second Time\",\"Devil in Her Heart\",\"Tell Me What You See\",\"I'll Cry Instead\",\"I Wanna Be Your Man\",\"Dizzy Miss Lizzy\",\"Chains\",\"Savoy Truffle\",\"You Like Me Too Much\",\"I'm a Loser\",\"Hold Me Tight\",\"A Taste of Honey\",\"Good Night\",\"Hey Jude\",\"Money (That's What I Want)\",\"Boys\",\"You Can't Do That\",\"One After 909\",\"Words of Love\",\"Maggie Mae\",\"There's a Place\",\"She Loves You\",\"Act Naturally\",\"Tell Me Why\",\"Don't Pass Me By\",\"Cry Baby Cry\",\"Wild Honey Pie\",\"Why Don't We Do It in the Road?\",\"Piggies\",\"Sgt. Pepper's Lonely Hearts Club Band (Reprise)\",\"Another Girl\",\"Ask Me Why\",\"For You Blue\",\"Everybody's Got Something to Hide Except Me and My Monkey\",\"Doctor Robert\",\"Revolution 1\",\"Good Morning, Good Morning\",\"Long, Long, Long\",\"I Want to Tell You\",\"Rain\",\"Any Time at All\",\"Flying\",\"I'll Be Back\",\"Blue Jay Way\",\"Don't Bother Me\",\"Honey Pie\",\"Love You to\",\"The Continuing Story of Bungalow Bill\",\"Within You Without You\",\"Sexy Sadie\",\"P.S. I Love You\",\"Misery\",\"Yer Blues\",\"Being for the Benefit of Mr. Kite!\",\"What Goes on\",\"You've Really Got a Hold on Me\",\"Dig a Pony\",\"It Won't Be Long\",\"Baby, You're a Rich Man\",\"No Reply\",\"Wait\",\"Hey Bulldog\",\"The Word\",\"Think for Yourself\",\"All I've Got to Do\",\"Run for Your Life\",\"Rock and Roll Music\",\"Baby It's You\",\"Roll Over Beethoven\",\"This Boy\",\"Lovely Rita\",\"The Night Before\",\"She Said She Said\",\"Martha My Dear\",\"Magical Mystery Tour\",\"Things We Said Today\",\"If I Needed Someone\",\"Getting Better\",\"Fixing a Hole\",\"It's Only Love\",\"I Me Mine\",\"Julia\",\"You Won't See Me\",\"I'm Happy Just to Dance with You\",\"Birthday\",\"You're Going to Lose That Girl\",\"I Need You\",\"Mother Nature's Son\",\"Polythene Pam\",\"Your Mother Should Know\",\"Anna (Go to Him)\",\"And Your Bird Can Sing\",\"Glass Onion\",\"I'm So Tired\",\"Please Mr. Postman\",\"Mean Mr. Mustard\",\"Tomorrow Never Knows\",\"I've Got a Feeling\",\"The End\",\"I Should Have Known Better\",\"Sun King\",\"Because\",\"She's Leaving Home\",\"I'm Only Sleeping\",\"Got to Get You Into My Life\",\"The Fool on the Hill\",\"You Never Give Me Your Money\",\"Taxman\",\"I'm Looking Through You\",\"Two of Us\",\"Maxwell's Silver Hammer\",\"Dear Prudence\",\"She Came in Through the Bathroom Window\",\"Rocky Raccoon\",\"Please Please Me\",\"Yellow Submarine\",\"Happiness Is a Warm Gun\",\"Carry That Weight\",\"Hello, Goodbye\",\"Helter Skelter\",\"Sgt. Pepper's Lonely Hearts Club Band\",\"I Am the Walrus\",\"Back in the U.S.S.R.\",\"Good Day Sunshine\",\"I Want You (She's So Heavy)\",\"A Day in the Life\",\"I've Just Seen a Face\",\"Girl\",\"Till There Was You\",\"Do You Want to Know a Secret?\",\"Penny Lane\",\"Nowhere Man\",\"If I Fell\",\"For No One\",\"Octopus's Garden\",\"All You Need Is Love\",\"I Will\",\"The Long and Winding Road\",\"When I'm Sixty Four\",\"Drive My Car\",\"Across the Universe\",\"Ticket to Ride\",\"With a Little Help From My Friends\",\"Eight Days a Week\",\"I'll Follow the Sun\",\"Oh! Darling\",\"Lucy in the Sky with Diamonds\",\"Get Back\",\"Can't Buy Me Love\",\"Golden Slumbers\",\"Michelle\",\"Here, There and Everywhere\",\"A Hard Day's Night\",\"Strawberry Fields Forever\",\"Love Me Do\",\"I Saw Her Standing There\",\"Eleanor Rigby\",\"All My Loving\",\"You've Got to Hide Your Love Away\",\"And I Love Her\",\"While My Guitar Gently Weeps\",\"Ob-la-di, Ob-la-da\",\"Help!\",\"Norwegian Wood (This Bird Has Flown)\",\"Something\",\"Blackbird\",\"In My Life\",\"Yesterday\",\"Twist and Shout\",\"Come Together\",\"Let It Be\",\"Here Comes the Sun\"],\"xaxis\":\"x\",\"y\":[22.0,23.0,24.0,24.0,25.0,25.0,25.0,25.0,26.0,27.0,27.0,27.0,27.0,27.0,27.0,28.0,28.0,28.0,28.0,28.0,28.0,28.0,28.0,28.0,28.0,29.0,29.0,29.0,29.0,30.0,30.0,30.0,30.0,30.0,30.0,30.0,31.0,31.0,31.0,31.0,31.0,31.0,31.0,32.0,33.0,33.0,33.0,33.0,33.0,33.0,33.0,34.0,34.0,35.0,35.0,35.0,35.0,35.0,35.0,36.0,37.0,38.0,38.0,38.0,39.0,39.0,39.0,40.0,40.0,40.0,40.0,40.0,41.0,41.0,41.0,41.0,41.0,42.0,42.0,42.0,43.0,43.0,43.0,44.0,44.0,44.0,45.0,45.0,45.0,46.0,46.0,46.0,46.0,46.0,47.0,47.0,47.0,47.0,48.0,48.0,48.0,48.0,48.0,48.0,49.0,49.0,49.0,49.0,50.0,50.0,50.0,50.0,50.0,50.0,51.0,51.0,51.0,51.0,51.0,51.0,51.0,51.0,51.0,51.0,51.0,52.0,52.0,52.0,52.0,52.0,52.0,52.0,52.0,52.0,52.0,52.0,52.0,52.0,52.0,52.0,52.0,52.0,52.0,52.0,53.0,53.0,53.0,53.0,53.0,53.0,54.0,54.0,54.0,54.0,54.0,54.0,54.0,54.0,54.0,54.0,54.0,55.0,55.0,55.0,55.0,55.0,55.0,55.0,55.0,55.0,56.0,56.0,56.0,56.0,56.0,56.0,56.0,56.0,56.0,56.0,56.0,56.0,56.0,57.0,57.0,57.0,57.0,57.0,57.0,57.0,57.0,57.0,58.0,58.0,58.0,58.0,58.0,58.0,58.0,59.0,59.0,59.0,59.0,59.0,60.0,60.0,60.0,60.0,60.0,60.0,60.0,60.0,61.0,61.0,61.0,61.0,61.0,61.0,61.0,61.0,62.0,63.0,63.0,64.0,64.0,65.0,65.0,65.0,65.0,66.0,66.0,66.0,66.0,67.0,67.0,67.0,67.0,68.0,68.0,68.0,68.0,68.0,69.0,69.0,69.0,69.0,69.0,69.0,69.0,70.0,70.0,70.0,70.0,70.0,70.0,71.0,71.0,71.0,71.0,72.0,73.0,73.0,74.0,74.0,74.0,74.0,75.0,76.0,79.0,79.0,80.0,80.0,81.0,81.0,87.0],\"yaxis\":\"y\",\"type\":\"bar\"}],                        {\"template\":{\"data\":{\"candlestick\":[{\"decreasing\":{\"line\":{\"color\":\"#000033\"}},\"increasing\":{\"line\":{\"color\":\"#000032\"}},\"type\":\"candlestick\"}],\"contourcarpet\":[{\"colorscale\":[[0.0,\"#000011\"],[0.1111111111111111,\"#000012\"],[0.2222222222222222,\"#000013\"],[0.3333333333333333,\"#000014\"],[0.4444444444444444,\"#000015\"],[0.5555555555555556,\"#000016\"],[0.6666666666666666,\"#000017\"],[0.7777777777777778,\"#000018\"],[0.8888888888888888,\"#000019\"],[1.0,\"#000020\"]],\"type\":\"contourcarpet\"}],\"contour\":[{\"colorscale\":[[0.0,\"#000011\"],[0.1111111111111111,\"#000012\"],[0.2222222222222222,\"#000013\"],[0.3333333333333333,\"#000014\"],[0.4444444444444444,\"#000015\"],[0.5555555555555556,\"#000016\"],[0.6666666666666666,\"#000017\"],[0.7777777777777778,\"#000018\"],[0.8888888888888888,\"#000019\"],[1.0,\"#000020\"]],\"type\":\"contour\"}],\"heatmap\":[{\"colorscale\":[[0.0,\"#000011\"],[0.1111111111111111,\"#000012\"],[0.2222222222222222,\"#000013\"],[0.3333333333333333,\"#000014\"],[0.4444444444444444,\"#000015\"],[0.5555555555555556,\"#000016\"],[0.6666666666666666,\"#000017\"],[0.7777777777777778,\"#000018\"],[0.8888888888888888,\"#000019\"],[1.0,\"#000020\"]],\"type\":\"heatmap\"}],\"histogram2d\":[{\"colorscale\":[[0.0,\"#000011\"],[0.1111111111111111,\"#000012\"],[0.2222222222222222,\"#000013\"],[0.3333333333333333,\"#000014\"],[0.4444444444444444,\"#000015\"],[0.5555555555555556,\"#000016\"],[0.6666666666666666,\"#000017\"],[0.7777777777777778,\"#000018\"],[0.8888888888888888,\"#000019\"],[1.0,\"#000020\"]],\"type\":\"histogram2d\"}],\"icicle\":[{\"textfont\":{\"color\":\"white\"},\"type\":\"icicle\"}],\"sankey\":[{\"textfont\":{\"color\":\"#000036\"},\"type\":\"sankey\"}],\"scatter\":[{\"marker\":{\"line\":{\"width\":0}},\"type\":\"scatter\"}],\"table\":[{\"cells\":{\"fill\":{\"color\":\"#000038\"},\"font\":{\"color\":\"#000037\"},\"line\":{\"color\":\"#000039\"}},\"header\":{\"fill\":{\"color\":\"#000040\"},\"font\":{\"color\":\"#000036\"},\"line\":{\"color\":\"#000039\"}},\"type\":\"table\"}],\"waterfall\":[{\"connector\":{\"line\":{\"color\":\"#000036\",\"width\":2}},\"decreasing\":{\"marker\":{\"color\":\"#000033\"}},\"increasing\":{\"marker\":{\"color\":\"#000032\"}},\"totals\":{\"marker\":{\"color\":\"#000034\"}},\"type\":\"waterfall\"}]},\"layout\":{\"coloraxis\":{\"colorscale\":[[0.0,\"#000011\"],[0.1111111111111111,\"#000012\"],[0.2222222222222222,\"#000013\"],[0.3333333333333333,\"#000014\"],[0.4444444444444444,\"#000015\"],[0.5555555555555556,\"#000016\"],[0.6666666666666666,\"#000017\"],[0.7777777777777778,\"#000018\"],[0.8888888888888888,\"#000019\"],[1.0,\"#000020\"]]},\"colorscale\":{\"diverging\":[[0.0,\"#000021\"],[0.1,\"#000022\"],[0.2,\"#000023\"],[0.3,\"#000024\"],[0.4,\"#000025\"],[0.5,\"#000026\"],[0.6,\"#000027\"],[0.7,\"#000028\"],[0.8,\"#000029\"],[0.9,\"#000030\"],[1.0,\"#000031\"]],\"sequential\":[[0.0,\"#000011\"],[0.1111111111111111,\"#000012\"],[0.2222222222222222,\"#000013\"],[0.3333333333333333,\"#000014\"],[0.4444444444444444,\"#000015\"],[0.5555555555555556,\"#000016\"],[0.6666666666666666,\"#000017\"],[0.7777777777777778,\"#000018\"],[0.8888888888888888,\"#000019\"],[1.0,\"#000020\"]],\"sequentialminus\":[[0.0,\"#000011\"],[0.1111111111111111,\"#000012\"],[0.2222222222222222,\"#000013\"],[0.3333333333333333,\"#000014\"],[0.4444444444444444,\"#000015\"],[0.5555555555555556,\"#000016\"],[0.6666666666666666,\"#000017\"],[0.7777777777777778,\"#000018\"],[0.8888888888888888,\"#000019\"],[1.0,\"#000020\"]]},\"colorway\":[\"#000001\",\"#000002\",\"#000003\",\"#000004\",\"#000005\",\"#000006\",\"#000007\",\"#000008\",\"#000009\",\"#000010\"]}},\"xaxis\":{\"anchor\":\"y\",\"domain\":[0.0,1.0],\"title\":{\"text\":\"Name\"}},\"yaxis\":{\"anchor\":\"x\",\"domain\":[0.0,1.0],\"title\":{\"text\":\"Popularity\"}},\"coloraxis\":{\"colorbar\":{\"title\":{\"text\":\"Year\"}},\"colorscale\":[[0.0,\"#440154\"],[0.1111111111111111,\"#482878\"],[0.2222222222222222,\"#3e4989\"],[0.3333333333333333,\"#31688e\"],[0.4444444444444444,\"#26828e\"],[0.5555555555555556,\"#1f9e89\"],[0.6666666666666666,\"#35b779\"],[0.7777777777777778,\"#6ece58\"],[0.8888888888888888,\"#b5de2b\"],[1.0,\"#fde725\"]]},\"legend\":{\"tracegroupgap\":0},\"margin\":{\"t\":60},\"barmode\":\"relative\"},                        {\"responsive\": true}                    ).then(function(){\n",
       "                            \n",
       "var gd = document.getElementById('d10961d7-8d1d-45d1-9804-04998990a7d0');\n",
       "var x = new MutationObserver(function (mutations, observer) {{\n",
       "        var display = window.getComputedStyle(gd).display;\n",
       "        if (!display || display === 'none') {{\n",
       "            console.log([gd, 'removed!']);\n",
       "            Plotly.purge(gd);\n",
       "            observer.disconnect();\n",
       "        }}\n",
       "}});\n",
       "\n",
       "// Listen for the removal of the full notebook cells\n",
       "var notebookContainer = gd.closest('#notebook-container');\n",
       "if (notebookContainer) {{\n",
       "    x.observe(notebookContainer, {childList: true});\n",
       "}}\n",
       "\n",
       "// Listen for the clearing of the current output cell\n",
       "var outputEl = gd.closest('.output');\n",
       "if (outputEl) {{\n",
       "    x.observe(outputEl, {childList: true});\n",
       "}}\n",
       "\n",
       "                        })                };                });            </script>        </div>"
      ]
     },
     "metadata": {},
     "output_type": "display_data"
    }
   ],
   "source": [
    "# 1 Chart\n",
    "# This barchart shows popularity of the songs through the years\n",
    "dt_sort1 = dt.sort_values(by=\"Popularity\", ascending=True)\n",
    "\n",
    "print(\"Popularity of the songs through the years\")\n",
    "fig1 = px.bar(\n",
    "    dt_sort1,\n",
    "    x=\"Title\",\n",
    "    y=\"Popularity\",\n",
    "    color=\"Year\",  # Added color based on Year\n",
    "    color_continuous_scale=\"Viridis\",  # Added palette\n",
    "    labels={\"Title\": \"Name\", \"Popularity\": \"Popularity\"}\n",
    ")\n",
    "fig1.show()\n",
    "print(\"Using this graph we can easily find out the most and the least popular song.\")"
   ]
  },
  {
   "cell_type": "code",
   "execution_count": 18,
   "id": "36d3d17c-2e2c-4208-9bb2-a94dc51dfa7b",
   "metadata": {},
   "outputs": [
    {
     "name": "stdout",
     "output_type": "stream",
     "text": [
      "The ratio of major and minor songs\n"
     ]
    },
    {
     "data": {
      "application/vnd.plotly.v1+json": {
       "config": {
        "plotlyServerURL": "https://plot.ly"
       },
       "data": [
        {
         "domain": {
          "x": [
           0,
           1
          ],
          "y": [
           0,
           1
          ]
         },
         "hovertemplate": "label=%{label}<br>value=%{value}<extra></extra>",
         "labels": [
          "Major",
          "Minor"
         ],
         "legendgroup": "",
         "name": "",
         "showlegend": true,
         "type": "pie",
         "values": [
          235,
          40
         ]
        }
       ],
       "layout": {
        "legend": {
         "tracegroupgap": 0
        },
        "margin": {
         "t": 60
        },
        "piecolorway": [
         "rgb(141,211,199)",
         "rgb(255,255,179)",
         "rgb(190,186,218)",
         "rgb(251,128,114)",
         "rgb(128,177,211)",
         "rgb(253,180,98)",
         "rgb(179,222,105)",
         "rgb(252,205,229)",
         "rgb(217,217,217)",
         "rgb(188,128,189)",
         "rgb(204,235,197)",
         "rgb(255,237,111)"
        ],
        "template": {
         "data": {
          "candlestick": [
           {
            "decreasing": {
             "line": {
              "color": "#000033"
             }
            },
            "increasing": {
             "line": {
              "color": "#000032"
             }
            },
            "type": "candlestick"
           }
          ],
          "contour": [
           {
            "colorscale": [
             [
              0,
              "#000011"
             ],
             [
              0.1111111111111111,
              "#000012"
             ],
             [
              0.2222222222222222,
              "#000013"
             ],
             [
              0.3333333333333333,
              "#000014"
             ],
             [
              0.4444444444444444,
              "#000015"
             ],
             [
              0.5555555555555556,
              "#000016"
             ],
             [
              0.6666666666666666,
              "#000017"
             ],
             [
              0.7777777777777778,
              "#000018"
             ],
             [
              0.8888888888888888,
              "#000019"
             ],
             [
              1,
              "#000020"
             ]
            ],
            "type": "contour"
           }
          ],
          "contourcarpet": [
           {
            "colorscale": [
             [
              0,
              "#000011"
             ],
             [
              0.1111111111111111,
              "#000012"
             ],
             [
              0.2222222222222222,
              "#000013"
             ],
             [
              0.3333333333333333,
              "#000014"
             ],
             [
              0.4444444444444444,
              "#000015"
             ],
             [
              0.5555555555555556,
              "#000016"
             ],
             [
              0.6666666666666666,
              "#000017"
             ],
             [
              0.7777777777777778,
              "#000018"
             ],
             [
              0.8888888888888888,
              "#000019"
             ],
             [
              1,
              "#000020"
             ]
            ],
            "type": "contourcarpet"
           }
          ],
          "heatmap": [
           {
            "colorscale": [
             [
              0,
              "#000011"
             ],
             [
              0.1111111111111111,
              "#000012"
             ],
             [
              0.2222222222222222,
              "#000013"
             ],
             [
              0.3333333333333333,
              "#000014"
             ],
             [
              0.4444444444444444,
              "#000015"
             ],
             [
              0.5555555555555556,
              "#000016"
             ],
             [
              0.6666666666666666,
              "#000017"
             ],
             [
              0.7777777777777778,
              "#000018"
             ],
             [
              0.8888888888888888,
              "#000019"
             ],
             [
              1,
              "#000020"
             ]
            ],
            "type": "heatmap"
           }
          ],
          "histogram2d": [
           {
            "colorscale": [
             [
              0,
              "#000011"
             ],
             [
              0.1111111111111111,
              "#000012"
             ],
             [
              0.2222222222222222,
              "#000013"
             ],
             [
              0.3333333333333333,
              "#000014"
             ],
             [
              0.4444444444444444,
              "#000015"
             ],
             [
              0.5555555555555556,
              "#000016"
             ],
             [
              0.6666666666666666,
              "#000017"
             ],
             [
              0.7777777777777778,
              "#000018"
             ],
             [
              0.8888888888888888,
              "#000019"
             ],
             [
              1,
              "#000020"
             ]
            ],
            "type": "histogram2d"
           }
          ],
          "icicle": [
           {
            "textfont": {
             "color": "white"
            },
            "type": "icicle"
           }
          ],
          "sankey": [
           {
            "textfont": {
             "color": "#000036"
            },
            "type": "sankey"
           }
          ],
          "scatter": [
           {
            "marker": {
             "line": {
              "width": 0
             }
            },
            "type": "scatter"
           }
          ],
          "table": [
           {
            "cells": {
             "fill": {
              "color": "#000038"
             },
             "font": {
              "color": "#000037"
             },
             "line": {
              "color": "#000039"
             }
            },
            "header": {
             "fill": {
              "color": "#000040"
             },
             "font": {
              "color": "#000036"
             },
             "line": {
              "color": "#000039"
             }
            },
            "type": "table"
           }
          ],
          "waterfall": [
           {
            "connector": {
             "line": {
              "color": "#000036",
              "width": 2
             }
            },
            "decreasing": {
             "marker": {
              "color": "#000033"
             }
            },
            "increasing": {
             "marker": {
              "color": "#000032"
             }
            },
            "totals": {
             "marker": {
              "color": "#000034"
             }
            },
            "type": "waterfall"
           }
          ]
         },
         "layout": {
          "coloraxis": {
           "colorscale": [
            [
             0,
             "#000011"
            ],
            [
             0.1111111111111111,
             "#000012"
            ],
            [
             0.2222222222222222,
             "#000013"
            ],
            [
             0.3333333333333333,
             "#000014"
            ],
            [
             0.4444444444444444,
             "#000015"
            ],
            [
             0.5555555555555556,
             "#000016"
            ],
            [
             0.6666666666666666,
             "#000017"
            ],
            [
             0.7777777777777778,
             "#000018"
            ],
            [
             0.8888888888888888,
             "#000019"
            ],
            [
             1,
             "#000020"
            ]
           ]
          },
          "colorscale": {
           "diverging": [
            [
             0,
             "#000021"
            ],
            [
             0.1,
             "#000022"
            ],
            [
             0.2,
             "#000023"
            ],
            [
             0.3,
             "#000024"
            ],
            [
             0.4,
             "#000025"
            ],
            [
             0.5,
             "#000026"
            ],
            [
             0.6,
             "#000027"
            ],
            [
             0.7,
             "#000028"
            ],
            [
             0.8,
             "#000029"
            ],
            [
             0.9,
             "#000030"
            ],
            [
             1,
             "#000031"
            ]
           ],
           "sequential": [
            [
             0,
             "#000011"
            ],
            [
             0.1111111111111111,
             "#000012"
            ],
            [
             0.2222222222222222,
             "#000013"
            ],
            [
             0.3333333333333333,
             "#000014"
            ],
            [
             0.4444444444444444,
             "#000015"
            ],
            [
             0.5555555555555556,
             "#000016"
            ],
            [
             0.6666666666666666,
             "#000017"
            ],
            [
             0.7777777777777778,
             "#000018"
            ],
            [
             0.8888888888888888,
             "#000019"
            ],
            [
             1,
             "#000020"
            ]
           ],
           "sequentialminus": [
            [
             0,
             "#000011"
            ],
            [
             0.1111111111111111,
             "#000012"
            ],
            [
             0.2222222222222222,
             "#000013"
            ],
            [
             0.3333333333333333,
             "#000014"
            ],
            [
             0.4444444444444444,
             "#000015"
            ],
            [
             0.5555555555555556,
             "#000016"
            ],
            [
             0.6666666666666666,
             "#000017"
            ],
            [
             0.7777777777777778,
             "#000018"
            ],
            [
             0.8888888888888888,
             "#000019"
            ],
            [
             1,
             "#000020"
            ]
           ]
          },
          "colorway": [
           "#000001",
           "#000002",
           "#000003",
           "#000004",
           "#000005",
           "#000006",
           "#000007",
           "#000008",
           "#000009",
           "#000010"
          ]
         }
        }
       }
      },
      "image/png": "[encoded data removed]",
      "text/html": [
       "<div>                            <div id=\"31521267-5f18-4e76-9cd9-6b4a9beeac34\" class=\"plotly-graph-div\" style=\"height:525px; width:100%;\"></div>            <script type=\"text/javascript\">                require([\"plotly\"], function(Plotly) {                    window.PLOTLYENV=window.PLOTLYENV || {};                                    if (document.getElementById(\"31521267-5f18-4e76-9cd9-6b4a9beeac34\")) {                    Plotly.newPlot(                        \"31521267-5f18-4e76-9cd9-6b4a9beeac34\",                        [{\"domain\":{\"x\":[0.0,1.0],\"y\":[0.0,1.0]},\"hovertemplate\":\"label=%{label}\\u003cbr\\u003evalue=%{value}\\u003cextra\\u003e\\u003c\\u002fextra\\u003e\",\"labels\":[\"Major\",\"Minor\"],\"legendgroup\":\"\",\"name\":\"\",\"showlegend\":true,\"values\":[235,40],\"type\":\"pie\"}],                        {\"template\":{\"data\":{\"candlestick\":[{\"decreasing\":{\"line\":{\"color\":\"#000033\"}},\"increasing\":{\"line\":{\"color\":\"#000032\"}},\"type\":\"candlestick\"}],\"contourcarpet\":[{\"colorscale\":[[0.0,\"#000011\"],[0.1111111111111111,\"#000012\"],[0.2222222222222222,\"#000013\"],[0.3333333333333333,\"#000014\"],[0.4444444444444444,\"#000015\"],[0.5555555555555556,\"#000016\"],[0.6666666666666666,\"#000017\"],[0.7777777777777778,\"#000018\"],[0.8888888888888888,\"#000019\"],[1.0,\"#000020\"]],\"type\":\"contourcarpet\"}],\"contour\":[{\"colorscale\":[[0.0,\"#000011\"],[0.1111111111111111,\"#000012\"],[0.2222222222222222,\"#000013\"],[0.3333333333333333,\"#000014\"],[0.4444444444444444,\"#000015\"],[0.5555555555555556,\"#000016\"],[0.6666666666666666,\"#000017\"],[0.7777777777777778,\"#000018\"],[0.8888888888888888,\"#000019\"],[1.0,\"#000020\"]],\"type\":\"contour\"}],\"heatmap\":[{\"colorscale\":[[0.0,\"#000011\"],[0.1111111111111111,\"#000012\"],[0.2222222222222222,\"#000013\"],[0.3333333333333333,\"#000014\"],[0.4444444444444444,\"#000015\"],[0.5555555555555556,\"#000016\"],[0.6666666666666666,\"#000017\"],[0.7777777777777778,\"#000018\"],[0.8888888888888888,\"#000019\"],[1.0,\"#000020\"]],\"type\":\"heatmap\"}],\"histogram2d\":[{\"colorscale\":[[0.0,\"#000011\"],[0.1111111111111111,\"#000012\"],[0.2222222222222222,\"#000013\"],[0.3333333333333333,\"#000014\"],[0.4444444444444444,\"#000015\"],[0.5555555555555556,\"#000016\"],[0.6666666666666666,\"#000017\"],[0.7777777777777778,\"#000018\"],[0.8888888888888888,\"#000019\"],[1.0,\"#000020\"]],\"type\":\"histogram2d\"}],\"icicle\":[{\"textfont\":{\"color\":\"white\"},\"type\":\"icicle\"}],\"sankey\":[{\"textfont\":{\"color\":\"#000036\"},\"type\":\"sankey\"}],\"scatter\":[{\"marker\":{\"line\":{\"width\":0}},\"type\":\"scatter\"}],\"table\":[{\"cells\":{\"fill\":{\"color\":\"#000038\"},\"font\":{\"color\":\"#000037\"},\"line\":{\"color\":\"#000039\"}},\"header\":{\"fill\":{\"color\":\"#000040\"},\"font\":{\"color\":\"#000036\"},\"line\":{\"color\":\"#000039\"}},\"type\":\"table\"}],\"waterfall\":[{\"connector\":{\"line\":{\"color\":\"#000036\",\"width\":2}},\"decreasing\":{\"marker\":{\"color\":\"#000033\"}},\"increasing\":{\"marker\":{\"color\":\"#000032\"}},\"totals\":{\"marker\":{\"color\":\"#000034\"}},\"type\":\"waterfall\"}]},\"layout\":{\"coloraxis\":{\"colorscale\":[[0.0,\"#000011\"],[0.1111111111111111,\"#000012\"],[0.2222222222222222,\"#000013\"],[0.3333333333333333,\"#000014\"],[0.4444444444444444,\"#000015\"],[0.5555555555555556,\"#000016\"],[0.6666666666666666,\"#000017\"],[0.7777777777777778,\"#000018\"],[0.8888888888888888,\"#000019\"],[1.0,\"#000020\"]]},\"colorscale\":{\"diverging\":[[0.0,\"#000021\"],[0.1,\"#000022\"],[0.2,\"#000023\"],[0.3,\"#000024\"],[0.4,\"#000025\"],[0.5,\"#000026\"],[0.6,\"#000027\"],[0.7,\"#000028\"],[0.8,\"#000029\"],[0.9,\"#000030\"],[1.0,\"#000031\"]],\"sequential\":[[0.0,\"#000011\"],[0.1111111111111111,\"#000012\"],[0.2222222222222222,\"#000013\"],[0.3333333333333333,\"#000014\"],[0.4444444444444444,\"#000015\"],[0.5555555555555556,\"#000016\"],[0.6666666666666666,\"#000017\"],[0.7777777777777778,\"#000018\"],[0.8888888888888888,\"#000019\"],[1.0,\"#000020\"]],\"sequentialminus\":[[0.0,\"#000011\"],[0.1111111111111111,\"#000012\"],[0.2222222222222222,\"#000013\"],[0.3333333333333333,\"#000014\"],[0.4444444444444444,\"#000015\"],[0.5555555555555556,\"#000016\"],[0.6666666666666666,\"#000017\"],[0.7777777777777778,\"#000018\"],[0.8888888888888888,\"#000019\"],[1.0,\"#000020\"]]},\"colorway\":[\"#000001\",\"#000002\",\"#000003\",\"#000004\",\"#000005\",\"#000006\",\"#000007\",\"#000008\",\"#000009\",\"#000010\"]}},\"legend\":{\"tracegroupgap\":0},\"margin\":{\"t\":60},\"piecolorway\":[\"rgb(141,211,199)\",\"rgb(255,255,179)\",\"rgb(190,186,218)\",\"rgb(251,128,114)\",\"rgb(128,177,211)\",\"rgb(253,180,98)\",\"rgb(179,222,105)\",\"rgb(252,205,229)\",\"rgb(217,217,217)\",\"rgb(188,128,189)\",\"rgb(204,235,197)\",\"rgb(255,237,111)\"]},                        {\"responsive\": true}                    ).then(function(){\n",
       "                            \n",
       "var gd = document.getElementById('31521267-5f18-4e76-9cd9-6b4a9beeac34');\n",
       "var x = new MutationObserver(function (mutations, observer) {{\n",
       "        var display = window.getComputedStyle(gd).display;\n",
       "        if (!display || display === 'none') {{\n",
       "            console.log([gd, 'removed!']);\n",
       "            Plotly.purge(gd);\n",
       "            observer.disconnect();\n",
       "        }}\n",
       "}});\n",
       "\n",
       "// Listen for the removal of the full notebook cells\n",
       "var notebookContainer = gd.closest('#notebook-container');\n",
       "if (notebookContainer) {{\n",
       "    x.observe(notebookContainer, {childList: true});\n",
       "}}\n",
       "\n",
       "// Listen for the clearing of the current output cell\n",
       "var outputEl = gd.closest('.output');\n",
       "if (outputEl) {{\n",
       "    x.observe(outputEl, {childList: true});\n",
       "}}\n",
       "\n",
       "                        })                };                });            </script>        </div>"
      ]
     },
     "metadata": {},
     "output_type": "display_data"
    },
    {
     "name": "stdout",
     "output_type": "stream",
     "text": [
      "From this diogram we can easily mention that The Beatles prefer major to minor mode.\n"
     ]
    }
   ],
   "source": [
    "# 2 Chart\n",
    "# This pie chart shows us the ratio of major and minor songs\n",
    "print(\"The ratio of major and minor songs\")\n",
    "mode_all = dt[\"Mode\"].replace({1: \"Major\", 0: \"Minor\"}).value_counts()\n",
    "fig2 = px.pie(\n",
    "    values=mode_all.values,\n",
    "    names=mode_all.index,\n",
    "    color_discrete_sequence=px.colors.qualitative.Set3\n",
    ")\n",
    "fig2.show()\n",
    "print(\"From this diogram we can easily mention that The Beatles prefer major to minor mode.\")"
   ]
  },
  {
   "cell_type": "code",
   "execution_count": 19,
   "id": "9ee47e03-45d5-4795-871f-c4d50eb87819",
   "metadata": {},
   "outputs": [
    {
     "name": "stdout",
     "output_type": "stream",
     "text": [
      "Songs' duration\n"
     ]
    },
    {
     "data": {
      "application/vnd.plotly.v1+json": {
       "config": {
        "plotlyServerURL": "https://plot.ly"
       },
       "data": [
        {
         "alignmentgroup": "True",
         "hovertemplate": "Name=%{x}<br>Duration=%{y}<br>Year=%{marker.color}<extra></extra>",
         "legendgroup": "",
         "marker": {
          "color": [
           1969,
           1969,
           1963,
           1969,
           1968,
           1969,
           1969,
           1960,
           1960,
           1967,
           1964,
           1969,
           1969,
           1963,
           1960,
           1962,
           1963,
           1968,
           1963,
           1962,
           1964,
           1968,
           1963,
           1963,
           1963,
           1963,
           1963,
           1963,
           1963,
           1963,
           1965,
           1963,
           1963,
           1969,
           1963,
           1963,
           1964,
           1969,
           1963,
           1963,
           1964,
           1963,
           1967,
           1964,
           1962,
           1964,
           1966,
           1966,
           1963,
           1963,
           1964,
           1964,
           1963,
           1965,
           1968,
           1963,
           1968,
           1963,
           1963,
           1965,
           1965,
           1963,
           1963,
           1964,
           1962,
           1965,
           1963,
           1966,
           1958,
           1963,
           1964,
           1964,
           1966,
           1967,
           1964,
           1964,
           1965,
           1964,
           1963,
           1963,
           1961,
           1963,
           1964,
           1965,
           1966,
           1964,
           1965,
           1963,
           1963,
           1968,
           1963,
           1968,
           1968,
           1967,
           1966,
           1965,
           1963,
           1965,
           1965,
           1964,
           1965,
           1968,
           1965,
           1964,
           1969,
           1965,
           1963,
           1963,
           1964,
           1962,
           1961,
           1963,
           1964,
           1965,
           1962,
           1963,
           1963,
           1968,
           1969,
           1965,
           1964,
           1962,
           1970,
           1966,
           1968,
           1965,
           1969,
           1967,
           1963,
           1966,
           1965,
           1968,
           1965,
           1965,
           1965,
           1966,
           1967,
           1963,
           1969,
           1964,
           1964,
           1964,
           1968,
           1963,
           1964,
           1964,
           1969,
           1963,
           1965,
           1965,
           1964,
           1965,
           1964,
           1962,
           1965,
           1963,
           1963,
           1965,
           1963,
           1968,
           1966,
           1966,
           1964,
           1967,
           1966,
           1964,
           1966,
           1963,
           1965,
           1965,
           1965,
           1968,
           1967,
           1967,
           1963,
           1968,
           1961,
           1968,
           1968,
           1963,
           1964,
           1958,
           1965,
           1964,
           1964,
           1967,
           1969,
           1967,
           1963,
           1968,
           1963,
           1963,
           1965,
           1963,
           1963,
           1969,
           1965,
           1965,
           1967,
           1963,
           1964,
           1969,
           1964,
           1968,
           1968,
           1963,
           1964,
           1965,
           1963,
           1964,
           1966,
           1969,
           1969,
           1966,
           1963,
           1967,
           1962,
           1966,
           1966,
           1963,
           1966,
           1964,
           1968,
           1967,
           1968,
           1969,
           1969,
           1968,
           1965,
           1969,
           1968,
           1969,
           1968,
           1968,
           1969,
           1969,
           1968,
           1968,
           1968,
           1968,
           1965,
           1969,
           1967,
           1967,
           1969,
           1967,
           1969,
           1968,
           1969,
           1967,
           1969,
           1969,
           1968,
           1968,
           1968,
           1969,
           1967,
           1968,
           1967,
           1968,
           1969,
           1969,
           1966,
           1969,
           1967,
           1968,
           1967,
           1968,
           1967,
           1967,
           1968,
           1967,
           1968,
           1969,
           1968
          ],
          "coloraxis": "coloraxis",
          "pattern": {
           "shape": ""
          }
         },
         "name": "",
         "offsetgroup": "",
         "orientation": "v",
         "showlegend": false,
         "textposition": "auto",
         "type": "bar",
         "x": [
          "Her Majesty",
          "Maggie Mae",
          "Moonlight Bay",
          "Dig It",
          "Wild Honey Pie",
          "Mean Mr. Mustard",
          "Polythene Pam",
          "Hallelujah, I Love Her So",
          "Cayenne",
          "Sgt. Pepper's Lonely Hearts Club Band (Reprise)",
          "Shout",
          "Golden Slumbers",
          "Carry That Weight",
          "Ooh! My Soul",
          "You'll Be Mine",
          "Hello Little Girl",
          "The Honeymoon Song",
          "Why Don't We Do It in the Road?",
          "I Wanna Be Your Man",
          "The Sheik of Araby",
          "I'll Follow the Sun",
          "I Will",
          "Beautiful Dreamer",
          "Misery",
          "Little Child",
          "There's a Place",
          "Lend Me Your Comb",
          "Lucille",
          "I'm Talking About You",
          "Glad All Over",
          "It's Only Love",
          "So How Come (No One Loves Me)",
          "Do You Want to Know a Secret?",
          "Mailman, Bring Me No More Blues",
          "From Me to You",
          "Young Blood",
          "Matchbox",
          "She Came in Through the Bathroom Window",
          "I'll Be on My Way",
          "I Got to Find My Baby",
          "I'm Happy Just to Dance with You",
          "Soldier of Love (Lay Down Your Arms)",
          "Sgt. Pepper's Lonely Hearts Club Band",
          "You Know What to Do",
          "Please Please Me",
          "Every Little Thing",
          "For No One",
          "And Your Bird Can Sing",
          "Some Other Guy",
          "Thank You Girl",
          "Baby's in Black",
          "Words of Love",
          "I'm Gonna Sit Right Down and Cry (Over You)",
          "Yesterday",
          "I'm So Tired",
          "All I've Got to Do",
          "Piggies",
          "All My Loving",
          "I'll Get You",
          "Another Girl",
          "Norwegian Wood (This Bird Has Flown)",
          "Don't Ever Change",
          "Twist and Shout",
          "I Forgot to Remember to Forget",
          "P.S. I Love You",
          "I've Just Seen a Face",
          "Too Much Monkey Business",
          "Eleanor Rigby",
          "That'll Be the Day",
          "Not a Second Time",
          "I'll Cry Instead",
          "I Call Your Name",
          "Good Day Sunshine",
          "All Together Now",
          "Long Tall Sally",
          "Tell Me Why",
          "You've Got to Hide Your Love Away",
          "Can't Buy Me Love",
          "Crying, Waiting, Hoping",
          "This Boy",
          "Ain't She Sweet",
          "It Won't Be Long",
          "Any Time at All",
          "We Can Work It Out",
          "Doctor Robert",
          "No Reply",
          "Wait",
          "A Shot of Rhythm and Blues",
          "Memphis, Tennessee",
          "Lady Madonna",
          "Till There Was You",
          "Circles - Esher Demo",
          "Glass Onion",
          "Flying",
          "Paperback Writer",
          "Run for Your Life",
          "She Loves You",
          "Think for Yourself",
          "Help!",
          "When I Get Home",
          "Act Naturally",
          "Blackbird",
          "You're Going to Lose That Girl",
          "I'll Be Back",
          "The End",
          "Bad Boy",
          "Sweet Little Sixteen",
          "Sure to Fall (In Love with You)",
          "If I Fell",
          "Love Me Do",
          "Cry for a Shadow",
          "Chains",
          "Everybody's Trying to Be My Baby",
          "If I Needed Someone",
          "Ask Me Why",
          "I Want to Hold Your Hand",
          "Boys",
          "Everybody's Got Something to Hide Except Me and My Monkey",
          "Goodbye",
          "Dizzy Miss Lizzy",
          "I Feel Fine",
          "Three Cool Cats",
          "I Me Mine",
          "Here, There and Everywhere",
          "Junk",
          "That Means a Lot",
          "Sun King",
          "Fixing a Hole",
          "Devil in Her Heart",
          "Got to Get You Into My Life",
          "I'm Looking Through You",
          "Martha My Dear",
          "Drive My Car",
          "I Need You",
          "In My Life",
          "I Want to Tell You",
          "Your Mother Should Know",
          "Don't Bother Me",
          "Come and Get It",
          "What You're Doing",
          "Rock and Roll Music",
          "I'm a Loser",
          "Step Inside Love / Los Paranoias",
          "Keep Your Hands Off My Baby",
          "A Hard Day's Night",
          "And I Love Her",
          "For You Blue",
          "Hold Me Tight",
          "Girl",
          "The Night Before",
          "I Don't Want to Spoil the Party",
          "I'm Down",
          "Mr. Moonlight",
          "Like Dreamers Do",
          "You Like Me Too Much",
          "Lonesome Tears in My Eyes",
          "Please Mr. Postman",
          "Tell Me What You See",
          "Carol",
          "The Inner Light",
          "She Said She Said",
          "When I'm Sixty Four",
          "You Can't Do That",
          "Being for the Benefit of Mr. Kite!",
          "Yellow Submarine",
          "Things We Said Today",
          "Taxman",
          "Clarabella",
          "Michelle",
          "Yes It Is",
          "The Word",
          "Honey Pie",
          "Good Morning, Good Morning",
          "Lovely Rita",
          "Baby It's You",
          "Birthday",
          "My Bonnie",
          "Happiness Is a Warm Gun",
          "Back in the U.S.S.R.",
          "A Taste of Honey",
          "Kansas City / Hey, Hey, Hey, Hey",
          "In Spite of All the Danger",
          "Nowhere Man",
          "I Should Have Known Better",
          "Eight Days a Week",
          "With a Little Help From My Friends",
          "Because",
          "Getting Better",
          "Money (That's What I Want)",
          "Mother Nature's Son",
          "Anna (Go to Him)",
          "I Got a Woman",
          "If You've Got Trouble",
          "I Just Don't Understand",
          "Roll Over Beethoven",
          "Octopus's Garden",
          "Day Tripper",
          "What Goes on",
          "Magical Mystery Tour",
          "To Know Her Is to Love Her",
          "Johnny B. Goode",
          "One After 909",
          "Honey Don't",
          "Savoy Truffle",
          "Julia",
          "I Saw Her Standing There",
          "Slow Down",
          "12-bar Original",
          "That's All Right (Mama)",
          "Leave My Kitten Alone",
          "Tomorrow Never Knows",
          "Something",
          "The Ballad of John and Yoko",
          "Rain",
          "Nothin' Shakin' (But the Leaves on the Trees)",
          "The Fool on the Hill",
          "Searchin'",
          "Love You to",
          "I'm Only Sleeping",
          "You've Really Got a Hold on Me",
          "Penny Lane",
          "She's a Woman",
          "Cry Baby Cry",
          "Baby, You're a Rich Man",
          "Long, Long, Long",
          "All Things Must Pass",
          "Here Comes the Sun",
          "Ob-la-di, Ob-la-da",
          "Ticket to Ride",
          "Rip It Up / Shake, Rattle, and Roll / Blue Suede Shoes",
          "Good Night",
          "Get Back",
          "Hey Bulldog",
          "Sexy Sadie",
          "Old Brown Shoe",
          "Teddy Boy",
          "The Continuing Story of Bungalow Bill",
          "Revolution",
          "Revolution 1",
          "Not Guilty",
          "You Won't See Me",
          "Oh! Darling",
          "Hello, Goodbye",
          "Only a Northern Song",
          "Maxwell's Silver Hammer",
          "Lucy in the Sky with Diamonds",
          "Two of Us",
          "Rocky Raccoon",
          "Don't Let Me Down",
          "She's Leaving Home",
          "I've Got a Feeling",
          "The Long and Winding Road",
          "Sour Milk Sea - Esher Demo",
          "Across the Universe",
          "Don't Pass Me By",
          "Dig a Pony",
          "Blue Jay Way",
          "Dear Prudence",
          "All You Need Is Love",
          "Yer Blues",
          "You Never Give Me Your Money",
          "Let It Be",
          "Strawberry Fields Forever",
          "Come Together",
          "You Know My Name (Look Up the Number)",
          "Helter Skelter",
          "I Am the Walrus",
          "While My Guitar Gently Weeps",
          "Within You Without You",
          "A Day in the Life",
          "What's the New Mary Jane",
          "It's All Too Much",
          "Hey Jude",
          "I Want You (She's So Heavy)",
          "Revolution 9"
         ],
         "xaxis": "x",
         "y": [
          23,
          40,
          50,
          51,
          52,
          66,
          72,
          73,
          74,
          80,
          91,
          91,
          96,
          98,
          99,
          100,
          100,
          102,
          103,
          103,
          106,
          106,
          106,
          107,
          108,
          109,
          110,
          110,
          112,
          113,
          115,
          115,
          116,
          116,
          116,
          116,
          117,
          117,
          118,
          118,
          118,
          119,
          119,
          119,
          120,
          121,
          121,
          121,
          121,
          121,
          122,
          122,
          122,
          123,
          123,
          124,
          124,
          124,
          124,
          124,
          125,
          125,
          125,
          126,
          126,
          127,
          128,
          128,
          128,
          128,
          129,
          129,
          129,
          130,
          130,
          130,
          131,
          131,
          131,
          133,
          133,
          133,
          133,
          135,
          135,
          135,
          136,
          136,
          136,
          136,
          136,
          137,
          137,
          137,
          138,
          138,
          138,
          138,
          138,
          138,
          139,
          139,
          140,
          140,
          140,
          141,
          141,
          141,
          142,
          142,
          142,
          143,
          143,
          143,
          144,
          144,
          144,
          144,
          144,
          145,
          145,
          145,
          145,
          145,
          145,
          146,
          146,
          146,
          147,
          147,
          147,
          148,
          148,
          148,
          148,
          149,
          149,
          149,
          150,
          150,
          150,
          151,
          151,
          151,
          152,
          152,
          152,
          152,
          153,
          153,
          153,
          153,
          155,
          155,
          155,
          156,
          156,
          156,
          156,
          156,
          157,
          157,
          157,
          157,
          158,
          158,
          159,
          160,
          160,
          161,
          161,
          161,
          161,
          162,
          162,
          162,
          162,
          163,
          163,
          163,
          163,
          164,
          164,
          164,
          164,
          164,
          165,
          167,
          167,
          168,
          168,
          168,
          168,
          168,
          168,
          168,
          170,
          170,
          171,
          171,
          171,
          172,
          173,
          174,
          174,
          175,
          175,
          175,
          176,
          176,
          178,
          179,
          179,
          179,
          180,
          180,
          180,
          181,
          182,
          182,
          183,
          183,
          183,
          183,
          184,
          185,
          186,
          187,
          190,
          191,
          191,
          194,
          194,
          195,
          196,
          198,
          198,
          201,
          201,
          202,
          202,
          206,
          207,
          207,
          207,
          208,
          213,
          213,
          215,
          215,
          217,
          220,
          224,
          230,
          231,
          232,
          235,
          236,
          237,
          241,
          242,
          243,
          245,
          258,
          261,
          270,
          273,
          286,
          305,
          335,
          372,
          388,
          431,
          467,
          502
         ],
         "yaxis": "y"
        }
       ],
       "layout": {
        "barmode": "relative",
        "coloraxis": {
         "colorbar": {
          "title": {
           "text": "Year"
          }
         },
         "colorscale": [
          [
           0,
           "#0d0887"
          ],
          [
           0.1111111111111111,
           "#46039f"
          ],
          [
           0.2222222222222222,
           "#7201a8"
          ],
          [
           0.3333333333333333,
           "#9c179e"
          ],
          [
           0.4444444444444444,
           "#bd3786"
          ],
          [
           0.5555555555555556,
           "#d8576b"
          ],
          [
           0.6666666666666666,
           "#ed7953"
          ],
          [
           0.7777777777777778,
           "#fb9f3a"
          ],
          [
           0.8888888888888888,
           "#fdca26"
          ],
          [
           1,
           "#f0f921"
          ]
         ]
        },
        "legend": {
         "tracegroupgap": 0
        },
        "margin": {
         "t": 60
        },
        "template": {
         "data": {
          "candlestick": [
           {
            "decreasing": {
             "line": {
              "color": "#000033"
             }
            },
            "increasing": {
             "line": {
              "color": "#000032"
             }
            },
            "type": "candlestick"
           }
          ],
          "contour": [
           {
            "colorscale": [
             [
              0,
              "#000011"
             ],
             [
              0.1111111111111111,
              "#000012"
             ],
             [
              0.2222222222222222,
              "#000013"
             ],
             [
              0.3333333333333333,
              "#000014"
             ],
             [
              0.4444444444444444,
              "#000015"
             ],
             [
              0.5555555555555556,
              "#000016"
             ],
             [
              0.6666666666666666,
              "#000017"
             ],
             [
              0.7777777777777778,
              "#000018"
             ],
             [
              0.8888888888888888,
              "#000019"
             ],
             [
              1,
              "#000020"
             ]
            ],
            "type": "contour"
           }
          ],
          "contourcarpet": [
           {
            "colorscale": [
             [
              0,
              "#000011"
             ],
             [
              0.1111111111111111,
              "#000012"
             ],
             [
              0.2222222222222222,
              "#000013"
             ],
             [
              0.3333333333333333,
              "#000014"
             ],
             [
              0.4444444444444444,
              "#000015"
             ],
             [
              0.5555555555555556,
              "#000016"
             ],
             [
              0.6666666666666666,
              "#000017"
             ],
             [
              0.7777777777777778,
              "#000018"
             ],
             [
              0.8888888888888888,
              "#000019"
             ],
             [
              1,
              "#000020"
             ]
            ],
            "type": "contourcarpet"
           }
          ],
          "heatmap": [
           {
            "colorscale": [
             [
              0,
              "#000011"
             ],
             [
              0.1111111111111111,
              "#000012"
             ],
             [
              0.2222222222222222,
              "#000013"
             ],
             [
              0.3333333333333333,
              "#000014"
             ],
             [
              0.4444444444444444,
              "#000015"
             ],
             [
              0.5555555555555556,
              "#000016"
             ],
             [
              0.6666666666666666,
              "#000017"
             ],
             [
              0.7777777777777778,
              "#000018"
             ],
             [
              0.8888888888888888,
              "#000019"
             ],
             [
              1,
              "#000020"
             ]
            ],
            "type": "heatmap"
           }
          ],
          "histogram2d": [
           {
            "colorscale": [
             [
              0,
              "#000011"
             ],
             [
              0.1111111111111111,
              "#000012"
             ],
             [
              0.2222222222222222,
              "#000013"
             ],
             [
              0.3333333333333333,
              "#000014"
             ],
             [
              0.4444444444444444,
              "#000015"
             ],
             [
              0.5555555555555556,
              "#000016"
             ],
             [
              0.6666666666666666,
              "#000017"
             ],
             [
              0.7777777777777778,
              "#000018"
             ],
             [
              0.8888888888888888,
              "#000019"
             ],
             [
              1,
              "#000020"
             ]
            ],
            "type": "histogram2d"
           }
          ],
          "icicle": [
           {
            "textfont": {
             "color": "white"
            },
            "type": "icicle"
           }
          ],
          "sankey": [
           {
            "textfont": {
             "color": "#000036"
            },
            "type": "sankey"
           }
          ],
          "scatter": [
           {
            "marker": {
             "line": {
              "width": 0
             }
            },
            "type": "scatter"
           }
          ],
          "table": [
           {
            "cells": {
             "fill": {
              "color": "#000038"
             },
             "font": {
              "color": "#000037"
             },
             "line": {
              "color": "#000039"
             }
            },
            "header": {
             "fill": {
              "color": "#000040"
             },
             "font": {
              "color": "#000036"
             },
             "line": {
              "color": "#000039"
             }
            },
            "type": "table"
           }
          ],
          "waterfall": [
           {
            "connector": {
             "line": {
              "color": "#000036",
              "width": 2
             }
            },
            "decreasing": {
             "marker": {
              "color": "#000033"
             }
            },
            "increasing": {
             "marker": {
              "color": "#000032"
             }
            },
            "totals": {
             "marker": {
              "color": "#000034"
             }
            },
            "type": "waterfall"
           }
          ]
         },
         "layout": {
          "coloraxis": {
           "colorscale": [
            [
             0,
             "#000011"
            ],
            [
             0.1111111111111111,
             "#000012"
            ],
            [
             0.2222222222222222,
             "#000013"
            ],
            [
             0.3333333333333333,
             "#000014"
            ],
            [
             0.4444444444444444,
             "#000015"
            ],
            [
             0.5555555555555556,
             "#000016"
            ],
            [
             0.6666666666666666,
             "#000017"
            ],
            [
             0.7777777777777778,
             "#000018"
            ],
            [
             0.8888888888888888,
             "#000019"
            ],
            [
             1,
             "#000020"
            ]
           ]
          },
          "colorscale": {
           "diverging": [
            [
             0,
             "#000021"
            ],
            [
             0.1,
             "#000022"
            ],
            [
             0.2,
             "#000023"
            ],
            [
             0.3,
             "#000024"
            ],
            [
             0.4,
             "#000025"
            ],
            [
             0.5,
             "#000026"
            ],
            [
             0.6,
             "#000027"
            ],
            [
             0.7,
             "#000028"
            ],
            [
             0.8,
             "#000029"
            ],
            [
             0.9,
             "#000030"
            ],
            [
             1,
             "#000031"
            ]
           ],
           "sequential": [
            [
             0,
             "#000011"
            ],
            [
             0.1111111111111111,
             "#000012"
            ],
            [
             0.2222222222222222,
             "#000013"
            ],
            [
             0.3333333333333333,
             "#000014"
            ],
            [
             0.4444444444444444,
             "#000015"
            ],
            [
             0.5555555555555556,
             "#000016"
            ],
            [
             0.6666666666666666,
             "#000017"
            ],
            [
             0.7777777777777778,
             "#000018"
            ],
            [
             0.8888888888888888,
             "#000019"
            ],
            [
             1,
             "#000020"
            ]
           ],
           "sequentialminus": [
            [
             0,
             "#000011"
            ],
            [
             0.1111111111111111,
             "#000012"
            ],
            [
             0.2222222222222222,
             "#000013"
            ],
            [
             0.3333333333333333,
             "#000014"
            ],
            [
             0.4444444444444444,
             "#000015"
            ],
            [
             0.5555555555555556,
             "#000016"
            ],
            [
             0.6666666666666666,
             "#000017"
            ],
            [
             0.7777777777777778,
             "#000018"
            ],
            [
             0.8888888888888888,
             "#000019"
            ],
            [
             1,
             "#000020"
            ]
           ]
          },
          "colorway": [
           "#000001",
           "#000002",
           "#000003",
           "#000004",
           "#000005",
           "#000006",
           "#000007",
           "#000008",
           "#000009",
           "#000010"
          ]
         }
        },
        "xaxis": {
         "anchor": "y",
         "domain": [
          0,
          1
         ],
         "title": {
          "text": "Name"
         }
        },
        "yaxis": {
         "anchor": "x",
         "domain": [
          0,
          1
         ],
         "title": {
          "text": "Duration"
         }
        }
       }
      },
      "image/png": "[encoded data removed]",
      "text/html": [
       "<div>                            <div id=\"0741c9df-a5bf-4b7c-add8-9522833c63c9\" class=\"plotly-graph-div\" style=\"height:525px; width:100%;\"></div>            <script type=\"text/javascript\">                require([\"plotly\"], function(Plotly) {                    window.PLOTLYENV=window.PLOTLYENV || {};                                    if (document.getElementById(\"0741c9df-a5bf-4b7c-add8-9522833c63c9\")) {                    Plotly.newPlot(                        \"0741c9df-a5bf-4b7c-add8-9522833c63c9\",                        [{\"alignmentgroup\":\"True\",\"hovertemplate\":\"Name=%{x}\\u003cbr\\u003eDuration=%{y}\\u003cbr\\u003eYear=%{marker.color}\\u003cextra\\u003e\\u003c\\u002fextra\\u003e\",\"legendgroup\":\"\",\"marker\":{\"color\":[1969.0,1969.0,1963.0,1969.0,1968.0,1969.0,1969.0,1960.0,1960.0,1967.0,1964.0,1969.0,1969.0,1963.0,1960.0,1962.0,1963.0,1968.0,1963.0,1962.0,1964.0,1968.0,1963.0,1963.0,1963.0,1963.0,1963.0,1963.0,1963.0,1963.0,1965.0,1963.0,1963.0,1969.0,1963.0,1963.0,1964.0,1969.0,1963.0,1963.0,1964.0,1963.0,1967.0,1964.0,1962.0,1964.0,1966.0,1966.0,1963.0,1963.0,1964.0,1964.0,1963.0,1965.0,1968.0,1963.0,1968.0,1963.0,1963.0,1965.0,1965.0,1963.0,1963.0,1964.0,1962.0,1965.0,1963.0,1966.0,1958.0,1963.0,1964.0,1964.0,1966.0,1967.0,1964.0,1964.0,1965.0,1964.0,1963.0,1963.0,1961.0,1963.0,1964.0,1965.0,1966.0,1964.0,1965.0,1963.0,1963.0,1968.0,1963.0,1968.0,1968.0,1967.0,1966.0,1965.0,1963.0,1965.0,1965.0,1964.0,1965.0,1968.0,1965.0,1964.0,1969.0,1965.0,1963.0,1963.0,1964.0,1962.0,1961.0,1963.0,1964.0,1965.0,1962.0,1963.0,1963.0,1968.0,1969.0,1965.0,1964.0,1962.0,1970.0,1966.0,1968.0,1965.0,1969.0,1967.0,1963.0,1966.0,1965.0,1968.0,1965.0,1965.0,1965.0,1966.0,1967.0,1963.0,1969.0,1964.0,1964.0,1964.0,1968.0,1963.0,1964.0,1964.0,1969.0,1963.0,1965.0,1965.0,1964.0,1965.0,1964.0,1962.0,1965.0,1963.0,1963.0,1965.0,1963.0,1968.0,1966.0,1966.0,1964.0,1967.0,1966.0,1964.0,1966.0,1963.0,1965.0,1965.0,1965.0,1968.0,1967.0,1967.0,1963.0,1968.0,1961.0,1968.0,1968.0,1963.0,1964.0,1958.0,1965.0,1964.0,1964.0,1967.0,1969.0,1967.0,1963.0,1968.0,1963.0,1963.0,1965.0,1963.0,1963.0,1969.0,1965.0,1965.0,1967.0,1963.0,1964.0,1969.0,1964.0,1968.0,1968.0,1963.0,1964.0,1965.0,1963.0,1964.0,1966.0,1969.0,1969.0,1966.0,1963.0,1967.0,1962.0,1966.0,1966.0,1963.0,1966.0,1964.0,1968.0,1967.0,1968.0,1969.0,1969.0,1968.0,1965.0,1969.0,1968.0,1969.0,1968.0,1968.0,1969.0,1969.0,1968.0,1968.0,1968.0,1968.0,1965.0,1969.0,1967.0,1967.0,1969.0,1967.0,1969.0,1968.0,1969.0,1967.0,1969.0,1969.0,1968.0,1968.0,1968.0,1969.0,1967.0,1968.0,1967.0,1968.0,1969.0,1969.0,1966.0,1969.0,1967.0,1968.0,1967.0,1968.0,1967.0,1967.0,1968.0,1967.0,1968.0,1969.0,1968.0],\"coloraxis\":\"coloraxis\",\"pattern\":{\"shape\":\"\"}},\"name\":\"\",\"offsetgroup\":\"\",\"orientation\":\"v\",\"showlegend\":false,\"textposition\":\"auto\",\"x\":[\"Her Majesty\",\"Maggie Mae\",\"Moonlight Bay\",\"Dig It\",\"Wild Honey Pie\",\"Mean Mr. Mustard\",\"Polythene Pam\",\"Hallelujah, I Love Her So\",\"Cayenne\",\"Sgt. Pepper's Lonely Hearts Club Band (Reprise)\",\"Shout\",\"Golden Slumbers\",\"Carry That Weight\",\"Ooh! My Soul\",\"You'll Be Mine\",\"Hello Little Girl\",\"The Honeymoon Song\",\"Why Don't We Do It in the Road?\",\"I Wanna Be Your Man\",\"The Sheik of Araby\",\"I'll Follow the Sun\",\"I Will\",\"Beautiful Dreamer\",\"Misery\",\"Little Child\",\"There's a Place\",\"Lend Me Your Comb\",\"Lucille\",\"I'm Talking About You\",\"Glad All Over\",\"It's Only Love\",\"So How Come (No One Loves Me)\",\"Do You Want to Know a Secret?\",\"Mailman, Bring Me No More Blues\",\"From Me to You\",\"Young Blood\",\"Matchbox\",\"She Came in Through the Bathroom Window\",\"I'll Be on My Way\",\"I Got to Find My Baby\",\"I'm Happy Just to Dance with You\",\"Soldier of Love (Lay Down Your Arms)\",\"Sgt. Pepper's Lonely Hearts Club Band\",\"You Know What to Do\",\"Please Please Me\",\"Every Little Thing\",\"For No One\",\"And Your Bird Can Sing\",\"Some Other Guy\",\"Thank You Girl\",\"Baby's in Black\",\"Words of Love\",\"I'm Gonna Sit Right Down and Cry (Over You)\",\"Yesterday\",\"I'm So Tired\",\"All I've Got to Do\",\"Piggies\",\"All My Loving\",\"I'll Get You\",\"Another Girl\",\"Norwegian Wood (This Bird Has Flown)\",\"Don't Ever Change\",\"Twist and Shout\",\"I Forgot to Remember to Forget\",\"P.S. I Love You\",\"I've Just Seen a Face\",\"Too Much Monkey Business\",\"Eleanor Rigby\",\"That'll Be the Day\",\"Not a Second Time\",\"I'll Cry Instead\",\"I Call Your Name\",\"Good Day Sunshine\",\"All Together Now\",\"Long Tall Sally\",\"Tell Me Why\",\"You've Got to Hide Your Love Away\",\"Can't Buy Me Love\",\"Crying, Waiting, Hoping\",\"This Boy\",\"Ain't She Sweet\",\"It Won't Be Long\",\"Any Time at All\",\"We Can Work It Out\",\"Doctor Robert\",\"No Reply\",\"Wait\",\"A Shot of Rhythm and Blues\",\"Memphis, Tennessee\",\"Lady Madonna\",\"Till There Was You\",\"Circles - Esher Demo\",\"Glass Onion\",\"Flying\",\"Paperback Writer\",\"Run for Your Life\",\"She Loves You\",\"Think for Yourself\",\"Help!\",\"When I Get Home\",\"Act Naturally\",\"Blackbird\",\"You're Going to Lose That Girl\",\"I'll Be Back\",\"The End\",\"Bad Boy\",\"Sweet Little Sixteen\",\"Sure to Fall (In Love with You)\",\"If I Fell\",\"Love Me Do\",\"Cry for a Shadow\",\"Chains\",\"Everybody's Trying to Be My Baby\",\"If I Needed Someone\",\"Ask Me Why\",\"I Want to Hold Your Hand\",\"Boys\",\"Everybody's Got Something to Hide Except Me and My Monkey\",\"Goodbye\",\"Dizzy Miss Lizzy\",\"I Feel Fine\",\"Three Cool Cats\",\"I Me Mine\",\"Here, There and Everywhere\",\"Junk\",\"That Means a Lot\",\"Sun King\",\"Fixing a Hole\",\"Devil in Her Heart\",\"Got to Get You Into My Life\",\"I'm Looking Through You\",\"Martha My Dear\",\"Drive My Car\",\"I Need You\",\"In My Life\",\"I Want to Tell You\",\"Your Mother Should Know\",\"Don't Bother Me\",\"Come and Get It\",\"What You're Doing\",\"Rock and Roll Music\",\"I'm a Loser\",\"Step Inside Love \\u002f Los Paranoias\",\"Keep Your Hands Off My Baby\",\"A Hard Day's Night\",\"And I Love Her\",\"For You Blue\",\"Hold Me Tight\",\"Girl\",\"The Night Before\",\"I Don't Want to Spoil the Party\",\"I'm Down\",\"Mr. Moonlight\",\"Like Dreamers Do\",\"You Like Me Too Much\",\"Lonesome Tears in My Eyes\",\"Please Mr. Postman\",\"Tell Me What You See\",\"Carol\",\"The Inner Light\",\"She Said She Said\",\"When I'm Sixty Four\",\"You Can't Do That\",\"Being for the Benefit of Mr. Kite!\",\"Yellow Submarine\",\"Things We Said Today\",\"Taxman\",\"Clarabella\",\"Michelle\",\"Yes It Is\",\"The Word\",\"Honey Pie\",\"Good Morning, Good Morning\",\"Lovely Rita\",\"Baby It's You\",\"Birthday\",\"My Bonnie\",\"Happiness Is a Warm Gun\",\"Back in the U.S.S.R.\",\"A Taste of Honey\",\"Kansas City \\u002f Hey, Hey, Hey, Hey\",\"In Spite of All the Danger\",\"Nowhere Man\",\"I Should Have Known Better\",\"Eight Days a Week\",\"With a Little Help From My Friends\",\"Because\",\"Getting Better\",\"Money (That's What I Want)\",\"Mother Nature's Son\",\"Anna (Go to Him)\",\"I Got a Woman\",\"If You've Got Trouble\",\"I Just Don't Understand\",\"Roll Over Beethoven\",\"Octopus's Garden\",\"Day Tripper\",\"What Goes on\",\"Magical Mystery Tour\",\"To Know Her Is to Love Her\",\"Johnny B. Goode\",\"One After 909\",\"Honey Don't\",\"Savoy Truffle\",\"Julia\",\"I Saw Her Standing There\",\"Slow Down\",\"12-bar Original\",\"That's All Right (Mama)\",\"Leave My Kitten Alone\",\"Tomorrow Never Knows\",\"Something\",\"The Ballad of John and Yoko\",\"Rain\",\"Nothin' Shakin' (But the Leaves on the Trees)\",\"The Fool on the Hill\",\"Searchin'\",\"Love You to\",\"I'm Only Sleeping\",\"You've Really Got a Hold on Me\",\"Penny Lane\",\"She's a Woman\",\"Cry Baby Cry\",\"Baby, You're a Rich Man\",\"Long, Long, Long\",\"All Things Must Pass\",\"Here Comes the Sun\",\"Ob-la-di, Ob-la-da\",\"Ticket to Ride\",\"Rip It Up \\u002f Shake, Rattle, and Roll \\u002f Blue Suede Shoes\",\"Good Night\",\"Get Back\",\"Hey Bulldog\",\"Sexy Sadie\",\"Old Brown Shoe\",\"Teddy Boy\",\"The Continuing Story of Bungalow Bill\",\"Revolution\",\"Revolution 1\",\"Not Guilty\",\"You Won't See Me\",\"Oh! Darling\",\"Hello, Goodbye\",\"Only a Northern Song\",\"Maxwell's Silver Hammer\",\"Lucy in the Sky with Diamonds\",\"Two of Us\",\"Rocky Raccoon\",\"Don't Let Me Down\",\"She's Leaving Home\",\"I've Got a Feeling\",\"The Long and Winding Road\",\"Sour Milk Sea - Esher Demo\",\"Across the Universe\",\"Don't Pass Me By\",\"Dig a Pony\",\"Blue Jay Way\",\"Dear Prudence\",\"All You Need Is Love\",\"Yer Blues\",\"You Never Give Me Your Money\",\"Let It Be\",\"Strawberry Fields Forever\",\"Come Together\",\"You Know My Name (Look Up the Number)\",\"Helter Skelter\",\"I Am the Walrus\",\"While My Guitar Gently Weeps\",\"Within You Without You\",\"A Day in the Life\",\"What's the New Mary Jane\",\"It's All Too Much\",\"Hey Jude\",\"I Want You (She's So Heavy)\",\"Revolution 9\"],\"xaxis\":\"x\",\"y\":[23.0,40.0,50.0,51.0,52.0,66.0,72.0,73.0,74.0,80.0,91.0,91.0,96.0,98.0,99.0,100.0,100.0,102.0,103.0,103.0,106.0,106.0,106.0,107.0,108.0,109.0,110.0,110.0,112.0,113.0,115.0,115.0,116.0,116.0,116.0,116.0,117.0,117.0,118.0,118.0,118.0,119.0,119.0,119.0,120.0,121.0,121.0,121.0,121.0,121.0,122.0,122.0,122.0,123.0,123.0,124.0,124.0,124.0,124.0,124.0,125.0,125.0,125.0,126.0,126.0,127.0,128.0,128.0,128.0,128.0,129.0,129.0,129.0,130.0,130.0,130.0,131.0,131.0,131.0,133.0,133.0,133.0,133.0,135.0,135.0,135.0,136.0,136.0,136.0,136.0,136.0,137.0,137.0,137.0,138.0,138.0,138.0,138.0,138.0,138.0,139.0,139.0,140.0,140.0,140.0,141.0,141.0,141.0,142.0,142.0,142.0,143.0,143.0,143.0,144.0,144.0,144.0,144.0,144.0,145.0,145.0,145.0,145.0,145.0,145.0,146.0,146.0,146.0,147.0,147.0,147.0,148.0,148.0,148.0,148.0,149.0,149.0,149.0,150.0,150.0,150.0,151.0,151.0,151.0,152.0,152.0,152.0,152.0,153.0,153.0,153.0,153.0,155.0,155.0,155.0,156.0,156.0,156.0,156.0,156.0,157.0,157.0,157.0,157.0,158.0,158.0,159.0,160.0,160.0,161.0,161.0,161.0,161.0,162.0,162.0,162.0,162.0,163.0,163.0,163.0,163.0,164.0,164.0,164.0,164.0,164.0,165.0,167.0,167.0,168.0,168.0,168.0,168.0,168.0,168.0,168.0,170.0,170.0,171.0,171.0,171.0,172.0,173.0,174.0,174.0,175.0,175.0,175.0,176.0,176.0,178.0,179.0,179.0,179.0,180.0,180.0,180.0,181.0,182.0,182.0,183.0,183.0,183.0,183.0,184.0,185.0,186.0,187.0,190.0,191.0,191.0,194.0,194.0,195.0,196.0,198.0,198.0,201.0,201.0,202.0,202.0,206.0,207.0,207.0,207.0,208.0,213.0,213.0,215.0,215.0,217.0,220.0,224.0,230.0,231.0,232.0,235.0,236.0,237.0,241.0,242.0,243.0,245.0,258.0,261.0,270.0,273.0,286.0,305.0,335.0,372.0,388.0,431.0,467.0,502.0],\"yaxis\":\"y\",\"type\":\"bar\"}],                        {\"template\":{\"data\":{\"candlestick\":[{\"decreasing\":{\"line\":{\"color\":\"#000033\"}},\"increasing\":{\"line\":{\"color\":\"#000032\"}},\"type\":\"candlestick\"}],\"contourcarpet\":[{\"colorscale\":[[0.0,\"#000011\"],[0.1111111111111111,\"#000012\"],[0.2222222222222222,\"#000013\"],[0.3333333333333333,\"#000014\"],[0.4444444444444444,\"#000015\"],[0.5555555555555556,\"#000016\"],[0.6666666666666666,\"#000017\"],[0.7777777777777778,\"#000018\"],[0.8888888888888888,\"#000019\"],[1.0,\"#000020\"]],\"type\":\"contourcarpet\"}],\"contour\":[{\"colorscale\":[[0.0,\"#000011\"],[0.1111111111111111,\"#000012\"],[0.2222222222222222,\"#000013\"],[0.3333333333333333,\"#000014\"],[0.4444444444444444,\"#000015\"],[0.5555555555555556,\"#000016\"],[0.6666666666666666,\"#000017\"],[0.7777777777777778,\"#000018\"],[0.8888888888888888,\"#000019\"],[1.0,\"#000020\"]],\"type\":\"contour\"}],\"heatmap\":[{\"colorscale\":[[0.0,\"#000011\"],[0.1111111111111111,\"#000012\"],[0.2222222222222222,\"#000013\"],[0.3333333333333333,\"#000014\"],[0.4444444444444444,\"#000015\"],[0.5555555555555556,\"#000016\"],[0.6666666666666666,\"#000017\"],[0.7777777777777778,\"#000018\"],[0.8888888888888888,\"#000019\"],[1.0,\"#000020\"]],\"type\":\"heatmap\"}],\"histogram2d\":[{\"colorscale\":[[0.0,\"#000011\"],[0.1111111111111111,\"#000012\"],[0.2222222222222222,\"#000013\"],[0.3333333333333333,\"#000014\"],[0.4444444444444444,\"#000015\"],[0.5555555555555556,\"#000016\"],[0.6666666666666666,\"#000017\"],[0.7777777777777778,\"#000018\"],[0.8888888888888888,\"#000019\"],[1.0,\"#000020\"]],\"type\":\"histogram2d\"}],\"icicle\":[{\"textfont\":{\"color\":\"white\"},\"type\":\"icicle\"}],\"sankey\":[{\"textfont\":{\"color\":\"#000036\"},\"type\":\"sankey\"}],\"scatter\":[{\"marker\":{\"line\":{\"width\":0}},\"type\":\"scatter\"}],\"table\":[{\"cells\":{\"fill\":{\"color\":\"#000038\"},\"font\":{\"color\":\"#000037\"},\"line\":{\"color\":\"#000039\"}},\"header\":{\"fill\":{\"color\":\"#000040\"},\"font\":{\"color\":\"#000036\"},\"line\":{\"color\":\"#000039\"}},\"type\":\"table\"}],\"waterfall\":[{\"connector\":{\"line\":{\"color\":\"#000036\",\"width\":2}},\"decreasing\":{\"marker\":{\"color\":\"#000033\"}},\"increasing\":{\"marker\":{\"color\":\"#000032\"}},\"totals\":{\"marker\":{\"color\":\"#000034\"}},\"type\":\"waterfall\"}]},\"layout\":{\"coloraxis\":{\"colorscale\":[[0.0,\"#000011\"],[0.1111111111111111,\"#000012\"],[0.2222222222222222,\"#000013\"],[0.3333333333333333,\"#000014\"],[0.4444444444444444,\"#000015\"],[0.5555555555555556,\"#000016\"],[0.6666666666666666,\"#000017\"],[0.7777777777777778,\"#000018\"],[0.8888888888888888,\"#000019\"],[1.0,\"#000020\"]]},\"colorscale\":{\"diverging\":[[0.0,\"#000021\"],[0.1,\"#000022\"],[0.2,\"#000023\"],[0.3,\"#000024\"],[0.4,\"#000025\"],[0.5,\"#000026\"],[0.6,\"#000027\"],[0.7,\"#000028\"],[0.8,\"#000029\"],[0.9,\"#000030\"],[1.0,\"#000031\"]],\"sequential\":[[0.0,\"#000011\"],[0.1111111111111111,\"#000012\"],[0.2222222222222222,\"#000013\"],[0.3333333333333333,\"#000014\"],[0.4444444444444444,\"#000015\"],[0.5555555555555556,\"#000016\"],[0.6666666666666666,\"#000017\"],[0.7777777777777778,\"#000018\"],[0.8888888888888888,\"#000019\"],[1.0,\"#000020\"]],\"sequentialminus\":[[0.0,\"#000011\"],[0.1111111111111111,\"#000012\"],[0.2222222222222222,\"#000013\"],[0.3333333333333333,\"#000014\"],[0.4444444444444444,\"#000015\"],[0.5555555555555556,\"#000016\"],[0.6666666666666666,\"#000017\"],[0.7777777777777778,\"#000018\"],[0.8888888888888888,\"#000019\"],[1.0,\"#000020\"]]},\"colorway\":[\"#000001\",\"#000002\",\"#000003\",\"#000004\",\"#000005\",\"#000006\",\"#000007\",\"#000008\",\"#000009\",\"#000010\"]}},\"xaxis\":{\"anchor\":\"y\",\"domain\":[0.0,1.0],\"title\":{\"text\":\"Name\"}},\"yaxis\":{\"anchor\":\"x\",\"domain\":[0.0,1.0],\"title\":{\"text\":\"Duration\"}},\"coloraxis\":{\"colorbar\":{\"title\":{\"text\":\"Year\"}},\"colorscale\":[[0.0,\"#0d0887\"],[0.1111111111111111,\"#46039f\"],[0.2222222222222222,\"#7201a8\"],[0.3333333333333333,\"#9c179e\"],[0.4444444444444444,\"#bd3786\"],[0.5555555555555556,\"#d8576b\"],[0.6666666666666666,\"#ed7953\"],[0.7777777777777778,\"#fb9f3a\"],[0.8888888888888888,\"#fdca26\"],[1.0,\"#f0f921\"]]},\"legend\":{\"tracegroupgap\":0},\"margin\":{\"t\":60},\"barmode\":\"relative\"},                        {\"responsive\": true}                    ).then(function(){\n",
       "                            \n",
       "var gd = document.getElementById('0741c9df-a5bf-4b7c-add8-9522833c63c9');\n",
       "var x = new MutationObserver(function (mutations, observer) {{\n",
       "        var display = window.getComputedStyle(gd).display;\n",
       "        if (!display || display === 'none') {{\n",
       "            console.log([gd, 'removed!']);\n",
       "            Plotly.purge(gd);\n",
       "            observer.disconnect();\n",
       "        }}\n",
       "}});\n",
       "\n",
       "// Listen for the removal of the full notebook cells\n",
       "var notebookContainer = gd.closest('#notebook-container');\n",
       "if (notebookContainer) {{\n",
       "    x.observe(notebookContainer, {childList: true});\n",
       "}}\n",
       "\n",
       "// Listen for the clearing of the current output cell\n",
       "var outputEl = gd.closest('.output');\n",
       "if (outputEl) {{\n",
       "    x.observe(outputEl, {childList: true});\n",
       "}}\n",
       "\n",
       "                        })                };                });            </script>        </div>"
      ]
     },
     "metadata": {},
     "output_type": "display_data"
    },
    {
     "name": "stdout",
     "output_type": "stream",
     "text": [
      "This graph can help us to define the shortest and the longest song\n"
     ]
    }
   ],
   "source": [
    "# 3 Chart\n",
    "# Bar chart that shows songs' duration\n",
    "dt_sort2 = dt.sort_values(by='Duration', ascending=True)\n",
    "print(\"Songs' duration\")\n",
    "fig3 = px.bar(\n",
    "    dt_sort2,\n",
    "    x=\"Title\",\n",
    "    y=\"Duration\",\n",
    "    color=\"Year\",  # Added color based on Year\n",
    "    color_continuous_scale=\"Plasma\",  # Added palette\n",
    "    labels={\"Title\": \"Name\", \"Duration\": \"Duration\"}\n",
    ")\n",
    "fig3.show()\n",
    "print(\"This graph can help us to define the shortest and the longest song\")"
   ]
  },
  {
   "cell_type": "code",
   "execution_count": 20,
   "id": "4a27f99c-8e26-4f5e-bc04-8d6876e9c8ac",
   "metadata": {},
   "outputs": [
    {
     "name": "stdout",
     "output_type": "stream",
     "text": [
      "Songs Rolling Stone Top 50\n"
     ]
    },
    {
     "data": {
      "application/vnd.plotly.v1+json": {
       "config": {
        "plotlyServerURL": "https://plot.ly"
       },
       "data": [
        {
         "domain": {
          "x": [
           0,
           1
          ],
          "y": [
           0,
           1
          ]
         },
         "hovertemplate": "label=%{label}<br>value=%{value}<extra></extra>",
         "labels": [
          "Out of the top",
          42,
          27,
          31,
          49,
          12,
          30,
          17,
          43,
          15,
          39,
          5,
          34,
          9,
          36,
          47,
          29,
          11,
          26,
          45,
          44,
          2,
          14,
          16,
          4,
          40,
          37,
          22,
          46,
          48,
          41,
          28,
          6,
          8,
          38,
          24,
          7,
          13,
          10,
          33,
          1,
          19,
          21,
          25,
          32,
          35,
          18,
          50,
          3,
          20
         ],
         "legendgroup": "",
         "name": "",
         "showlegend": true,
         "type": "pie",
         "values": [
          226,
          1,
          1,
          1,
          1,
          1,
          1,
          1,
          1,
          1,
          1,
          1,
          1,
          1,
          1,
          1,
          1,
          1,
          1,
          1,
          1,
          1,
          1,
          1,
          1,
          1,
          1,
          1,
          1,
          1,
          1,
          1,
          1,
          1,
          1,
          1,
          1,
          1,
          1,
          1,
          1,
          1,
          1,
          1,
          1,
          1,
          1,
          1,
          1,
          1
         ]
        }
       ],
       "layout": {
        "legend": {
         "tracegroupgap": 0
        },
        "margin": {
         "t": 60
        },
        "piecolorway": [
         "rgb(102, 197, 204)",
         "rgb(246, 207, 113)",
         "rgb(248, 156, 116)",
         "rgb(220, 176, 242)",
         "rgb(135, 197, 95)",
         "rgb(158, 185, 243)",
         "rgb(254, 136, 177)",
         "rgb(201, 219, 116)",
         "rgb(139, 224, 164)",
         "rgb(180, 151, 231)",
         "rgb(179, 179, 179)"
        ],
        "template": {
         "data": {
          "candlestick": [
           {
            "decreasing": {
             "line": {
              "color": "#000033"
             }
            },
            "increasing": {
             "line": {
              "color": "#000032"
             }
            },
            "type": "candlestick"
           }
          ],
          "contour": [
           {
            "colorscale": [
             [
              0,
              "#000011"
             ],
             [
              0.1111111111111111,
              "#000012"
             ],
             [
              0.2222222222222222,
              "#000013"
             ],
             [
              0.3333333333333333,
              "#000014"
             ],
             [
              0.4444444444444444,
              "#000015"
             ],
             [
              0.5555555555555556,
              "#000016"
             ],
             [
              0.6666666666666666,
              "#000017"
             ],
             [
              0.7777777777777778,
              "#000018"
             ],
             [
              0.8888888888888888,
              "#000019"
             ],
             [
              1,
              "#000020"
             ]
            ],
            "type": "contour"
           }
          ],
          "contourcarpet": [
           {
            "colorscale": [
             [
              0,
              "#000011"
             ],
             [
              0.1111111111111111,
              "#000012"
             ],
             [
              0.2222222222222222,
              "#000013"
             ],
             [
              0.3333333333333333,
              "#000014"
             ],
             [
              0.4444444444444444,
              "#000015"
             ],
             [
              0.5555555555555556,
              "#000016"
             ],
             [
              0.6666666666666666,
              "#000017"
             ],
             [
              0.7777777777777778,
              "#000018"
             ],
             [
              0.8888888888888888,
              "#000019"
             ],
             [
              1,
              "#000020"
             ]
            ],
            "type": "contourcarpet"
           }
          ],
          "heatmap": [
           {
            "colorscale": [
             [
              0,
              "#000011"
             ],
             [
              0.1111111111111111,
              "#000012"
             ],
             [
              0.2222222222222222,
              "#000013"
             ],
             [
              0.3333333333333333,
              "#000014"
             ],
             [
              0.4444444444444444,
              "#000015"
             ],
             [
              0.5555555555555556,
              "#000016"
             ],
             [
              0.6666666666666666,
              "#000017"
             ],
             [
              0.7777777777777778,
              "#000018"
             ],
             [
              0.8888888888888888,
              "#000019"
             ],
             [
              1,
              "#000020"
             ]
            ],
            "type": "heatmap"
           }
          ],
          "histogram2d": [
           {
            "colorscale": [
             [
              0,
              "#000011"
             ],
             [
              0.1111111111111111,
              "#000012"
             ],
             [
              0.2222222222222222,
              "#000013"
             ],
             [
              0.3333333333333333,
              "#000014"
             ],
             [
              0.4444444444444444,
              "#000015"
             ],
             [
              0.5555555555555556,
              "#000016"
             ],
             [
              0.6666666666666666,
              "#000017"
             ],
             [
              0.7777777777777778,
              "#000018"
             ],
             [
              0.8888888888888888,
              "#000019"
             ],
             [
              1,
              "#000020"
             ]
            ],
            "type": "histogram2d"
           }
          ],
          "icicle": [
           {
            "textfont": {
             "color": "white"
            },
            "type": "icicle"
           }
          ],
          "sankey": [
           {
            "textfont": {
             "color": "#000036"
            },
            "type": "sankey"
           }
          ],
          "scatter": [
           {
            "marker": {
             "line": {
              "width": 0
             }
            },
            "type": "scatter"
           }
          ],
          "table": [
           {
            "cells": {
             "fill": {
              "color": "#000038"
             },
             "font": {
              "color": "#000037"
             },
             "line": {
              "color": "#000039"
             }
            },
            "header": {
             "fill": {
              "color": "#000040"
             },
             "font": {
              "color": "#000036"
             },
             "line": {
              "color": "#000039"
             }
            },
            "type": "table"
           }
          ],
          "waterfall": [
           {
            "connector": {
             "line": {
              "color": "#000036",
              "width": 2
             }
            },
            "decreasing": {
             "marker": {
              "color": "#000033"
             }
            },
            "increasing": {
             "marker": {
              "color": "#000032"
             }
            },
            "totals": {
             "marker": {
              "color": "#000034"
             }
            },
            "type": "waterfall"
           }
          ]
         },
         "layout": {
          "coloraxis": {
           "colorscale": [
            [
             0,
             "#000011"
            ],
            [
             0.1111111111111111,
             "#000012"
            ],
            [
             0.2222222222222222,
             "#000013"
            ],
            [
             0.3333333333333333,
             "#000014"
            ],
            [
             0.4444444444444444,
             "#000015"
            ],
            [
             0.5555555555555556,
             "#000016"
            ],
            [
             0.6666666666666666,
             "#000017"
            ],
            [
             0.7777777777777778,
             "#000018"
            ],
            [
             0.8888888888888888,
             "#000019"
            ],
            [
             1,
             "#000020"
            ]
           ]
          },
          "colorscale": {
           "diverging": [
            [
             0,
             "#000021"
            ],
            [
             0.1,
             "#000022"
            ],
            [
             0.2,
             "#000023"
            ],
            [
             0.3,
             "#000024"
            ],
            [
             0.4,
             "#000025"
            ],
            [
             0.5,
             "#000026"
            ],
            [
             0.6,
             "#000027"
            ],
            [
             0.7,
             "#000028"
            ],
            [
             0.8,
             "#000029"
            ],
            [
             0.9,
             "#000030"
            ],
            [
             1,
             "#000031"
            ]
           ],
           "sequential": [
            [
             0,
             "#000011"
            ],
            [
             0.1111111111111111,
             "#000012"
            ],
            [
             0.2222222222222222,
             "#000013"
            ],
            [
             0.3333333333333333,
             "#000014"
            ],
            [
             0.4444444444444444,
             "#000015"
            ],
            [
             0.5555555555555556,
             "#000016"
            ],
            [
             0.6666666666666666,
             "#000017"
            ],
            [
             0.7777777777777778,
             "#000018"
            ],
            [
             0.8888888888888888,
             "#000019"
            ],
            [
             1,
             "#000020"
            ]
           ],
           "sequentialminus": [
            [
             0,
             "#000011"
            ],
            [
             0.1111111111111111,
             "#000012"
            ],
            [
             0.2222222222222222,
             "#000013"
            ],
            [
             0.3333333333333333,
             "#000014"
            ],
            [
             0.4444444444444444,
             "#000015"
            ],
            [
             0.5555555555555556,
             "#000016"
            ],
            [
             0.6666666666666666,
             "#000017"
            ],
            [
             0.7777777777777778,
             "#000018"
            ],
            [
             0.8888888888888888,
             "#000019"
            ],
            [
             1,
             "#000020"
            ]
           ]
          },
          "colorway": [
           "#000001",
           "#000002",
           "#000003",
           "#000004",
           "#000005",
           "#000006",
           "#000007",
           "#000008",
           "#000009",
           "#000010"
          ]
         }
        }
       }
      },
      "image/png": "[encoded data removed]",
      "text/html": [
       "<div>                            <div id=\"e358aa8f-3615-4f0d-95a3-ea8a329fad8e\" class=\"plotly-graph-div\" style=\"height:525px; width:100%;\"></div>            <script type=\"text/javascript\">                require([\"plotly\"], function(Plotly) {                    window.PLOTLYENV=window.PLOTLYENV || {};                                    if (document.getElementById(\"e358aa8f-3615-4f0d-95a3-ea8a329fad8e\")) {                    Plotly.newPlot(                        \"e358aa8f-3615-4f0d-95a3-ea8a329fad8e\",                        [{\"domain\":{\"x\":[0.0,1.0],\"y\":[0.0,1.0]},\"hovertemplate\":\"label=%{label}\\u003cbr\\u003evalue=%{value}\\u003cextra\\u003e\\u003c\\u002fextra\\u003e\",\"labels\":[\"Out of the top\",42.0,27.0,31.0,49.0,12.0,30.0,17.0,43.0,15.0,39.0,5.0,34.0,9.0,36.0,47.0,29.0,11.0,26.0,45.0,44.0,2.0,14.0,16.0,4.0,40.0,37.0,22.0,46.0,48.0,41.0,28.0,6.0,8.0,38.0,24.0,7.0,13.0,10.0,33.0,1.0,19.0,21.0,25.0,32.0,35.0,18.0,50.0,3.0,20.0],\"legendgroup\":\"\",\"name\":\"\",\"showlegend\":true,\"values\":[226,1,1,1,1,1,1,1,1,1,1,1,1,1,1,1,1,1,1,1,1,1,1,1,1,1,1,1,1,1,1,1,1,1,1,1,1,1,1,1,1,1,1,1,1,1,1,1,1,1],\"type\":\"pie\"}],                        {\"template\":{\"data\":{\"candlestick\":[{\"decreasing\":{\"line\":{\"color\":\"#000033\"}},\"increasing\":{\"line\":{\"color\":\"#000032\"}},\"type\":\"candlestick\"}],\"contourcarpet\":[{\"colorscale\":[[0.0,\"#000011\"],[0.1111111111111111,\"#000012\"],[0.2222222222222222,\"#000013\"],[0.3333333333333333,\"#000014\"],[0.4444444444444444,\"#000015\"],[0.5555555555555556,\"#000016\"],[0.6666666666666666,\"#000017\"],[0.7777777777777778,\"#000018\"],[0.8888888888888888,\"#000019\"],[1.0,\"#000020\"]],\"type\":\"contourcarpet\"}],\"contour\":[{\"colorscale\":[[0.0,\"#000011\"],[0.1111111111111111,\"#000012\"],[0.2222222222222222,\"#000013\"],[0.3333333333333333,\"#000014\"],[0.4444444444444444,\"#000015\"],[0.5555555555555556,\"#000016\"],[0.6666666666666666,\"#000017\"],[0.7777777777777778,\"#000018\"],[0.8888888888888888,\"#000019\"],[1.0,\"#000020\"]],\"type\":\"contour\"}],\"heatmap\":[{\"colorscale\":[[0.0,\"#000011\"],[0.1111111111111111,\"#000012\"],[0.2222222222222222,\"#000013\"],[0.3333333333333333,\"#000014\"],[0.4444444444444444,\"#000015\"],[0.5555555555555556,\"#000016\"],[0.6666666666666666,\"#000017\"],[0.7777777777777778,\"#000018\"],[0.8888888888888888,\"#000019\"],[1.0,\"#000020\"]],\"type\":\"heatmap\"}],\"histogram2d\":[{\"colorscale\":[[0.0,\"#000011\"],[0.1111111111111111,\"#000012\"],[0.2222222222222222,\"#000013\"],[0.3333333333333333,\"#000014\"],[0.4444444444444444,\"#000015\"],[0.5555555555555556,\"#000016\"],[0.6666666666666666,\"#000017\"],[0.7777777777777778,\"#000018\"],[0.8888888888888888,\"#000019\"],[1.0,\"#000020\"]],\"type\":\"histogram2d\"}],\"icicle\":[{\"textfont\":{\"color\":\"white\"},\"type\":\"icicle\"}],\"sankey\":[{\"textfont\":{\"color\":\"#000036\"},\"type\":\"sankey\"}],\"scatter\":[{\"marker\":{\"line\":{\"width\":0}},\"type\":\"scatter\"}],\"table\":[{\"cells\":{\"fill\":{\"color\":\"#000038\"},\"font\":{\"color\":\"#000037\"},\"line\":{\"color\":\"#000039\"}},\"header\":{\"fill\":{\"color\":\"#000040\"},\"font\":{\"color\":\"#000036\"},\"line\":{\"color\":\"#000039\"}},\"type\":\"table\"}],\"waterfall\":[{\"connector\":{\"line\":{\"color\":\"#000036\",\"width\":2}},\"decreasing\":{\"marker\":{\"color\":\"#000033\"}},\"increasing\":{\"marker\":{\"color\":\"#000032\"}},\"totals\":{\"marker\":{\"color\":\"#000034\"}},\"type\":\"waterfall\"}]},\"layout\":{\"coloraxis\":{\"colorscale\":[[0.0,\"#000011\"],[0.1111111111111111,\"#000012\"],[0.2222222222222222,\"#000013\"],[0.3333333333333333,\"#000014\"],[0.4444444444444444,\"#000015\"],[0.5555555555555556,\"#000016\"],[0.6666666666666666,\"#000017\"],[0.7777777777777778,\"#000018\"],[0.8888888888888888,\"#000019\"],[1.0,\"#000020\"]]},\"colorscale\":{\"diverging\":[[0.0,\"#000021\"],[0.1,\"#000022\"],[0.2,\"#000023\"],[0.3,\"#000024\"],[0.4,\"#000025\"],[0.5,\"#000026\"],[0.6,\"#000027\"],[0.7,\"#000028\"],[0.8,\"#000029\"],[0.9,\"#000030\"],[1.0,\"#000031\"]],\"sequential\":[[0.0,\"#000011\"],[0.1111111111111111,\"#000012\"],[0.2222222222222222,\"#000013\"],[0.3333333333333333,\"#000014\"],[0.4444444444444444,\"#000015\"],[0.5555555555555556,\"#000016\"],[0.6666666666666666,\"#000017\"],[0.7777777777777778,\"#000018\"],[0.8888888888888888,\"#000019\"],[1.0,\"#000020\"]],\"sequentialminus\":[[0.0,\"#000011\"],[0.1111111111111111,\"#000012\"],[0.2222222222222222,\"#000013\"],[0.3333333333333333,\"#000014\"],[0.4444444444444444,\"#000015\"],[0.5555555555555556,\"#000016\"],[0.6666666666666666,\"#000017\"],[0.7777777777777778,\"#000018\"],[0.8888888888888888,\"#000019\"],[1.0,\"#000020\"]]},\"colorway\":[\"#000001\",\"#000002\",\"#000003\",\"#000004\",\"#000005\",\"#000006\",\"#000007\",\"#000008\",\"#000009\",\"#000010\"]}},\"legend\":{\"tracegroupgap\":0},\"margin\":{\"t\":60},\"piecolorway\":[\"rgb(102, 197, 204)\",\"rgb(246, 207, 113)\",\"rgb(248, 156, 116)\",\"rgb(220, 176, 242)\",\"rgb(135, 197, 95)\",\"rgb(158, 185, 243)\",\"rgb(254, 136, 177)\",\"rgb(201, 219, 116)\",\"rgb(139, 224, 164)\",\"rgb(180, 151, 231)\",\"rgb(179, 179, 179)\"]},                        {\"responsive\": true}                    ).then(function(){\n",
       "                            \n",
       "var gd = document.getElementById('e358aa8f-3615-4f0d-95a3-ea8a329fad8e');\n",
       "var x = new MutationObserver(function (mutations, observer) {{\n",
       "        var display = window.getComputedStyle(gd).display;\n",
       "        if (!display || display === 'none') {{\n",
       "            console.log([gd, 'removed!']);\n",
       "            Plotly.purge(gd);\n",
       "            observer.disconnect();\n",
       "        }}\n",
       "}});\n",
       "\n",
       "// Listen for the removal of the full notebook cells\n",
       "var notebookContainer = gd.closest('#notebook-container');\n",
       "if (notebookContainer) {{\n",
       "    x.observe(notebookContainer, {childList: true});\n",
       "}}\n",
       "\n",
       "// Listen for the clearing of the current output cell\n",
       "var outputEl = gd.closest('.output');\n",
       "if (outputEl) {{\n",
       "    x.observe(outputEl, {childList: true});\n",
       "}}\n",
       "\n",
       "                        })                };                });            </script>        </div>"
      ]
     },
     "metadata": {},
     "output_type": "display_data"
    },
    {
     "name": "stdout",
     "output_type": "stream",
     "text": [
      "On this piechart we can see how many songs got into the chart and what places they get.\n"
     ]
    }
   ],
   "source": [
    "# 4 Chart\n",
    "# Rolling Stone Top 50\n",
    "print(\"Songs Rolling Stone Top 50\")\n",
    "top_all = dt[\"Top 50 (Rolling Stone)\"].value_counts()\n",
    "fig4 = px.pie(\n",
    "    values=top_all.values,\n",
    "    names=[pos if pos != 0 else \"Out of the top\" for pos in top_all.index],\n",
    "    color_discrete_sequence=px.colors.qualitative.Pastel  # Added palette\n",
    ")\n",
    "fig4.show()\n",
    "print(\"On this piechart we can see how many songs got into the chart and what places they get.\")"
   ]
  },
  {
   "cell_type": "code",
   "execution_count": 21,
   "id": "f58f8598-63fc-45df-9aa8-9bf5a52a8692",
   "metadata": {},
   "outputs": [
    {
     "name": "stdout",
     "output_type": "stream",
     "text": [
      "The Beatles' most favorite keys\n"
     ]
    },
    {
     "data": {
      "application/vnd.plotly.v1+json": {
       "config": {
        "plotlyServerURL": "https://plot.ly"
       },
       "data": [
        {
         "domain": {
          "x": [
           0,
           1
          ],
          "y": [
           0,
           1
          ]
         },
         "hovertemplate": "label=%{label}<br>value=%{value}<extra></extra>",
         "labels": [
          9,
          2,
          4,
          7,
          0,
          5,
          1,
          11,
          8,
          6,
          10,
          3
         ],
         "legendgroup": "",
         "name": "",
         "showlegend": true,
         "type": "pie",
         "values": [
          55,
          47,
          42,
          38,
          35,
          15,
          13,
          9,
          7,
          6,
          5,
          3
         ]
        }
       ],
       "layout": {
        "legend": {
         "tracegroupgap": 0
        },
        "margin": {
         "t": 60
        },
        "piecolorway": [
         "rgb(127, 60, 141)",
         "rgb(17, 165, 121)",
         "rgb(57, 105, 172)",
         "rgb(242, 183, 1)",
         "rgb(231, 63, 116)",
         "rgb(128, 186, 90)",
         "rgb(230, 131, 16)",
         "rgb(0, 134, 149)",
         "rgb(207, 28, 144)",
         "rgb(249, 123, 114)",
         "rgb(165, 170, 153)"
        ],
        "template": {
         "data": {
          "candlestick": [
           {
            "decreasing": {
             "line": {
              "color": "#000033"
             }
            },
            "increasing": {
             "line": {
              "color": "#000032"
             }
            },
            "type": "candlestick"
           }
          ],
          "contour": [
           {
            "colorscale": [
             [
              0,
              "#000011"
             ],
             [
              0.1111111111111111,
              "#000012"
             ],
             [
              0.2222222222222222,
              "#000013"
             ],
             [
              0.3333333333333333,
              "#000014"
             ],
             [
              0.4444444444444444,
              "#000015"
             ],
             [
              0.5555555555555556,
              "#000016"
             ],
             [
              0.6666666666666666,
              "#000017"
             ],
             [
              0.7777777777777778,
              "#000018"
             ],
             [
              0.8888888888888888,
              "#000019"
             ],
             [
              1,
              "#000020"
             ]
            ],
            "type": "contour"
           }
          ],
          "contourcarpet": [
           {
            "colorscale": [
             [
              0,
              "#000011"
             ],
             [
              0.1111111111111111,
              "#000012"
             ],
             [
              0.2222222222222222,
              "#000013"
             ],
             [
              0.3333333333333333,
              "#000014"
             ],
             [
              0.4444444444444444,
              "#000015"
             ],
             [
              0.5555555555555556,
              "#000016"
             ],
             [
              0.6666666666666666,
              "#000017"
             ],
             [
              0.7777777777777778,
              "#000018"
             ],
             [
              0.8888888888888888,
              "#000019"
             ],
             [
              1,
              "#000020"
             ]
            ],
            "type": "contourcarpet"
           }
          ],
          "heatmap": [
           {
            "colorscale": [
             [
              0,
              "#000011"
             ],
             [
              0.1111111111111111,
              "#000012"
             ],
             [
              0.2222222222222222,
              "#000013"
             ],
             [
              0.3333333333333333,
              "#000014"
             ],
             [
              0.4444444444444444,
              "#000015"
             ],
             [
              0.5555555555555556,
              "#000016"
             ],
             [
              0.6666666666666666,
              "#000017"
             ],
             [
              0.7777777777777778,
              "#000018"
             ],
             [
              0.8888888888888888,
              "#000019"
             ],
             [
              1,
              "#000020"
             ]
            ],
            "type": "heatmap"
           }
          ],
          "histogram2d": [
           {
            "colorscale": [
             [
              0,
              "#000011"
             ],
             [
              0.1111111111111111,
              "#000012"
             ],
             [
              0.2222222222222222,
              "#000013"
             ],
             [
              0.3333333333333333,
              "#000014"
             ],
             [
              0.4444444444444444,
              "#000015"
             ],
             [
              0.5555555555555556,
              "#000016"
             ],
             [
              0.6666666666666666,
              "#000017"
             ],
             [
              0.7777777777777778,
              "#000018"
             ],
             [
              0.8888888888888888,
              "#000019"
             ],
             [
              1,
              "#000020"
             ]
            ],
            "type": "histogram2d"
           }
          ],
          "icicle": [
           {
            "textfont": {
             "color": "white"
            },
            "type": "icicle"
           }
          ],
          "sankey": [
           {
            "textfont": {
             "color": "#000036"
            },
            "type": "sankey"
           }
          ],
          "scatter": [
           {
            "marker": {
             "line": {
              "width": 0
             }
            },
            "type": "scatter"
           }
          ],
          "table": [
           {
            "cells": {
             "fill": {
              "color": "#000038"
             },
             "font": {
              "color": "#000037"
             },
             "line": {
              "color": "#000039"
             }
            },
            "header": {
             "fill": {
              "color": "#000040"
             },
             "font": {
              "color": "#000036"
             },
             "line": {
              "color": "#000039"
             }
            },
            "type": "table"
           }
          ],
          "waterfall": [
           {
            "connector": {
             "line": {
              "color": "#000036",
              "width": 2
             }
            },
            "decreasing": {
             "marker": {
              "color": "#000033"
             }
            },
            "increasing": {
             "marker": {
              "color": "#000032"
             }
            },
            "totals": {
             "marker": {
              "color": "#000034"
             }
            },
            "type": "waterfall"
           }
          ]
         },
         "layout": {
          "coloraxis": {
           "colorscale": [
            [
             0,
             "#000011"
            ],
            [
             0.1111111111111111,
             "#000012"
            ],
            [
             0.2222222222222222,
             "#000013"
            ],
            [
             0.3333333333333333,
             "#000014"
            ],
            [
             0.4444444444444444,
             "#000015"
            ],
            [
             0.5555555555555556,
             "#000016"
            ],
            [
             0.6666666666666666,
             "#000017"
            ],
            [
             0.7777777777777778,
             "#000018"
            ],
            [
             0.8888888888888888,
             "#000019"
            ],
            [
             1,
             "#000020"
            ]
           ]
          },
          "colorscale": {
           "diverging": [
            [
             0,
             "#000021"
            ],
            [
             0.1,
             "#000022"
            ],
            [
             0.2,
             "#000023"
            ],
            [
             0.3,
             "#000024"
            ],
            [
             0.4,
             "#000025"
            ],
            [
             0.5,
             "#000026"
            ],
            [
             0.6,
             "#000027"
            ],
            [
             0.7,
             "#000028"
            ],
            [
             0.8,
             "#000029"
            ],
            [
             0.9,
             "#000030"
            ],
            [
             1,
             "#000031"
            ]
           ],
           "sequential": [
            [
             0,
             "#000011"
            ],
            [
             0.1111111111111111,
             "#000012"
            ],
            [
             0.2222222222222222,
             "#000013"
            ],
            [
             0.3333333333333333,
             "#000014"
            ],
            [
             0.4444444444444444,
             "#000015"
            ],
            [
             0.5555555555555556,
             "#000016"
            ],
            [
             0.6666666666666666,
             "#000017"
            ],
            [
             0.7777777777777778,
             "#000018"
            ],
            [
             0.8888888888888888,
             "#000019"
            ],
            [
             1,
             "#000020"
            ]
           ],
           "sequentialminus": [
            [
             0,
             "#000011"
            ],
            [
             0.1111111111111111,
             "#000012"
            ],
            [
             0.2222222222222222,
             "#000013"
            ],
            [
             0.3333333333333333,
             "#000014"
            ],
            [
             0.4444444444444444,
             "#000015"
            ],
            [
             0.5555555555555556,
             "#000016"
            ],
            [
             0.6666666666666666,
             "#000017"
            ],
            [
             0.7777777777777778,
             "#000018"
            ],
            [
             0.8888888888888888,
             "#000019"
            ],
            [
             1,
             "#000020"
            ]
           ]
          },
          "colorway": [
           "#000001",
           "#000002",
           "#000003",
           "#000004",
           "#000005",
           "#000006",
           "#000007",
           "#000008",
           "#000009",
           "#000010"
          ]
         }
        }
       }
      },
      "image/png": "[encoded data removed]",
      "text/html": [
       "<div>                            <div id=\"2cb017cc-5e3c-4829-9167-358c41d42a3b\" class=\"plotly-graph-div\" style=\"height:525px; width:100%;\"></div>            <script type=\"text/javascript\">                require([\"plotly\"], function(Plotly) {                    window.PLOTLYENV=window.PLOTLYENV || {};                                    if (document.getElementById(\"2cb017cc-5e3c-4829-9167-358c41d42a3b\")) {                    Plotly.newPlot(                        \"2cb017cc-5e3c-4829-9167-358c41d42a3b\",                        [{\"domain\":{\"x\":[0.0,1.0],\"y\":[0.0,1.0]},\"hovertemplate\":\"label=%{label}\\u003cbr\\u003evalue=%{value}\\u003cextra\\u003e\\u003c\\u002fextra\\u003e\",\"labels\":[9.0,2.0,4.0,7.0,0.0,5.0,1.0,11.0,8.0,6.0,10.0,3.0],\"legendgroup\":\"\",\"name\":\"\",\"showlegend\":true,\"values\":[55,47,42,38,35,15,13,9,7,6,5,3],\"type\":\"pie\"}],                        {\"template\":{\"data\":{\"candlestick\":[{\"decreasing\":{\"line\":{\"color\":\"#000033\"}},\"increasing\":{\"line\":{\"color\":\"#000032\"}},\"type\":\"candlestick\"}],\"contourcarpet\":[{\"colorscale\":[[0.0,\"#000011\"],[0.1111111111111111,\"#000012\"],[0.2222222222222222,\"#000013\"],[0.3333333333333333,\"#000014\"],[0.4444444444444444,\"#000015\"],[0.5555555555555556,\"#000016\"],[0.6666666666666666,\"#000017\"],[0.7777777777777778,\"#000018\"],[0.8888888888888888,\"#000019\"],[1.0,\"#000020\"]],\"type\":\"contourcarpet\"}],\"contour\":[{\"colorscale\":[[0.0,\"#000011\"],[0.1111111111111111,\"#000012\"],[0.2222222222222222,\"#000013\"],[0.3333333333333333,\"#000014\"],[0.4444444444444444,\"#000015\"],[0.5555555555555556,\"#000016\"],[0.6666666666666666,\"#000017\"],[0.7777777777777778,\"#000018\"],[0.8888888888888888,\"#000019\"],[1.0,\"#000020\"]],\"type\":\"contour\"}],\"heatmap\":[{\"colorscale\":[[0.0,\"#000011\"],[0.1111111111111111,\"#000012\"],[0.2222222222222222,\"#000013\"],[0.3333333333333333,\"#000014\"],[0.4444444444444444,\"#000015\"],[0.5555555555555556,\"#000016\"],[0.6666666666666666,\"#000017\"],[0.7777777777777778,\"#000018\"],[0.8888888888888888,\"#000019\"],[1.0,\"#000020\"]],\"type\":\"heatmap\"}],\"histogram2d\":[{\"colorscale\":[[0.0,\"#000011\"],[0.1111111111111111,\"#000012\"],[0.2222222222222222,\"#000013\"],[0.3333333333333333,\"#000014\"],[0.4444444444444444,\"#000015\"],[0.5555555555555556,\"#000016\"],[0.6666666666666666,\"#000017\"],[0.7777777777777778,\"#000018\"],[0.8888888888888888,\"#000019\"],[1.0,\"#000020\"]],\"type\":\"histogram2d\"}],\"icicle\":[{\"textfont\":{\"color\":\"white\"},\"type\":\"icicle\"}],\"sankey\":[{\"textfont\":{\"color\":\"#000036\"},\"type\":\"sankey\"}],\"scatter\":[{\"marker\":{\"line\":{\"width\":0}},\"type\":\"scatter\"}],\"table\":[{\"cells\":{\"fill\":{\"color\":\"#000038\"},\"font\":{\"color\":\"#000037\"},\"line\":{\"color\":\"#000039\"}},\"header\":{\"fill\":{\"color\":\"#000040\"},\"font\":{\"color\":\"#000036\"},\"line\":{\"color\":\"#000039\"}},\"type\":\"table\"}],\"waterfall\":[{\"connector\":{\"line\":{\"color\":\"#000036\",\"width\":2}},\"decreasing\":{\"marker\":{\"color\":\"#000033\"}},\"increasing\":{\"marker\":{\"color\":\"#000032\"}},\"totals\":{\"marker\":{\"color\":\"#000034\"}},\"type\":\"waterfall\"}]},\"layout\":{\"coloraxis\":{\"colorscale\":[[0.0,\"#000011\"],[0.1111111111111111,\"#000012\"],[0.2222222222222222,\"#000013\"],[0.3333333333333333,\"#000014\"],[0.4444444444444444,\"#000015\"],[0.5555555555555556,\"#000016\"],[0.6666666666666666,\"#000017\"],[0.7777777777777778,\"#000018\"],[0.8888888888888888,\"#000019\"],[1.0,\"#000020\"]]},\"colorscale\":{\"diverging\":[[0.0,\"#000021\"],[0.1,\"#000022\"],[0.2,\"#000023\"],[0.3,\"#000024\"],[0.4,\"#000025\"],[0.5,\"#000026\"],[0.6,\"#000027\"],[0.7,\"#000028\"],[0.8,\"#000029\"],[0.9,\"#000030\"],[1.0,\"#000031\"]],\"sequential\":[[0.0,\"#000011\"],[0.1111111111111111,\"#000012\"],[0.2222222222222222,\"#000013\"],[0.3333333333333333,\"#000014\"],[0.4444444444444444,\"#000015\"],[0.5555555555555556,\"#000016\"],[0.6666666666666666,\"#000017\"],[0.7777777777777778,\"#000018\"],[0.8888888888888888,\"#000019\"],[1.0,\"#000020\"]],\"sequentialminus\":[[0.0,\"#000011\"],[0.1111111111111111,\"#000012\"],[0.2222222222222222,\"#000013\"],[0.3333333333333333,\"#000014\"],[0.4444444444444444,\"#000015\"],[0.5555555555555556,\"#000016\"],[0.6666666666666666,\"#000017\"],[0.7777777777777778,\"#000018\"],[0.8888888888888888,\"#000019\"],[1.0,\"#000020\"]]},\"colorway\":[\"#000001\",\"#000002\",\"#000003\",\"#000004\",\"#000005\",\"#000006\",\"#000007\",\"#000008\",\"#000009\",\"#000010\"]}},\"legend\":{\"tracegroupgap\":0},\"margin\":{\"t\":60},\"piecolorway\":[\"rgb(127, 60, 141)\",\"rgb(17, 165, 121)\",\"rgb(57, 105, 172)\",\"rgb(242, 183, 1)\",\"rgb(231, 63, 116)\",\"rgb(128, 186, 90)\",\"rgb(230, 131, 16)\",\"rgb(0, 134, 149)\",\"rgb(207, 28, 144)\",\"rgb(249, 123, 114)\",\"rgb(165, 170, 153)\"]},                        {\"responsive\": true}                    ).then(function(){\n",
       "                            \n",
       "var gd = document.getElementById('2cb017cc-5e3c-4829-9167-358c41d42a3b');\n",
       "var x = new MutationObserver(function (mutations, observer) {{\n",
       "        var display = window.getComputedStyle(gd).display;\n",
       "        if (!display || display === 'none') {{\n",
       "            console.log([gd, 'removed!']);\n",
       "            Plotly.purge(gd);\n",
       "            observer.disconnect();\n",
       "        }}\n",
       "}});\n",
       "\n",
       "// Listen for the removal of the full notebook cells\n",
       "var notebookContainer = gd.closest('#notebook-container');\n",
       "if (notebookContainer) {{\n",
       "    x.observe(notebookContainer, {childList: true});\n",
       "}}\n",
       "\n",
       "// Listen for the clearing of the current output cell\n",
       "var outputEl = gd.closest('.output');\n",
       "if (outputEl) {{\n",
       "    x.observe(outputEl, {childList: true});\n",
       "}}\n",
       "\n",
       "                        })                };                });            </script>        </div>"
      ]
     },
     "metadata": {},
     "output_type": "display_data"
    },
    {
     "name": "stdout",
     "output_type": "stream",
     "text": [
      "On this diogram one can see what was the most popular key in Beatles' songs\n"
     ]
    }
   ],
   "source": [
    "# 5 Chart\n",
    "# Key of the songs\n",
    "print(\"The Beatles' most favorite keys\")\n",
    "key_all = dt[\"Key\"].value_counts()\n",
    "fig5 = px.pie(\n",
    "    values=key_all.values,\n",
    "    names=key_all.index,\n",
    "    color_discrete_sequence=px.colors.qualitative.Bold  # Added palette\n",
    ")\n",
    "fig5.show()\n",
    "print(\"On this diogram one can see what was the most popular key in Beatles' songs\")"
   ]
  },
  {
   "cell_type": "code",
   "execution_count": 27,
   "id": "3263cb81-d9ea-440d-abea-ee59744a6e10",
   "metadata": {},
   "outputs": [
    {
     "name": "stdout",
     "output_type": "stream",
     "text": [
      "Popularity, Duration, Mode and Valence of the songs\n"
     ]
    },
    {
     "data": {
      "application/vnd.plotly.v1+json": {
       "config": {
        "plotlyServerURL": "https://plot.ly"
       },
       "data": [
        {
         "hovertemplate": "<b>%{hovertext}</b><br><br>color=Minor<br>Duration=%{x}<br>Popularity=%{y}<br>Valence=%{marker.size}<extra></extra>",
         "hovertext": [
          "I Me Mine",
          "The End",
          "Come Together",
          "Dig a Pony",
          "Polythene Pam",
          "I Want You (She's So Heavy)",
          "Octopus's Garden",
          "Maggie Mae",
          "Glass Onion",
          "Revolution 9",
          "Savoy Truffle",
          "Happiness Is a Warm Gun",
          "While My Guitar Gently Weeps",
          "Cry Baby Cry",
          "Lovely Rita",
          "A Day in the Life",
          "The Fool on the Hill",
          "Fixing a Hole",
          "I'm Only Sleeping",
          "Eleanor Rigby",
          "For No One",
          "Michelle",
          "Wait",
          "Girl",
          "Help!",
          "Day Tripper",
          "Shout",
          "Tell Me Why",
          "Things We Said Today",
          "When I Get Home",
          "And I Love Her",
          "I'm Happy Just to Dance with You",
          "Money (That's What I Want)",
          "Moonlight Bay",
          "Too Much Monkey Business",
          "A Taste of Honey",
          "All I've Got to Do",
          "All My Loving",
          "Baby It's You",
          "Cayenne"
         ],
         "legendgroup": "Minor",
         "marker": {
          "color": "blue",
          "size": [
           0.525,
           0.222,
           0.187,
           0.527,
           0.499,
           0.42,
           0.73,
           0.524,
           0.789,
           0.101,
           0.793,
           0.44,
           0.702,
           0.362,
           0.63,
           0.175,
           0.49,
           0.619,
           0.698,
           0.813,
           0.713,
           0.666,
           0.657,
           0.893,
           0.763,
           0.729,
           0.909,
           0.797,
           0.516,
           0.64,
           0.636,
           0.887,
           0.923,
           0.205,
           0.965,
           0.412,
           0.879,
           0.9,
           0.879,
           0.74
          ],
          "sizemode": "area",
          "sizeref": 0.0024475,
          "symbol": "circle"
         },
         "mode": "markers",
         "name": "Minor",
         "orientation": "v",
         "showlegend": true,
         "type": "scatter",
         "x": [
          145,
          140,
          258,
          232,
          72,
          467,
          168,
          40,
          137,
          502,
          174,
          163,
          286,
          183,
          162,
          335,
          180,
          146,
          182,
          128,
          121,
          160,
          136,
          153,
          138,
          170,
          91,
          130,
          158,
          138,
          152,
          118,
          167,
          50,
          128,
          163,
          124,
          124,
          162,
          74
         ],
         "xaxis": "x",
         "y": [
          57,
          59,
          81,
          54,
          57,
          65,
          68,
          51,
          58,
          47,
          50,
          61,
          74,
          52,
          56,
          65,
          60,
          56,
          60,
          72,
          67,
          70,
          55,
          66,
          74,
          44,
          33,
          52,
          56,
          47,
          74,
          57,
          51,
          25,
          30,
          51,
          55,
          73,
          56,
          31
         ],
         "yaxis": "y"
        },
        {
         "hovertemplate": "<b>%{hovertext}</b><br><br>color=Major<br>Duration=%{x}<br>Popularity=%{y}<br>Valence=%{marker.size}<extra></extra>",
         "hovertext": [
          "Golden Slumbers",
          "Carry That Weight",
          "Two of Us",
          "Oh! Darling",
          "Come and Get It",
          "Old Brown Shoe",
          "One After 909",
          "Dig It",
          "The Long and Winding Road",
          "Don't Let Me Down",
          "I've Got a Feeling",
          "The Ballad of John and Yoko",
          "Rip It Up / Shake, Rattle, and Roll / Blue Suede Shoes",
          "For You Blue",
          "Teddy Boy",
          "Get Back",
          "Sun King",
          "Goodbye",
          "She Came in Through the Bathroom Window",
          "Her Majesty",
          "Here Comes the Sun",
          "Something",
          "Mailman, Bring Me No More Blues",
          "Let It Be",
          "Because",
          "All Things Must Pass",
          "Mean Mr. Mustard",
          "Maxwell's Silver Hammer",
          "You Never Give Me Your Money",
          "Blackbird",
          "Revolution 1",
          "Rocky Raccoon",
          "Lady Madonna",
          "Sexy Sadie",
          "Long, Long, Long",
          "Junk",
          "Good Night",
          "Across the Universe",
          "Step Inside Love / Los Paranoias",
          "Sour Milk Sea - Esher Demo",
          "Helter Skelter",
          "Honey Pie",
          "Hey Bulldog",
          "Hey Jude",
          "What's the New Mary Jane",
          "Everybody's Got Something to Hide Except Me and My Monkey",
          "Revolution",
          "Julia",
          "Ob-la-di, Ob-la-da",
          "Birthday",
          "Not Guilty",
          "I'm So Tired",
          "Circles - Esher Demo",
          "Mother Nature's Son",
          "Back in the U.S.S.R.",
          "Why Don't We Do It in the Road?",
          "Dear Prudence",
          "I Will",
          "Piggies",
          "Wild Honey Pie",
          "The Continuing Story of Bungalow Bill",
          "Don't Pass Me By",
          "The Inner Light",
          "Yer Blues",
          "Martha My Dear",
          "She's Leaving Home",
          "Magical Mystery Tour",
          "I Am the Walrus",
          "Only a Northern Song",
          "Lucy in the Sky with Diamonds",
          "Sgt. Pepper's Lonely Hearts Club Band (Reprise)",
          "It's All Too Much",
          "Sgt. Pepper's Lonely Hearts Club Band",
          "Your Mother Should Know",
          "With a Little Help From My Friends",
          "Being for the Benefit of Mr. Kite!",
          "You Know My Name (Look Up the Number)",
          "All Together Now",
          "All You Need Is Love",
          "Good Morning, Good Morning",
          "Hello, Goodbye",
          "Within You Without You",
          "Getting Better",
          "Flying",
          "Baby, You're a Rich Man",
          "Blue Jay Way",
          "Here, There and Everywhere",
          "When I'm Sixty Four",
          "Penny Lane",
          "Yellow Submarine",
          "And Your Bird Can Sing",
          "Paperback Writer",
          "Tomorrow Never Knows",
          "Love You to",
          "Taxman",
          "Good Day Sunshine",
          "Got to Get You Into My Life",
          "Strawberry Fields Forever",
          "I Want to Tell You",
          "She Said She Said",
          "Rain",
          "Doctor Robert",
          "You Like Me Too Much",
          "You Won't See Me",
          "Yesterday",
          "You're Going to Lose That Girl",
          "Yes It Is",
          "You've Got to Hide Your Love Away",
          "The Night Before",
          "Run for Your Life",
          "The Word",
          "That Means a Lot",
          "Norwegian Wood (This Bird Has Flown)",
          "Nowhere Man",
          "What Goes on",
          "We Can Work It Out",
          "Ticket to Ride",
          "Think for Yourself",
          "Tell Me What You See",
          "12-bar Original",
          "Drive My Car",
          "I'm Down",
          "If I Needed Someone",
          "Dizzy Miss Lizzy",
          "If You've Got Trouble",
          "I'm Looking Through You",
          "In My Life",
          "Bad Boy",
          "It's Only Love",
          "Another Girl",
          "Act Naturally",
          "I Need You",
          "I've Just Seen a Face",
          "She's a Woman",
          "Everybody's Trying to Be My Baby",
          "Honey Don't",
          "Slow Down",
          "I Call Your Name",
          "I Don't Want to Spoil the Party",
          "I Feel Fine",
          "I Forgot to Remember to Forget",
          "Long Tall Sally",
          "Every Little Thing",
          "Eight Days a Week",
          "I Should Have Known Better",
          "Can't Buy Me Love",
          "What You're Doing",
          "Baby's in Black",
          "Any Time at All",
          "Words of Love",
          "You Can't Do That",
          "You Know What to Do",
          "A Hard Day's Night",
          "Rock and Roll Music",
          "Leave My Kitten Alone",
          "Mr. Moonlight",
          "If I Fell",
          "Matchbox",
          "I'm a Loser",
          "Johnny B. Goode",
          "Kansas City / Hey, Hey, Hey, Hey",
          "I'll Follow the Sun",
          "I'll Cry Instead",
          "No Reply",
          "I'll Be Back",
          "Crying, Waiting, Hoping",
          "This Boy",
          "Till There Was You",
          "Misery",
          "To Know Her Is to Love Her",
          "Clarabella",
          "There's a Place",
          "Devil in Her Heart",
          "Twist and Shout",
          "Chains",
          "Carol",
          "It Won't Be Long",
          "Memphis, Tennessee",
          "Lucille",
          "Young Blood",
          "You've Really Got a Hold on Me",
          "A Shot of Rhythm and Blues",
          "Little Child",
          "Boys",
          "Lend Me Your Comb",
          "Anna (Go to Him)",
          "Keep Your Hands Off My Baby",
          "Do You Want to Know a Secret?",
          "Beautiful Dreamer",
          "I Wanna Be Your Man",
          "I Want to Hold Your Hand",
          "The Honeymoon Song",
          "She Loves You",
          "Don't Bother Me",
          "Soldier of Love (Lay Down Your Arms)",
          "So How Come (No One Loves Me)",
          "I'm Gonna Sit Right Down and Cry (Over You)",
          "Ooh! My Soul",
          "I'll Get You",
          "Please Mr. Postman",
          "I'm Talking About You",
          "I Got a Woman",
          "I Got to Find My Baby",
          "I Just Don't Understand",
          "Roll Over Beethoven",
          "I'll Be on My Way",
          "I Saw Her Standing There",
          "Lonesome Tears in My Eyes",
          "Some Other Guy",
          "Hold Me Tight",
          "Don't Ever Change",
          "Glad All Over",
          "Sure to Fall (In Love with You)",
          "Sweet Little Sixteen",
          "From Me to You",
          "Nothin' Shakin' (But the Leaves on the Trees)",
          "Not a Second Time",
          "That's All Right (Mama)",
          "Thank You Girl",
          "Searchin'",
          "The Sheik of Araby",
          "Love Me Do",
          "Please Please Me",
          "Like Dreamers Do",
          "Hello Little Girl",
          "P.S. I Love You",
          "Ask Me Why",
          "Three Cool Cats",
          "Ain't She Sweet",
          "Cry for a Shadow",
          "My Bonnie",
          "Hallelujah, I Love Her So",
          "You'll Be Mine",
          "That'll Be the Day",
          "In Spite of All the Danger"
         ],
         "legendgroup": "Major",
         "marker": {
          "color": "beige",
          "size": [
           0.239,
           0.704,
           0.931,
           0.549,
           0.545,
           0.396,
           0.888,
           0.67,
           0.392,
           0.783,
           0.364,
           0.938,
           0.726,
           0.955,
           0.766,
           0.332,
           0.192,
           0.563,
           0.69,
           0.522,
           0.394,
           0.377,
           0.764,
           0.41,
           0.162,
           0.61,
           0.97,
           0.726,
           0.223,
           0.372,
           0.695,
           0.648,
           0.78,
           0.671,
           0.163,
           0.3,
           0.178,
           0.858,
           0.749,
           0.402,
           0.281,
           0.553,
           0.947,
           0.649,
           0.146,
           0.81,
           0.708,
           0.193,
           0.975,
           0.91,
           0.621,
           0.717,
           0.121,
           0.401,
           0.494,
           0.957,
           0.332,
           0.832,
           0.52,
           0.152,
           0.648,
           0.946,
           0.387,
           0.435,
           0.824,
           0.393,
           0.338,
           0.654,
           0.801,
           0.668,
           0.879,
           0.199,
           0.583,
           0.724,
           0.803,
           0.71,
           0.696,
           0.778,
           0.653,
           0.93,
           0.806,
           0.354,
           0.764,
           0.261,
           0.467,
           0.0378,
           0.36,
           0.661,
           0.49,
           0.696,
           0.966,
           0.727,
           0.0534,
           0.707,
           0.783,
           0.571,
           0.711,
           0.289,
           0.449,
           0.672,
           0.541,
           0.574,
           0.899,
           0.473,
           0.315,
           0.818,
           0.426,
           0.378,
           0.632,
           0.822,
           0.792,
           0.523,
           0.65,
           0.687,
           0.765,
           0.742,
           0.749,
           0.799,
           0.7,
           0.566,
           0.82,
           0.937,
           0.796,
           0.918,
           0.965,
           0.774,
           0.435,
           0.878,
           0.685,
           0.822,
           0.944,
           0.638,
           0.913,
           0.961,
           0.943,
           0.735,
           0.839,
           0.962,
           0.889,
           0.769,
           0.873,
           0.917,
           0.678,
           0.744,
           0.91,
           0.842,
           0.825,
           0.876,
           0.744,
           0.85,
           0.961,
           0.701,
           0.797,
           0.965,
           0.876,
           0.589,
           0.568,
           0.963,
           0.856,
           0.961,
           0.924,
           0.625,
           0.96,
           0.869,
           0.641,
           0.895,
           0.703,
           0.646,
           0.882,
           0.456,
           0.883,
           0.927,
           0.966,
           0.937,
           0.929,
           0.979,
           0.862,
           0.703,
           0.97,
           0.923,
           0.687,
           0.968,
           0.886,
           0.822,
           0.928,
           0.835,
           0.885,
           0.609,
           0.81,
           0.683,
           0.916,
           0.799,
           0.927,
           0.916,
           0.969,
           0.965,
           0.942,
           0.653,
           0.962,
           0.961,
           0.948,
           0.909,
           0.876,
           0.857,
           0.967,
           0.79,
           0.971,
           0.963,
           0.895,
           0.963,
           0.864,
           0.913,
           0.723,
           0.975,
           0.966,
           0.979,
           0.961,
           0.957,
           0.972,
           0.715,
           0.878,
           0.744,
           0.706,
           0.848,
           0.662,
           0.77,
           0.597,
           0.642,
           0.819,
           0.864,
           0.648,
           0.827,
           0.616,
           0.893,
           0.192
          ],
          "sizemode": "area",
          "sizeref": 0.0024475,
          "symbol": "circle"
         },
         "mode": "markers",
         "name": "Major",
         "orientation": "v",
         "showlegend": true,
         "type": "scatter",
         "x": [
          91,
          96,
          213,
          206,
          150,
          196,
          172,
          51,
          220,
          215,
          217,
          179,
          191,
          152,
          198,
          194,
          146,
          144,
          117,
          23,
          186,
          179,
          116,
          243,
          165,
          185,
          66,
          207,
          242,
          139,
          201,
          213,
          136,
          195,
          184,
          145,
          191,
          230,
          151,
          224,
          270,
          161,
          194,
          431,
          372,
          144,
          201,
          174,
          187,
          162,
          202,
          123,
          137,
          168,
          163,
          102,
          236,
          106,
          124,
          52,
          198,
          231,
          156,
          241,
          148,
          215,
          171,
          273,
          207,
          208,
          80,
          388,
          119,
          149,
          164,
          157,
          261,
          130,
          237,
          161,
          207,
          305,
          167,
          137,
          183,
          235,
          145,
          157,
          183,
          158,
          121,
          138,
          178,
          181,
          159,
          129,
          147,
          245,
          149,
          157,
          179,
          135,
          155,
          202,
          123,
          140,
          161,
          131,
          153,
          138,
          161,
          146,
          125,
          164,
          170,
          135,
          190,
          138,
          156,
          175,
          148,
          153,
          143,
          145,
          168,
          147,
          148,
          141,
          115,
          124,
          139,
          148,
          127,
          183,
          143,
          173,
          175,
          129,
          153,
          145,
          126,
          130,
          121,
          164,
          164,
          131,
          150,
          122,
          133,
          122,
          157,
          119,
          152,
          150,
          176,
          155,
          142,
          117,
          151,
          171,
          163,
          106,
          129,
          135,
          140,
          131,
          133,
          136,
          107,
          171,
          160,
          109,
          147,
          125,
          143,
          156,
          133,
          136,
          110,
          116,
          182,
          136,
          108,
          144,
          110,
          168,
          151,
          116,
          106,
          103,
          144,
          100,
          138,
          149,
          119,
          115,
          122,
          98,
          124,
          156,
          112,
          168,
          118,
          168,
          168,
          118,
          175,
          156,
          121,
          152,
          125,
          113,
          141,
          141,
          116,
          180,
          128,
          176,
          121,
          180,
          103,
          142,
          120,
          155,
          100,
          126,
          144,
          145,
          133,
          142,
          162,
          73,
          99,
          128,
          164
         ],
         "xaxis": "x",
         "y": [
          70,
          62,
          61,
          69,
          33,
          38,
          51,
          48,
          68,
          48,
          59,
          40,
          29,
          52,
          28,
          70,
          59,
          45,
          61,
          27,
          87,
          76,
          28,
          81,
          60,
          35,
          58,
          61,
          60,
          79,
          52,
          61,
          39,
          54,
          52,
          35,
          51,
          69,
          28,
          31,
          63,
          53,
          55,
          51,
          28,
          52,
          41,
          57,
          74,
          57,
          33,
          58,
          30,
          57,
          65,
          52,
          61,
          68,
          52,
          52,
          54,
          52,
          41,
          54,
          56,
          60,
          56,
          64,
          43,
          70,
          52,
          44,
          64,
          58,
          69,
          54,
          40,
          45,
          68,
          52,
          63,
          54,
          56,
          53,
          55,
          53,
          70,
          68,
          67,
          61,
          58,
          40,
          59,
          53,
          60,
          65,
          60,
          71,
          52,
          56,
          52,
          52,
          50,
          57,
          80,
          57,
          46,
          73,
          56,
          55,
          55,
          34,
          75,
          67,
          54,
          41,
          69,
          55,
          49,
          31,
          69,
          43,
          56,
          50,
          31,
          60,
          79,
          40,
          56,
          52,
          52,
          57,
          66,
          45,
          46,
          46,
          39,
          42,
          46,
          40,
          26,
          44,
          48,
          69,
          59,
          70,
          47,
          48,
          52,
          51,
          51,
          28,
          71,
          55,
          31,
          48,
          67,
          37,
          50,
          33,
          47,
          69,
          49,
          55,
          53,
          30,
          56,
          66,
          54,
          35,
          27,
          51,
          49,
          80,
          50,
          28,
          54,
          22,
          27,
          29,
          54,
          35,
          46,
          51,
          28,
          58,
          31,
          66,
          25,
          49,
          41,
          30,
          51,
          53,
          39,
          25,
          28,
          24,
          42,
          58,
          27,
          31,
          24,
          27,
          56,
          33,
          71,
          28,
          35,
          50,
          30,
          25,
          23,
          29,
          42,
          27,
          48,
          29,
          41,
          30,
          32,
          71,
          61,
          38,
          33,
          54,
          52,
          33,
          38,
          34,
          35,
          30,
          28,
          36,
          43
         ],
         "yaxis": "y"
        }
       ],
       "layout": {
        "legend": {
         "itemsizing": "constant",
         "title": {
          "text": "color"
         },
         "tracegroupgap": 0
        },
        "margin": {
         "t": 60
        },
        "template": {
         "data": {
          "candlestick": [
           {
            "decreasing": {
             "line": {
              "color": "#000033"
             }
            },
            "increasing": {
             "line": {
              "color": "#000032"
             }
            },
            "type": "candlestick"
           }
          ],
          "contour": [
           {
            "colorscale": [
             [
              0,
              "#000011"
             ],
             [
              0.1111111111111111,
              "#000012"
             ],
             [
              0.2222222222222222,
              "#000013"
             ],
             [
              0.3333333333333333,
              "#000014"
             ],
             [
              0.4444444444444444,
              "#000015"
             ],
             [
              0.5555555555555556,
              "#000016"
             ],
             [
              0.6666666666666666,
              "#000017"
             ],
             [
              0.7777777777777778,
              "#000018"
             ],
             [
              0.8888888888888888,
              "#000019"
             ],
             [
              1,
              "#000020"
             ]
            ],
            "type": "contour"
           }
          ],
          "contourcarpet": [
           {
            "colorscale": [
             [
              0,
              "#000011"
             ],
             [
              0.1111111111111111,
              "#000012"
             ],
             [
              0.2222222222222222,
              "#000013"
             ],
             [
              0.3333333333333333,
              "#000014"
             ],
             [
              0.4444444444444444,
              "#000015"
             ],
             [
              0.5555555555555556,
              "#000016"
             ],
             [
              0.6666666666666666,
              "#000017"
             ],
             [
              0.7777777777777778,
              "#000018"
             ],
             [
              0.8888888888888888,
              "#000019"
             ],
             [
              1,
              "#000020"
             ]
            ],
            "type": "contourcarpet"
           }
          ],
          "heatmap": [
           {
            "colorscale": [
             [
              0,
              "#000011"
             ],
             [
              0.1111111111111111,
              "#000012"
             ],
             [
              0.2222222222222222,
              "#000013"
             ],
             [
              0.3333333333333333,
              "#000014"
             ],
             [
              0.4444444444444444,
              "#000015"
             ],
             [
              0.5555555555555556,
              "#000016"
             ],
             [
              0.6666666666666666,
              "#000017"
             ],
             [
              0.7777777777777778,
              "#000018"
             ],
             [
              0.8888888888888888,
              "#000019"
             ],
             [
              1,
              "#000020"
             ]
            ],
            "type": "heatmap"
           }
          ],
          "histogram2d": [
           {
            "colorscale": [
             [
              0,
              "#000011"
             ],
             [
              0.1111111111111111,
              "#000012"
             ],
             [
              0.2222222222222222,
              "#000013"
             ],
             [
              0.3333333333333333,
              "#000014"
             ],
             [
              0.4444444444444444,
              "#000015"
             ],
             [
              0.5555555555555556,
              "#000016"
             ],
             [
              0.6666666666666666,
              "#000017"
             ],
             [
              0.7777777777777778,
              "#000018"
             ],
             [
              0.8888888888888888,
              "#000019"
             ],
             [
              1,
              "#000020"
             ]
            ],
            "type": "histogram2d"
           }
          ],
          "icicle": [
           {
            "textfont": {
             "color": "white"
            },
            "type": "icicle"
           }
          ],
          "sankey": [
           {
            "textfont": {
             "color": "#000036"
            },
            "type": "sankey"
           }
          ],
          "scatter": [
           {
            "marker": {
             "line": {
              "width": 0
             }
            },
            "type": "scatter"
           }
          ],
          "table": [
           {
            "cells": {
             "fill": {
              "color": "#000038"
             },
             "font": {
              "color": "#000037"
             },
             "line": {
              "color": "#000039"
             }
            },
            "header": {
             "fill": {
              "color": "#000040"
             },
             "font": {
              "color": "#000036"
             },
             "line": {
              "color": "#000039"
             }
            },
            "type": "table"
           }
          ],
          "waterfall": [
           {
            "connector": {
             "line": {
              "color": "#000036",
              "width": 2
             }
            },
            "decreasing": {
             "marker": {
              "color": "#000033"
             }
            },
            "increasing": {
             "marker": {
              "color": "#000032"
             }
            },
            "totals": {
             "marker": {
              "color": "#000034"
             }
            },
            "type": "waterfall"
           }
          ]
         },
         "layout": {
          "coloraxis": {
           "colorscale": [
            [
             0,
             "#000011"
            ],
            [
             0.1111111111111111,
             "#000012"
            ],
            [
             0.2222222222222222,
             "#000013"
            ],
            [
             0.3333333333333333,
             "#000014"
            ],
            [
             0.4444444444444444,
             "#000015"
            ],
            [
             0.5555555555555556,
             "#000016"
            ],
            [
             0.6666666666666666,
             "#000017"
            ],
            [
             0.7777777777777778,
             "#000018"
            ],
            [
             0.8888888888888888,
             "#000019"
            ],
            [
             1,
             "#000020"
            ]
           ]
          },
          "colorscale": {
           "diverging": [
            [
             0,
             "#000021"
            ],
            [
             0.1,
             "#000022"
            ],
            [
             0.2,
             "#000023"
            ],
            [
             0.3,
             "#000024"
            ],
            [
             0.4,
             "#000025"
            ],
            [
             0.5,
             "#000026"
            ],
            [
             0.6,
             "#000027"
            ],
            [
             0.7,
             "#000028"
            ],
            [
             0.8,
             "#000029"
            ],
            [
             0.9,
             "#000030"
            ],
            [
             1,
             "#000031"
            ]
           ],
           "sequential": [
            [
             0,
             "#000011"
            ],
            [
             0.1111111111111111,
             "#000012"
            ],
            [
             0.2222222222222222,
             "#000013"
            ],
            [
             0.3333333333333333,
             "#000014"
            ],
            [
             0.4444444444444444,
             "#000015"
            ],
            [
             0.5555555555555556,
             "#000016"
            ],
            [
             0.6666666666666666,
             "#000017"
            ],
            [
             0.7777777777777778,
             "#000018"
            ],
            [
             0.8888888888888888,
             "#000019"
            ],
            [
             1,
             "#000020"
            ]
           ],
           "sequentialminus": [
            [
             0,
             "#000011"
            ],
            [
             0.1111111111111111,
             "#000012"
            ],
            [
             0.2222222222222222,
             "#000013"
            ],
            [
             0.3333333333333333,
             "#000014"
            ],
            [
             0.4444444444444444,
             "#000015"
            ],
            [
             0.5555555555555556,
             "#000016"
            ],
            [
             0.6666666666666666,
             "#000017"
            ],
            [
             0.7777777777777778,
             "#000018"
            ],
            [
             0.8888888888888888,
             "#000019"
            ],
            [
             1,
             "#000020"
            ]
           ]
          },
          "colorway": [
           "#000001",
           "#000002",
           "#000003",
           "#000004",
           "#000005",
           "#000006",
           "#000007",
           "#000008",
           "#000009",
           "#000010"
          ]
         }
        },
        "xaxis": {
         "anchor": "y",
         "domain": [
          0,
          1
         ],
         "title": {
          "text": "Duration"
         }
        },
        "yaxis": {
         "anchor": "x",
         "domain": [
          0,
          1
         ],
         "title": {
          "text": "Popularity"
         }
        }
       }
      },
      "image/png": "[encoded data removed]",
      "text/html": [
       "<div>                            <div id=\"1a0b4c2b-84ff-4663-a16b-c81ca1d98d72\" class=\"plotly-graph-div\" style=\"height:525px; width:100%;\"></div>            <script type=\"text/javascript\">                require([\"plotly\"], function(Plotly) {                    window.PLOTLYENV=window.PLOTLYENV || {};                                    if (document.getElementById(\"1a0b4c2b-84ff-4663-a16b-c81ca1d98d72\")) {                    Plotly.newPlot(                        \"1a0b4c2b-84ff-4663-a16b-c81ca1d98d72\",                        [{\"hovertemplate\":\"\\u003cb\\u003e%{hovertext}\\u003c\\u002fb\\u003e\\u003cbr\\u003e\\u003cbr\\u003ecolor=Minor\\u003cbr\\u003eDuration=%{x}\\u003cbr\\u003ePopularity=%{y}\\u003cbr\\u003eValence=%{marker.size}\\u003cextra\\u003e\\u003c\\u002fextra\\u003e\",\"hovertext\":[\"I Me Mine\",\"The End\",\"Come Together\",\"Dig a Pony\",\"Polythene Pam\",\"I Want You (She's So Heavy)\",\"Octopus's Garden\",\"Maggie Mae\",\"Glass Onion\",\"Revolution 9\",\"Savoy Truffle\",\"Happiness Is a Warm Gun\",\"While My Guitar Gently Weeps\",\"Cry Baby Cry\",\"Lovely Rita\",\"A Day in the Life\",\"The Fool on the Hill\",\"Fixing a Hole\",\"I'm Only Sleeping\",\"Eleanor Rigby\",\"For No One\",\"Michelle\",\"Wait\",\"Girl\",\"Help!\",\"Day Tripper\",\"Shout\",\"Tell Me Why\",\"Things We Said Today\",\"When I Get Home\",\"And I Love Her\",\"I'm Happy Just to Dance with You\",\"Money (That's What I Want)\",\"Moonlight Bay\",\"Too Much Monkey Business\",\"A Taste of Honey\",\"All I've Got to Do\",\"All My Loving\",\"Baby It's You\",\"Cayenne\"],\"legendgroup\":\"Minor\",\"marker\":{\"color\":\"blue\",\"size\":[0.525,0.222,0.187,0.527,0.499,0.42,0.73,0.524,0.789,0.101,0.793,0.44,0.702,0.362,0.63,0.175,0.49,0.619,0.698,0.813,0.713,0.666,0.657,0.893,0.763,0.729,0.909,0.797,0.516,0.64,0.636,0.887,0.923,0.205,0.965,0.412,0.879,0.9,0.879,0.74],\"sizemode\":\"area\",\"sizeref\":0.0024475,\"symbol\":\"circle\"},\"mode\":\"markers\",\"name\":\"Minor\",\"orientation\":\"v\",\"showlegend\":true,\"x\":[145.0,140.0,258.0,232.0,72.0,467.0,168.0,40.0,137.0,502.0,174.0,163.0,286.0,183.0,162.0,335.0,180.0,146.0,182.0,128.0,121.0,160.0,136.0,153.0,138.0,170.0,91.0,130.0,158.0,138.0,152.0,118.0,167.0,50.0,128.0,163.0,124.0,124.0,162.0,74.0],\"xaxis\":\"x\",\"y\":[57.0,59.0,81.0,54.0,57.0,65.0,68.0,51.0,58.0,47.0,50.0,61.0,74.0,52.0,56.0,65.0,60.0,56.0,60.0,72.0,67.0,70.0,55.0,66.0,74.0,44.0,33.0,52.0,56.0,47.0,74.0,57.0,51.0,25.0,30.0,51.0,55.0,73.0,56.0,31.0],\"yaxis\":\"y\",\"type\":\"scatter\"},{\"hovertemplate\":\"\\u003cb\\u003e%{hovertext}\\u003c\\u002fb\\u003e\\u003cbr\\u003e\\u003cbr\\u003ecolor=Major\\u003cbr\\u003eDuration=%{x}\\u003cbr\\u003ePopularity=%{y}\\u003cbr\\u003eValence=%{marker.size}\\u003cextra\\u003e\\u003c\\u002fextra\\u003e\",\"hovertext\":[\"Golden Slumbers\",\"Carry That Weight\",\"Two of Us\",\"Oh! Darling\",\"Come and Get It\",\"Old Brown Shoe\",\"One After 909\",\"Dig It\",\"The Long and Winding Road\",\"Don't Let Me Down\",\"I've Got a Feeling\",\"The Ballad of John and Yoko\",\"Rip It Up \\u002f Shake, Rattle, and Roll \\u002f Blue Suede Shoes\",\"For You Blue\",\"Teddy Boy\",\"Get Back\",\"Sun King\",\"Goodbye\",\"She Came in Through the Bathroom Window\",\"Her Majesty\",\"Here Comes the Sun\",\"Something\",\"Mailman, Bring Me No More Blues\",\"Let It Be\",\"Because\",\"All Things Must Pass\",\"Mean Mr. Mustard\",\"Maxwell's Silver Hammer\",\"You Never Give Me Your Money\",\"Blackbird\",\"Revolution 1\",\"Rocky Raccoon\",\"Lady Madonna\",\"Sexy Sadie\",\"Long, Long, Long\",\"Junk\",\"Good Night\",\"Across the Universe\",\"Step Inside Love \\u002f Los Paranoias\",\"Sour Milk Sea - Esher Demo\",\"Helter Skelter\",\"Honey Pie\",\"Hey Bulldog\",\"Hey Jude\",\"What's the New Mary Jane\",\"Everybody's Got Something to Hide Except Me and My Monkey\",\"Revolution\",\"Julia\",\"Ob-la-di, Ob-la-da\",\"Birthday\",\"Not Guilty\",\"I'm So Tired\",\"Circles - Esher Demo\",\"Mother Nature's Son\",\"Back in the U.S.S.R.\",\"Why Don't We Do It in the Road?\",\"Dear Prudence\",\"I Will\",\"Piggies\",\"Wild Honey Pie\",\"The Continuing Story of Bungalow Bill\",\"Don't Pass Me By\",\"The Inner Light\",\"Yer Blues\",\"Martha My Dear\",\"She's Leaving Home\",\"Magical Mystery Tour\",\"I Am the Walrus\",\"Only a Northern Song\",\"Lucy in the Sky with Diamonds\",\"Sgt. Pepper's Lonely Hearts Club Band (Reprise)\",\"It's All Too Much\",\"Sgt. Pepper's Lonely Hearts Club Band\",\"Your Mother Should Know\",\"With a Little Help From My Friends\",\"Being for the Benefit of Mr. Kite!\",\"You Know My Name (Look Up the Number)\",\"All Together Now\",\"All You Need Is Love\",\"Good Morning, Good Morning\",\"Hello, Goodbye\",\"Within You Without You\",\"Getting Better\",\"Flying\",\"Baby, You're a Rich Man\",\"Blue Jay Way\",\"Here, There and Everywhere\",\"When I'm Sixty Four\",\"Penny Lane\",\"Yellow Submarine\",\"And Your Bird Can Sing\",\"Paperback Writer\",\"Tomorrow Never Knows\",\"Love You to\",\"Taxman\",\"Good Day Sunshine\",\"Got to Get You Into My Life\",\"Strawberry Fields Forever\",\"I Want to Tell You\",\"She Said She Said\",\"Rain\",\"Doctor Robert\",\"You Like Me Too Much\",\"You Won't See Me\",\"Yesterday\",\"You're Going to Lose That Girl\",\"Yes It Is\",\"You've Got to Hide Your Love Away\",\"The Night Before\",\"Run for Your Life\",\"The Word\",\"That Means a Lot\",\"Norwegian Wood (This Bird Has Flown)\",\"Nowhere Man\",\"What Goes on\",\"We Can Work It Out\",\"Ticket to Ride\",\"Think for Yourself\",\"Tell Me What You See\",\"12-bar Original\",\"Drive My Car\",\"I'm Down\",\"If I Needed Someone\",\"Dizzy Miss Lizzy\",\"If You've Got Trouble\",\"I'm Looking Through You\",\"In My Life\",\"Bad Boy\",\"It's Only Love\",\"Another Girl\",\"Act Naturally\",\"I Need You\",\"I've Just Seen a Face\",\"She's a Woman\",\"Everybody's Trying to Be My Baby\",\"Honey Don't\",\"Slow Down\",\"I Call Your Name\",\"I Don't Want to Spoil the Party\",\"I Feel Fine\",\"I Forgot to Remember to Forget\",\"Long Tall Sally\",\"Every Little Thing\",\"Eight Days a Week\",\"I Should Have Known Better\",\"Can't Buy Me Love\",\"What You're Doing\",\"Baby's in Black\",\"Any Time at All\",\"Words of Love\",\"You Can't Do That\",\"You Know What to Do\",\"A Hard Day's Night\",\"Rock and Roll Music\",\"Leave My Kitten Alone\",\"Mr. Moonlight\",\"If I Fell\",\"Matchbox\",\"I'm a Loser\",\"Johnny B. Goode\",\"Kansas City \\u002f Hey, Hey, Hey, Hey\",\"I'll Follow the Sun\",\"I'll Cry Instead\",\"No Reply\",\"I'll Be Back\",\"Crying, Waiting, Hoping\",\"This Boy\",\"Till There Was You\",\"Misery\",\"To Know Her Is to Love Her\",\"Clarabella\",\"There's a Place\",\"Devil in Her Heart\",\"Twist and Shout\",\"Chains\",\"Carol\",\"It Won't Be Long\",\"Memphis, Tennessee\",\"Lucille\",\"Young Blood\",\"You've Really Got a Hold on Me\",\"A Shot of Rhythm and Blues\",\"Little Child\",\"Boys\",\"Lend Me Your Comb\",\"Anna (Go to Him)\",\"Keep Your Hands Off My Baby\",\"Do You Want to Know a Secret?\",\"Beautiful Dreamer\",\"I Wanna Be Your Man\",\"I Want to Hold Your Hand\",\"The Honeymoon Song\",\"She Loves You\",\"Don't Bother Me\",\"Soldier of Love (Lay Down Your Arms)\",\"So How Come (No One Loves Me)\",\"I'm Gonna Sit Right Down and Cry (Over You)\",\"Ooh! My Soul\",\"I'll Get You\",\"Please Mr. Postman\",\"I'm Talking About You\",\"I Got a Woman\",\"I Got to Find My Baby\",\"I Just Don't Understand\",\"Roll Over Beethoven\",\"I'll Be on My Way\",\"I Saw Her Standing There\",\"Lonesome Tears in My Eyes\",\"Some Other Guy\",\"Hold Me Tight\",\"Don't Ever Change\",\"Glad All Over\",\"Sure to Fall (In Love with You)\",\"Sweet Little Sixteen\",\"From Me to You\",\"Nothin' Shakin' (But the Leaves on the Trees)\",\"Not a Second Time\",\"That's All Right (Mama)\",\"Thank You Girl\",\"Searchin'\",\"The Sheik of Araby\",\"Love Me Do\",\"Please Please Me\",\"Like Dreamers Do\",\"Hello Little Girl\",\"P.S. I Love You\",\"Ask Me Why\",\"Three Cool Cats\",\"Ain't She Sweet\",\"Cry for a Shadow\",\"My Bonnie\",\"Hallelujah, I Love Her So\",\"You'll Be Mine\",\"That'll Be the Day\",\"In Spite of All the Danger\"],\"legendgroup\":\"Major\",\"marker\":{\"color\":\"beige\",\"size\":[0.239,0.704,0.931,0.549,0.545,0.396,0.888,0.67,0.392,0.783,0.364,0.938,0.726,0.955,0.766,0.332,0.192,0.563,0.69,0.522,0.394,0.377,0.764,0.41,0.162,0.61,0.97,0.726,0.223,0.372,0.695,0.648,0.78,0.671,0.163,0.3,0.178,0.858,0.749,0.402,0.281,0.553,0.947,0.649,0.146,0.81,0.708,0.193,0.975,0.91,0.621,0.717,0.121,0.401,0.494,0.957,0.332,0.832,0.52,0.152,0.648,0.946,0.387,0.435,0.824,0.393,0.338,0.654,0.801,0.668,0.879,0.199,0.583,0.724,0.803,0.71,0.696,0.778,0.653,0.93,0.806,0.354,0.764,0.261,0.467,0.0378,0.36,0.661,0.49,0.696,0.966,0.727,0.0534,0.707,0.783,0.571,0.711,0.289,0.449,0.672,0.541,0.574,0.899,0.473,0.315,0.818,0.426,0.378,0.632,0.822,0.792,0.523,0.65,0.687,0.765,0.742,0.749,0.799,0.7,0.566,0.82,0.937,0.796,0.918,0.965,0.774,0.435,0.878,0.685,0.822,0.944,0.638,0.913,0.961,0.943,0.735,0.839,0.962,0.889,0.769,0.873,0.917,0.678,0.744,0.91,0.842,0.825,0.876,0.744,0.85,0.961,0.701,0.797,0.965,0.876,0.589,0.568,0.963,0.856,0.961,0.924,0.625,0.96,0.869,0.641,0.895,0.703,0.646,0.882,0.456,0.883,0.927,0.966,0.937,0.929,0.979,0.862,0.703,0.97,0.923,0.687,0.968,0.886,0.822,0.928,0.835,0.885,0.609,0.81,0.683,0.916,0.799,0.927,0.916,0.969,0.965,0.942,0.653,0.962,0.961,0.948,0.909,0.876,0.857,0.967,0.79,0.971,0.963,0.895,0.963,0.864,0.913,0.723,0.975,0.966,0.979,0.961,0.957,0.972,0.715,0.878,0.744,0.706,0.848,0.662,0.77,0.597,0.642,0.819,0.864,0.648,0.827,0.616,0.893,0.192],\"sizemode\":\"area\",\"sizeref\":0.0024475,\"symbol\":\"circle\"},\"mode\":\"markers\",\"name\":\"Major\",\"orientation\":\"v\",\"showlegend\":true,\"x\":[91.0,96.0,213.0,206.0,150.0,196.0,172.0,51.0,220.0,215.0,217.0,179.0,191.0,152.0,198.0,194.0,146.0,144.0,117.0,23.0,186.0,179.0,116.0,243.0,165.0,185.0,66.0,207.0,242.0,139.0,201.0,213.0,136.0,195.0,184.0,145.0,191.0,230.0,151.0,224.0,270.0,161.0,194.0,431.0,372.0,144.0,201.0,174.0,187.0,162.0,202.0,123.0,137.0,168.0,163.0,102.0,236.0,106.0,124.0,52.0,198.0,231.0,156.0,241.0,148.0,215.0,171.0,273.0,207.0,208.0,80.0,388.0,119.0,149.0,164.0,157.0,261.0,130.0,237.0,161.0,207.0,305.0,167.0,137.0,183.0,235.0,145.0,157.0,183.0,158.0,121.0,138.0,178.0,181.0,159.0,129.0,147.0,245.0,149.0,157.0,179.0,135.0,155.0,202.0,123.0,140.0,161.0,131.0,153.0,138.0,161.0,146.0,125.0,164.0,170.0,135.0,190.0,138.0,156.0,175.0,148.0,153.0,143.0,145.0,168.0,147.0,148.0,141.0,115.0,124.0,139.0,148.0,127.0,183.0,143.0,173.0,175.0,129.0,153.0,145.0,126.0,130.0,121.0,164.0,164.0,131.0,150.0,122.0,133.0,122.0,157.0,119.0,152.0,150.0,176.0,155.0,142.0,117.0,151.0,171.0,163.0,106.0,129.0,135.0,140.0,131.0,133.0,136.0,107.0,171.0,160.0,109.0,147.0,125.0,143.0,156.0,133.0,136.0,110.0,116.0,182.0,136.0,108.0,144.0,110.0,168.0,151.0,116.0,106.0,103.0,144.0,100.0,138.0,149.0,119.0,115.0,122.0,98.0,124.0,156.0,112.0,168.0,118.0,168.0,168.0,118.0,175.0,156.0,121.0,152.0,125.0,113.0,141.0,141.0,116.0,180.0,128.0,176.0,121.0,180.0,103.0,142.0,120.0,155.0,100.0,126.0,144.0,145.0,133.0,142.0,162.0,73.0,99.0,128.0,164.0],\"xaxis\":\"x\",\"y\":[70.0,62.0,61.0,69.0,33.0,38.0,51.0,48.0,68.0,48.0,59.0,40.0,29.0,52.0,28.0,70.0,59.0,45.0,61.0,27.0,87.0,76.0,28.0,81.0,60.0,35.0,58.0,61.0,60.0,79.0,52.0,61.0,39.0,54.0,52.0,35.0,51.0,69.0,28.0,31.0,63.0,53.0,55.0,51.0,28.0,52.0,41.0,57.0,74.0,57.0,33.0,58.0,30.0,57.0,65.0,52.0,61.0,68.0,52.0,52.0,54.0,52.0,41.0,54.0,56.0,60.0,56.0,64.0,43.0,70.0,52.0,44.0,64.0,58.0,69.0,54.0,40.0,45.0,68.0,52.0,63.0,54.0,56.0,53.0,55.0,53.0,70.0,68.0,67.0,61.0,58.0,40.0,59.0,53.0,60.0,65.0,60.0,71.0,52.0,56.0,52.0,52.0,50.0,57.0,80.0,57.0,46.0,73.0,56.0,55.0,55.0,34.0,75.0,67.0,54.0,41.0,69.0,55.0,49.0,31.0,69.0,43.0,56.0,50.0,31.0,60.0,79.0,40.0,56.0,52.0,52.0,57.0,66.0,45.0,46.0,46.0,39.0,42.0,46.0,40.0,26.0,44.0,48.0,69.0,59.0,70.0,47.0,48.0,52.0,51.0,51.0,28.0,71.0,55.0,31.0,48.0,67.0,37.0,50.0,33.0,47.0,69.0,49.0,55.0,53.0,30.0,56.0,66.0,54.0,35.0,27.0,51.0,49.0,80.0,50.0,28.0,54.0,22.0,27.0,29.0,54.0,35.0,46.0,51.0,28.0,58.0,31.0,66.0,25.0,49.0,41.0,30.0,51.0,53.0,39.0,25.0,28.0,24.0,42.0,58.0,27.0,31.0,24.0,27.0,56.0,33.0,71.0,28.0,35.0,50.0,30.0,25.0,23.0,29.0,42.0,27.0,48.0,29.0,41.0,30.0,32.0,71.0,61.0,38.0,33.0,54.0,52.0,33.0,38.0,34.0,35.0,30.0,28.0,36.0,43.0],\"yaxis\":\"y\",\"type\":\"scatter\"}],                        {\"template\":{\"data\":{\"candlestick\":[{\"decreasing\":{\"line\":{\"color\":\"#000033\"}},\"increasing\":{\"line\":{\"color\":\"#000032\"}},\"type\":\"candlestick\"}],\"contourcarpet\":[{\"colorscale\":[[0.0,\"#000011\"],[0.1111111111111111,\"#000012\"],[0.2222222222222222,\"#000013\"],[0.3333333333333333,\"#000014\"],[0.4444444444444444,\"#000015\"],[0.5555555555555556,\"#000016\"],[0.6666666666666666,\"#000017\"],[0.7777777777777778,\"#000018\"],[0.8888888888888888,\"#000019\"],[1.0,\"#000020\"]],\"type\":\"contourcarpet\"}],\"contour\":[{\"colorscale\":[[0.0,\"#000011\"],[0.1111111111111111,\"#000012\"],[0.2222222222222222,\"#000013\"],[0.3333333333333333,\"#000014\"],[0.4444444444444444,\"#000015\"],[0.5555555555555556,\"#000016\"],[0.6666666666666666,\"#000017\"],[0.7777777777777778,\"#000018\"],[0.8888888888888888,\"#000019\"],[1.0,\"#000020\"]],\"type\":\"contour\"}],\"heatmap\":[{\"colorscale\":[[0.0,\"#000011\"],[0.1111111111111111,\"#000012\"],[0.2222222222222222,\"#000013\"],[0.3333333333333333,\"#000014\"],[0.4444444444444444,\"#000015\"],[0.5555555555555556,\"#000016\"],[0.6666666666666666,\"#000017\"],[0.7777777777777778,\"#000018\"],[0.8888888888888888,\"#000019\"],[1.0,\"#000020\"]],\"type\":\"heatmap\"}],\"histogram2d\":[{\"colorscale\":[[0.0,\"#000011\"],[0.1111111111111111,\"#000012\"],[0.2222222222222222,\"#000013\"],[0.3333333333333333,\"#000014\"],[0.4444444444444444,\"#000015\"],[0.5555555555555556,\"#000016\"],[0.6666666666666666,\"#000017\"],[0.7777777777777778,\"#000018\"],[0.8888888888888888,\"#000019\"],[1.0,\"#000020\"]],\"type\":\"histogram2d\"}],\"icicle\":[{\"textfont\":{\"color\":\"white\"},\"type\":\"icicle\"}],\"sankey\":[{\"textfont\":{\"color\":\"#000036\"},\"type\":\"sankey\"}],\"scatter\":[{\"marker\":{\"line\":{\"width\":0}},\"type\":\"scatter\"}],\"table\":[{\"cells\":{\"fill\":{\"color\":\"#000038\"},\"font\":{\"color\":\"#000037\"},\"line\":{\"color\":\"#000039\"}},\"header\":{\"fill\":{\"color\":\"#000040\"},\"font\":{\"color\":\"#000036\"},\"line\":{\"color\":\"#000039\"}},\"type\":\"table\"}],\"waterfall\":[{\"connector\":{\"line\":{\"color\":\"#000036\",\"width\":2}},\"decreasing\":{\"marker\":{\"color\":\"#000033\"}},\"increasing\":{\"marker\":{\"color\":\"#000032\"}},\"totals\":{\"marker\":{\"color\":\"#000034\"}},\"type\":\"waterfall\"}]},\"layout\":{\"coloraxis\":{\"colorscale\":[[0.0,\"#000011\"],[0.1111111111111111,\"#000012\"],[0.2222222222222222,\"#000013\"],[0.3333333333333333,\"#000014\"],[0.4444444444444444,\"#000015\"],[0.5555555555555556,\"#000016\"],[0.6666666666666666,\"#000017\"],[0.7777777777777778,\"#000018\"],[0.8888888888888888,\"#000019\"],[1.0,\"#000020\"]]},\"colorscale\":{\"diverging\":[[0.0,\"#000021\"],[0.1,\"#000022\"],[0.2,\"#000023\"],[0.3,\"#000024\"],[0.4,\"#000025\"],[0.5,\"#000026\"],[0.6,\"#000027\"],[0.7,\"#000028\"],[0.8,\"#000029\"],[0.9,\"#000030\"],[1.0,\"#000031\"]],\"sequential\":[[0.0,\"#000011\"],[0.1111111111111111,\"#000012\"],[0.2222222222222222,\"#000013\"],[0.3333333333333333,\"#000014\"],[0.4444444444444444,\"#000015\"],[0.5555555555555556,\"#000016\"],[0.6666666666666666,\"#000017\"],[0.7777777777777778,\"#000018\"],[0.8888888888888888,\"#000019\"],[1.0,\"#000020\"]],\"sequentialminus\":[[0.0,\"#000011\"],[0.1111111111111111,\"#000012\"],[0.2222222222222222,\"#000013\"],[0.3333333333333333,\"#000014\"],[0.4444444444444444,\"#000015\"],[0.5555555555555556,\"#000016\"],[0.6666666666666666,\"#000017\"],[0.7777777777777778,\"#000018\"],[0.8888888888888888,\"#000019\"],[1.0,\"#000020\"]]},\"colorway\":[\"#000001\",\"#000002\",\"#000003\",\"#000004\",\"#000005\",\"#000006\",\"#000007\",\"#000008\",\"#000009\",\"#000010\"]}},\"xaxis\":{\"anchor\":\"y\",\"domain\":[0.0,1.0],\"title\":{\"text\":\"Duration\"}},\"yaxis\":{\"anchor\":\"x\",\"domain\":[0.0,1.0],\"title\":{\"text\":\"Popularity\"}},\"legend\":{\"title\":{\"text\":\"color\"},\"tracegroupgap\":0,\"itemsizing\":\"constant\"},\"margin\":{\"t\":60}},                        {\"responsive\": true}                    ).then(function(){\n",
       "                            \n",
       "var gd = document.getElementById('1a0b4c2b-84ff-4663-a16b-c81ca1d98d72');\n",
       "var x = new MutationObserver(function (mutations, observer) {{\n",
       "        var display = window.getComputedStyle(gd).display;\n",
       "        if (!display || display === 'none') {{\n",
       "            console.log([gd, 'removed!']);\n",
       "            Plotly.purge(gd);\n",
       "            observer.disconnect();\n",
       "        }}\n",
       "}});\n",
       "\n",
       "// Listen for the removal of the full notebook cells\n",
       "var notebookContainer = gd.closest('#notebook-container');\n",
       "if (notebookContainer) {{\n",
       "    x.observe(notebookContainer, {childList: true});\n",
       "}}\n",
       "\n",
       "// Listen for the clearing of the current output cell\n",
       "var outputEl = gd.closest('.output');\n",
       "if (outputEl) {{\n",
       "    x.observe(outputEl, {childList: true});\n",
       "}}\n",
       "\n",
       "                        })                };                });            </script>        </div>"
      ]
     },
     "metadata": {},
     "output_type": "display_data"
    },
    {
     "name": "stdout",
     "output_type": "stream",
     "text": [
      "The graph shows how the popularity of songs depends on their duration mod and valece. \n",
      "Size of the bubbles shows valence, colour shows mod (blue - minor,white - major).\n"
     ]
    }
   ],
   "source": [
    "# 6 Chart\n",
    "# Bubble chart, not very comfortable for using, but interesting and beautiful\n",
    "print(\"Popularity, Duration, Mode and Valence of the songs\")\n",
    "fig6 = px.scatter(\n",
    "    dt,\n",
    "    x=\"Duration\",\n",
    "    y=\"Popularity\",\n",
    "    size=\"Valence\",\n",
    "    color=dt[\"Mode\"].replace({0: \"Minor\", 1: \"Major\"}),\n",
    "    hover_name=\"Title\",\n",
    "    labels={\"Duration\": \"Duration\", \"Popularity\": \"Popularity\", \"Valence\": \"Valence\"},\n",
    "    color_discrete_map={\"Minor\": \"blue\", \"Major\": \"beige\"}\n",
    ")\n",
    "fig6.show()\n",
    "print('''The graph shows how the popularity of songs depends on their duration mod and valece. \n",
    "Size of the bubbles shows valence, colour shows mod (blue - minor,white - major).''')"
   ]
  },
  {
   "cell_type": "code",
   "execution_count": 31,
   "id": "8099818b-b3dc-4964-ae04-40d2e1f975b7",
   "metadata": {},
   "outputs": [
    {
     "name": "stdout",
     "output_type": "stream",
     "text": [
      "Danceability, acousticness, mod, duration and popularity\n"
     ]
    },
    {
     "data": {
      "application/vnd.plotly.v1+json": {
       "config": {
        "plotlyServerURL": "https://plot.ly"
       },
       "data": [
        {
         "hovertemplate": "<b>%{hovertext}</b><br><br>color=Minor<br>Danceability=%{x}<br>Acousticness=%{y}<br>Popularity=%{z}<br>Duration=%{marker.size}<extra></extra>",
         "hovertext": [
          "I Me Mine",
          "The End",
          "Come Together",
          "Dig a Pony",
          "Polythene Pam",
          "I Want You (She's So Heavy)",
          "Octopus's Garden",
          "Maggie Mae",
          "Glass Onion",
          "Revolution 9",
          "Savoy Truffle",
          "Happiness Is a Warm Gun",
          "While My Guitar Gently Weeps",
          "Cry Baby Cry",
          "Lovely Rita",
          "A Day in the Life",
          "The Fool on the Hill",
          "Fixing a Hole",
          "I'm Only Sleeping",
          "Eleanor Rigby",
          "For No One",
          "Michelle",
          "Wait",
          "Girl",
          "Help!",
          "Day Tripper",
          "Shout",
          "Tell Me Why",
          "Things We Said Today",
          "When I Get Home",
          "And I Love Her",
          "I'm Happy Just to Dance with You",
          "Money (That's What I Want)",
          "Moonlight Bay",
          "Too Much Monkey Business",
          "A Taste of Honey",
          "All I've Got to Do",
          "All My Loving",
          "Baby It's You",
          "Cayenne"
         ],
         "legendgroup": "Minor",
         "marker": {
          "color": "blue",
          "size": [
           145,
           140,
           258,
           232,
           72,
           467,
           168,
           40,
           137,
           502,
           174,
           163,
           286,
           183,
           162,
           335,
           180,
           146,
           182,
           128,
           121,
           160,
           136,
           153,
           138,
           170,
           91,
           130,
           158,
           138,
           152,
           118,
           167,
           50,
           128,
           163,
           124,
           124,
           162,
           74
          ],
          "sizemode": "area",
          "sizeref": 1.255,
          "symbol": "circle"
         },
         "mode": "markers",
         "name": "Minor",
         "scene": "scene",
         "showlegend": true,
         "type": "scatter3d",
         "x": [
          0.291,
          0.647,
          0.533,
          0.538,
          0.474,
          0.37,
          0.626,
          0.516,
          0.523,
          0.208,
          0.623,
          0.431,
          0.453,
          0.517,
          0.61,
          0.364,
          0.356,
          0.469,
          0.494,
          0.581,
          0.483,
          0.578,
          0.552,
          0.699,
          0.534,
          0.643,
          0.342,
          0.267,
          0.551,
          0.568,
          0.767,
          0.658,
          0.545,
          0.297,
          0.631,
          0.42,
          0.49,
          0.416,
          0.608,
          0.475
         ],
         "y": [
          0.179,
          0.00101,
          0.0302,
          0.472,
          0.00472,
          0.0233,
          0.155,
          0.379,
          0.0123,
          0.769,
          0.00814,
          0.523,
          0.0205,
          0.115,
          0.0634,
          0.29,
          0.913,
          0.382,
          0.21,
          0.936,
          0.783,
          0.652,
          0.0175,
          0.587,
          0.188,
          0.104,
          0.103,
          0.586,
          0.239,
          0.384,
          0.64,
          0.138,
          0.425,
          0.828,
          0.28,
          0.698,
          0.217,
          0.207,
          0.778,
          0.974
         ],
         "z": [
          57,
          59,
          81,
          54,
          57,
          65,
          68,
          51,
          58,
          47,
          50,
          61,
          74,
          52,
          56,
          65,
          60,
          56,
          60,
          72,
          67,
          70,
          55,
          66,
          74,
          44,
          33,
          52,
          56,
          47,
          74,
          57,
          51,
          25,
          30,
          51,
          55,
          73,
          56,
          31
         ]
        },
        {
         "hovertemplate": "<b>%{hovertext}</b><br><br>color=Major<br>Danceability=%{x}<br>Acousticness=%{y}<br>Popularity=%{z}<br>Duration=%{marker.size}<extra></extra>",
         "hovertext": [
          "Golden Slumbers",
          "Carry That Weight",
          "Two of Us",
          "Oh! Darling",
          "Come and Get It",
          "Old Brown Shoe",
          "One After 909",
          "Dig It",
          "The Long and Winding Road",
          "Don't Let Me Down",
          "I've Got a Feeling",
          "The Ballad of John and Yoko",
          "Rip It Up / Shake, Rattle, and Roll / Blue Suede Shoes",
          "For You Blue",
          "Teddy Boy",
          "Get Back",
          "Sun King",
          "Goodbye",
          "She Came in Through the Bathroom Window",
          "Her Majesty",
          "Here Comes the Sun",
          "Something",
          "Mailman, Bring Me No More Blues",
          "Let It Be",
          "Because",
          "All Things Must Pass",
          "Mean Mr. Mustard",
          "Maxwell's Silver Hammer",
          "You Never Give Me Your Money",
          "Blackbird",
          "Revolution 1",
          "Rocky Raccoon",
          "Lady Madonna",
          "Sexy Sadie",
          "Long, Long, Long",
          "Junk",
          "Good Night",
          "Across the Universe",
          "Step Inside Love / Los Paranoias",
          "Sour Milk Sea - Esher Demo",
          "Helter Skelter",
          "Honey Pie",
          "Hey Bulldog",
          "Hey Jude",
          "What's the New Mary Jane",
          "Everybody's Got Something to Hide Except Me and My Monkey",
          "Revolution",
          "Julia",
          "Ob-la-di, Ob-la-da",
          "Birthday",
          "Not Guilty",
          "I'm So Tired",
          "Circles - Esher Demo",
          "Mother Nature's Son",
          "Back in the U.S.S.R.",
          "Why Don't We Do It in the Road?",
          "Dear Prudence",
          "I Will",
          "Piggies",
          "Wild Honey Pie",
          "The Continuing Story of Bungalow Bill",
          "Don't Pass Me By",
          "The Inner Light",
          "Yer Blues",
          "Martha My Dear",
          "She's Leaving Home",
          "Magical Mystery Tour",
          "I Am the Walrus",
          "Only a Northern Song",
          "Lucy in the Sky with Diamonds",
          "Sgt. Pepper's Lonely Hearts Club Band (Reprise)",
          "It's All Too Much",
          "Sgt. Pepper's Lonely Hearts Club Band",
          "Your Mother Should Know",
          "With a Little Help From My Friends",
          "Being for the Benefit of Mr. Kite!",
          "You Know My Name (Look Up the Number)",
          "All Together Now",
          "All You Need Is Love",
          "Good Morning, Good Morning",
          "Hello, Goodbye",
          "Within You Without You",
          "Getting Better",
          "Flying",
          "Baby, You're a Rich Man",
          "Blue Jay Way",
          "Here, There and Everywhere",
          "When I'm Sixty Four",
          "Penny Lane",
          "Yellow Submarine",
          "And Your Bird Can Sing",
          "Paperback Writer",
          "Tomorrow Never Knows",
          "Love You to",
          "Taxman",
          "Good Day Sunshine",
          "Got to Get You Into My Life",
          "Strawberry Fields Forever",
          "I Want to Tell You",
          "She Said She Said",
          "Rain",
          "Doctor Robert",
          "You Like Me Too Much",
          "You Won't See Me",
          "Yesterday",
          "You're Going to Lose That Girl",
          "Yes It Is",
          "You've Got to Hide Your Love Away",
          "The Night Before",
          "Run for Your Life",
          "The Word",
          "That Means a Lot",
          "Norwegian Wood (This Bird Has Flown)",
          "Nowhere Man",
          "What Goes on",
          "We Can Work It Out",
          "Ticket to Ride",
          "Think for Yourself",
          "Tell Me What You See",
          "12-bar Original",
          "Drive My Car",
          "I'm Down",
          "If I Needed Someone",
          "Dizzy Miss Lizzy",
          "If You've Got Trouble",
          "I'm Looking Through You",
          "In My Life",
          "Bad Boy",
          "It's Only Love",
          "Another Girl",
          "Act Naturally",
          "I Need You",
          "I've Just Seen a Face",
          "She's a Woman",
          "Everybody's Trying to Be My Baby",
          "Honey Don't",
          "Slow Down",
          "I Call Your Name",
          "I Don't Want to Spoil the Party",
          "I Feel Fine",
          "I Forgot to Remember to Forget",
          "Long Tall Sally",
          "Every Little Thing",
          "Eight Days a Week",
          "I Should Have Known Better",
          "Can't Buy Me Love",
          "What You're Doing",
          "Baby's in Black",
          "Any Time at All",
          "Words of Love",
          "You Can't Do That",
          "You Know What to Do",
          "A Hard Day's Night",
          "Rock and Roll Music",
          "Leave My Kitten Alone",
          "Mr. Moonlight",
          "If I Fell",
          "Matchbox",
          "I'm a Loser",
          "Johnny B. Goode",
          "Kansas City / Hey, Hey, Hey, Hey",
          "I'll Follow the Sun",
          "I'll Cry Instead",
          "No Reply",
          "I'll Be Back",
          "Crying, Waiting, Hoping",
          "This Boy",
          "Till There Was You",
          "Misery",
          "To Know Her Is to Love Her",
          "Clarabella",
          "There's a Place",
          "Devil in Her Heart",
          "Twist and Shout",
          "Chains",
          "Carol",
          "It Won't Be Long",
          "Memphis, Tennessee",
          "Lucille",
          "Young Blood",
          "You've Really Got a Hold on Me",
          "A Shot of Rhythm and Blues",
          "Little Child",
          "Boys",
          "Lend Me Your Comb",
          "Anna (Go to Him)",
          "Keep Your Hands Off My Baby",
          "Do You Want to Know a Secret?",
          "Beautiful Dreamer",
          "I Wanna Be Your Man",
          "I Want to Hold Your Hand",
          "The Honeymoon Song",
          "She Loves You",
          "Don't Bother Me",
          "Soldier of Love (Lay Down Your Arms)",
          "So How Come (No One Loves Me)",
          "I'm Gonna Sit Right Down and Cry (Over You)",
          "Ooh! My Soul",
          "I'll Get You",
          "Please Mr. Postman",
          "I'm Talking About You",
          "I Got a Woman",
          "I Got to Find My Baby",
          "I Just Don't Understand",
          "Roll Over Beethoven",
          "I'll Be on My Way",
          "I Saw Her Standing There",
          "Lonesome Tears in My Eyes",
          "Some Other Guy",
          "Hold Me Tight",
          "Don't Ever Change",
          "Glad All Over",
          "Sure to Fall (In Love with You)",
          "Sweet Little Sixteen",
          "From Me to You",
          "Nothin' Shakin' (But the Leaves on the Trees)",
          "Not a Second Time",
          "That's All Right (Mama)",
          "Thank You Girl",
          "Searchin'",
          "The Sheik of Araby",
          "Love Me Do",
          "Please Please Me",
          "Like Dreamers Do",
          "Hello Little Girl",
          "P.S. I Love You",
          "Ask Me Why",
          "Three Cool Cats",
          "Ain't She Sweet",
          "Cry for a Shadow",
          "My Bonnie",
          "Hallelujah, I Love Her So",
          "You'll Be Mine",
          "That'll Be the Day",
          "In Spite of All the Danger"
         ],
         "legendgroup": "Major",
         "marker": {
          "color": "beige",
          "size": [
           91,
           96,
           213,
           206,
           150,
           196,
           172,
           51,
           220,
           215,
           217,
           179,
           191,
           152,
           198,
           194,
           146,
           144,
           117,
           23,
           186,
           179,
           116,
           243,
           165,
           185,
           66,
           207,
           242,
           139,
           201,
           213,
           136,
           195,
           184,
           145,
           191,
           230,
           151,
           224,
           270,
           161,
           194,
           431,
           372,
           144,
           201,
           174,
           187,
           162,
           202,
           123,
           137,
           168,
           163,
           102,
           236,
           106,
           124,
           52,
           198,
           231,
           156,
           241,
           148,
           215,
           171,
           273,
           207,
           208,
           80,
           388,
           119,
           149,
           164,
           157,
           261,
           130,
           237,
           161,
           207,
           305,
           167,
           137,
           183,
           235,
           145,
           157,
           183,
           158,
           121,
           138,
           178,
           181,
           159,
           129,
           147,
           245,
           149,
           157,
           179,
           135,
           155,
           202,
           123,
           140,
           161,
           131,
           153,
           138,
           161,
           146,
           125,
           164,
           170,
           135,
           190,
           138,
           156,
           175,
           148,
           153,
           143,
           145,
           168,
           147,
           148,
           141,
           115,
           124,
           139,
           148,
           127,
           183,
           143,
           173,
           175,
           129,
           153,
           145,
           126,
           130,
           121,
           164,
           164,
           131,
           150,
           122,
           133,
           122,
           157,
           119,
           152,
           150,
           176,
           155,
           142,
           117,
           151,
           171,
           163,
           106,
           129,
           135,
           140,
           131,
           133,
           136,
           107,
           171,
           160,
           109,
           147,
           125,
           143,
           156,
           133,
           136,
           110,
           116,
           182,
           136,
           108,
           144,
           110,
           168,
           151,
           116,
           106,
           103,
           144,
           100,
           138,
           149,
           119,
           115,
           122,
           98,
           124,
           156,
           112,
           168,
           118,
           168,
           168,
           118,
           175,
           156,
           121,
           152,
           125,
           113,
           141,
           141,
           116,
           180,
           128,
           176,
           121,
           180,
           103,
           142,
           120,
           155,
           100,
           126,
           144,
           145,
           133,
           142,
           162,
           73,
           99,
           128,
           164
          ],
          "sizemode": "area",
          "sizeref": 1.255,
          "symbol": "circle"
         },
         "mode": "markers",
         "name": "Major",
         "scene": "scene",
         "showlegend": true,
         "type": "scatter3d",
         "x": [
          0.419,
          0.543,
          0.726,
          0.422,
          0.603,
          0.529,
          0.554,
          0.54,
          0.299,
          0.486,
          0.44,
          0.656,
          0.395,
          0.88,
          0.678,
          0.761,
          0.483,
          0.556,
          0.53,
          0.703,
          0.557,
          0.396,
          0.735,
          0.443,
          0.328,
          0.492,
          0.676,
          0.764,
          0.335,
          0.686,
          0.386,
          0.599,
          0.631,
          0.577,
          0.349,
          0.513,
          0.146,
          0.257,
          0.644,
          0.662,
          0.166,
          0.537,
          0.587,
          0.399,
          0.288,
          0.523,
          0.417,
          0.512,
          0.818,
          0.541,
          0.47,
          0.433,
          0.267,
          0.608,
          0.48,
          0.589,
          0.388,
          0.631,
          0.542,
          0.792,
          0.621,
          0.599,
          0.304,
          0.327,
          0.472,
          0.381,
          0.297,
          0.401,
          0.175,
          0.311,
          0.653,
          0.39,
          0.451,
          0.698,
          0.705,
          0.526,
          0.672,
          0.587,
          0.4,
          0.542,
          0.479,
          0.352,
          0.632,
          0.551,
          0.619,
          0.294,
          0.29,
          0.704,
          0.651,
          0.604,
          0.555,
          0.49,
          0.38,
          0.391,
          0.469,
          0.77,
          0.521,
          0.39,
          0.493,
          0.329,
          0.234,
          0.394,
          0.555,
          0.488,
          0.332,
          0.533,
          0.414,
          0.398,
          0.461,
          0.563,
          0.59,
          0.433,
          0.425,
          0.534,
          0.67,
          0.373,
          0.519,
          0.529,
          0.592,
          0.6,
          0.754,
          0.439,
          0.492,
          0.373,
          0.301,
          0.667,
          0.688,
          0.549,
          0.629,
          0.516,
          0.702,
          0.601,
          0.647,
          0.72,
          0.543,
          0.629,
          0.494,
          0.69,
          0.533,
          0.571,
          0.549,
          0.383,
          0.74,
          0.652,
          0.682,
          0.483,
          0.695,
          0.374,
          0.612,
          0.551,
          0.612,
          0.579,
          0.59,
          0.457,
          0.559,
          0.631,
          0.665,
          0.344,
          0.492,
          0.492,
          0.588,
          0.689,
          0.643,
          0.718,
          0.721,
          0.647,
          0.66,
          0.727,
          0.591,
          0.45,
          0.521,
          0.455,
          0.618,
          0.482,
          0.654,
          0.484,
          0.472,
          0.757,
          0.629,
          0.474,
          0.373,
          0.699,
          0.526,
          0.402,
          0.665,
          0.608,
          0.566,
          0.673,
          0.44,
          0.553,
          0.492,
          0.728,
          0.391,
          0.371,
          0.742,
          0.494,
          0.639,
          0.576,
          0.653,
          0.552,
          0.579,
          0.676,
          0.413,
          0.586,
          0.351,
          0.614,
          0.491,
          0.579,
          0.451,
          0.54,
          0.561,
          0.604,
          0.662,
          0.491,
          0.644,
          0.761,
          0.471,
          0.671,
          0.553,
          0.556,
          0.608,
          0.52,
          0.527,
          0.53,
          0.473,
          0.635,
          0.605,
          0.546,
          0.495,
          0.514,
          0.376,
          0.569,
          0.418,
          0.639,
          0.44
         ],
         "y": [
          0.326,
          0.226,
          0.0974,
          0.0126,
          0.00186,
          0.00171,
          0.0307,
          0.659,
          0.756,
          0.147,
          0.0715,
          0.00561,
          0.0691,
          0.24,
          0.494,
          0.492,
          0.284,
          0.918,
          0.00376,
          0.728,
          0.0339,
          0.198,
          0.0923,
          0.631,
          0.754,
          0.972,
          0.0699,
          0.629,
          0.345,
          0.754,
          0.0785,
          0.333,
          0.385,
          0.33,
          0.539,
          0.905,
          0.865,
          0.361,
          0.562,
          0.86,
          0.000606,
          0.88,
          0.0197,
          0.0293,
          0.763,
          0.0207,
          0.0888,
          0.828,
          0.232,
          7.37e-05,
          0.0348,
          0.656,
          0.351,
          0.634,
          0.069,
          0.53,
          0.16,
          0.742,
          0.643,
          0.425,
          0.224,
          0.594,
          0.751,
          0.000875,
          0.872,
          0.944,
          0.0385,
          0.0828,
          0.000341,
          0.0469,
          0.0061,
          4.3e-05,
          0.0857,
          0.784,
          0.365,
          0.338,
          0.647,
          0.0722,
          0.346,
          0.0858,
          0.306,
          0.339,
          0.313,
          0.368,
          0.0119,
          0.0258,
          0.921,
          0.625,
          0.212,
          0.531,
          0.0067,
          0.189,
          8.4e-05,
          0.7,
          0.0101,
          0.719,
          0.42,
          0.336,
          0.182,
          0.103,
          2.82e-05,
          0.164,
          0.415,
          0.136,
          0.879,
          0.346,
          0.638,
          0.207,
          0.0537,
          0.0103,
          0.00682,
          0.00446,
          0.183,
          0.00797,
          0.0168,
          0.102,
          0.0457,
          0.0124,
          0.061,
          0.00154,
          0.0173,
          0.563,
          0.00748,
          0.116,
          0.16,
          0.00772,
          0.449,
          0.199,
          0.22,
          0.238,
          0.366,
          0.277,
          0.723,
          0.367,
          0.466,
          0.473,
          0.707,
          0.313,
          0.451,
          0.311,
          0.611,
          0.209,
          0.488,
          0.412,
          0.257,
          0.283,
          0.301,
          0.434,
          0.366,
          0.323,
          0.367,
          0.712,
          0.137,
          0.566,
          0.121,
          0.796,
          0.68,
          0.428,
          0.567,
          0.0281,
          0.614,
          0.789,
          0.0917,
          0.67,
          0.744,
          0.689,
          0.213,
          0.79,
          0.707,
          0.777,
          0.61,
          0.629,
          0.227,
          0.641,
          0.608,
          0.311,
          0.284,
          0.231,
          0.397,
          0.697,
          0.525,
          0.879,
          0.292,
          0.607,
          0.304,
          0.635,
          0.0851,
          0.608,
          0.84,
          0.477,
          0.57,
          0.72,
          0.264,
          0.554,
          0.319,
          0.26,
          0.357,
          0.571,
          0.616,
          0.675,
          0.826,
          0.646,
          0.163,
          0.664,
          0.289,
          0.234,
          0.27,
          0.46,
          0.00388,
          0.664,
          0.795,
          0.583,
          0.78,
          0.403,
          0.613,
          0.52,
          0.213,
          0.604,
          0.449,
          0.492,
          0.564,
          0.386,
          0.334,
          0.264,
          0.313,
          0.389,
          0.767,
          0.079,
          0.208,
          0.545,
          0.591,
          0.989,
          0.989,
          0.992,
          0.991
         ],
         "z": [
          70,
          62,
          61,
          69,
          33,
          38,
          51,
          48,
          68,
          48,
          59,
          40,
          29,
          52,
          28,
          70,
          59,
          45,
          61,
          27,
          87,
          76,
          28,
          81,
          60,
          35,
          58,
          61,
          60,
          79,
          52,
          61,
          39,
          54,
          52,
          35,
          51,
          69,
          28,
          31,
          63,
          53,
          55,
          51,
          28,
          52,
          41,
          57,
          74,
          57,
          33,
          58,
          30,
          57,
          65,
          52,
          61,
          68,
          52,
          52,
          54,
          52,
          41,
          54,
          56,
          60,
          56,
          64,
          43,
          70,
          52,
          44,
          64,
          58,
          69,
          54,
          40,
          45,
          68,
          52,
          63,
          54,
          56,
          53,
          55,
          53,
          70,
          68,
          67,
          61,
          58,
          40,
          59,
          53,
          60,
          65,
          60,
          71,
          52,
          56,
          52,
          52,
          50,
          57,
          80,
          57,
          46,
          73,
          56,
          55,
          55,
          34,
          75,
          67,
          54,
          41,
          69,
          55,
          49,
          31,
          69,
          43,
          56,
          50,
          31,
          60,
          79,
          40,
          56,
          52,
          52,
          57,
          66,
          45,
          46,
          46,
          39,
          42,
          46,
          40,
          26,
          44,
          48,
          69,
          59,
          70,
          47,
          48,
          52,
          51,
          51,
          28,
          71,
          55,
          31,
          48,
          67,
          37,
          50,
          33,
          47,
          69,
          49,
          55,
          53,
          30,
          56,
          66,
          54,
          35,
          27,
          51,
          49,
          80,
          50,
          28,
          54,
          22,
          27,
          29,
          54,
          35,
          46,
          51,
          28,
          58,
          31,
          66,
          25,
          49,
          41,
          30,
          51,
          53,
          39,
          25,
          28,
          24,
          42,
          58,
          27,
          31,
          24,
          27,
          56,
          33,
          71,
          28,
          35,
          50,
          30,
          25,
          23,
          29,
          42,
          27,
          48,
          29,
          41,
          30,
          32,
          71,
          61,
          38,
          33,
          54,
          52,
          33,
          38,
          34,
          35,
          30,
          28,
          36,
          43
         ]
        }
       ],
       "layout": {
        "legend": {
         "itemsizing": "constant",
         "title": {
          "text": "color"
         },
         "tracegroupgap": 0
        },
        "margin": {
         "t": 60
        },
        "scene": {
         "domain": {
          "x": [
           0,
           1
          ],
          "y": [
           0,
           1
          ]
         },
         "xaxis": {
          "title": {
           "text": "Danceability"
          }
         },
         "yaxis": {
          "title": {
           "text": "Acousticness"
          }
         },
         "zaxis": {
          "title": {
           "text": "Popularity"
          }
         }
        },
        "template": {
         "data": {
          "candlestick": [
           {
            "decreasing": {
             "line": {
              "color": "#000033"
             }
            },
            "increasing": {
             "line": {
              "color": "#000032"
             }
            },
            "type": "candlestick"
           }
          ],
          "contour": [
           {
            "colorscale": [
             [
              0,
              "#000011"
             ],
             [
              0.1111111111111111,
              "#000012"
             ],
             [
              0.2222222222222222,
              "#000013"
             ],
             [
              0.3333333333333333,
              "#000014"
             ],
             [
              0.4444444444444444,
              "#000015"
             ],
             [
              0.5555555555555556,
              "#000016"
             ],
             [
              0.6666666666666666,
              "#000017"
             ],
             [
              0.7777777777777778,
              "#000018"
             ],
             [
              0.8888888888888888,
              "#000019"
             ],
             [
              1,
              "#000020"
             ]
            ],
            "type": "contour"
           }
          ],
          "contourcarpet": [
           {
            "colorscale": [
             [
              0,
              "#000011"
             ],
             [
              0.1111111111111111,
              "#000012"
             ],
             [
              0.2222222222222222,
              "#000013"
             ],
             [
              0.3333333333333333,
              "#000014"
             ],
             [
              0.4444444444444444,
              "#000015"
             ],
             [
              0.5555555555555556,
              "#000016"
             ],
             [
              0.6666666666666666,
              "#000017"
             ],
             [
              0.7777777777777778,
              "#000018"
             ],
             [
              0.8888888888888888,
              "#000019"
             ],
             [
              1,
              "#000020"
             ]
            ],
            "type": "contourcarpet"
           }
          ],
          "heatmap": [
           {
            "colorscale": [
             [
              0,
              "#000011"
             ],
             [
              0.1111111111111111,
              "#000012"
             ],
             [
              0.2222222222222222,
              "#000013"
             ],
             [
              0.3333333333333333,
              "#000014"
             ],
             [
              0.4444444444444444,
              "#000015"
             ],
             [
              0.5555555555555556,
              "#000016"
             ],
             [
              0.6666666666666666,
              "#000017"
             ],
             [
              0.7777777777777778,
              "#000018"
             ],
             [
              0.8888888888888888,
              "#000019"
             ],
             [
              1,
              "#000020"
             ]
            ],
            "type": "heatmap"
           }
          ],
          "histogram2d": [
           {
            "colorscale": [
             [
              0,
              "#000011"
             ],
             [
              0.1111111111111111,
              "#000012"
             ],
             [
              0.2222222222222222,
              "#000013"
             ],
             [
              0.3333333333333333,
              "#000014"
             ],
             [
              0.4444444444444444,
              "#000015"
             ],
             [
              0.5555555555555556,
              "#000016"
             ],
             [
              0.6666666666666666,
              "#000017"
             ],
             [
              0.7777777777777778,
              "#000018"
             ],
             [
              0.8888888888888888,
              "#000019"
             ],
             [
              1,
              "#000020"
             ]
            ],
            "type": "histogram2d"
           }
          ],
          "icicle": [
           {
            "textfont": {
             "color": "white"
            },
            "type": "icicle"
           }
          ],
          "sankey": [
           {
            "textfont": {
             "color": "#000036"
            },
            "type": "sankey"
           }
          ],
          "scatter": [
           {
            "marker": {
             "line": {
              "width": 0
             }
            },
            "type": "scatter"
           }
          ],
          "table": [
           {
            "cells": {
             "fill": {
              "color": "#000038"
             },
             "font": {
              "color": "#000037"
             },
             "line": {
              "color": "#000039"
             }
            },
            "header": {
             "fill": {
              "color": "#000040"
             },
             "font": {
              "color": "#000036"
             },
             "line": {
              "color": "#000039"
             }
            },
            "type": "table"
           }
          ],
          "waterfall": [
           {
            "connector": {
             "line": {
              "color": "#000036",
              "width": 2
             }
            },
            "decreasing": {
             "marker": {
              "color": "#000033"
             }
            },
            "increasing": {
             "marker": {
              "color": "#000032"
             }
            },
            "totals": {
             "marker": {
              "color": "#000034"
             }
            },
            "type": "waterfall"
           }
          ]
         },
         "layout": {
          "coloraxis": {
           "colorscale": [
            [
             0,
             "#000011"
            ],
            [
             0.1111111111111111,
             "#000012"
            ],
            [
             0.2222222222222222,
             "#000013"
            ],
            [
             0.3333333333333333,
             "#000014"
            ],
            [
             0.4444444444444444,
             "#000015"
            ],
            [
             0.5555555555555556,
             "#000016"
            ],
            [
             0.6666666666666666,
             "#000017"
            ],
            [
             0.7777777777777778,
             "#000018"
            ],
            [
             0.8888888888888888,
             "#000019"
            ],
            [
             1,
             "#000020"
            ]
           ]
          },
          "colorscale": {
           "diverging": [
            [
             0,
             "#000021"
            ],
            [
             0.1,
             "#000022"
            ],
            [
             0.2,
             "#000023"
            ],
            [
             0.3,
             "#000024"
            ],
            [
             0.4,
             "#000025"
            ],
            [
             0.5,
             "#000026"
            ],
            [
             0.6,
             "#000027"
            ],
            [
             0.7,
             "#000028"
            ],
            [
             0.8,
             "#000029"
            ],
            [
             0.9,
             "#000030"
            ],
            [
             1,
             "#000031"
            ]
           ],
           "sequential": [
            [
             0,
             "#000011"
            ],
            [
             0.1111111111111111,
             "#000012"
            ],
            [
             0.2222222222222222,
             "#000013"
            ],
            [
             0.3333333333333333,
             "#000014"
            ],
            [
             0.4444444444444444,
             "#000015"
            ],
            [
             0.5555555555555556,
             "#000016"
            ],
            [
             0.6666666666666666,
             "#000017"
            ],
            [
             0.7777777777777778,
             "#000018"
            ],
            [
             0.8888888888888888,
             "#000019"
            ],
            [
             1,
             "#000020"
            ]
           ],
           "sequentialminus": [
            [
             0,
             "#000011"
            ],
            [
             0.1111111111111111,
             "#000012"
            ],
            [
             0.2222222222222222,
             "#000013"
            ],
            [
             0.3333333333333333,
             "#000014"
            ],
            [
             0.4444444444444444,
             "#000015"
            ],
            [
             0.5555555555555556,
             "#000016"
            ],
            [
             0.6666666666666666,
             "#000017"
            ],
            [
             0.7777777777777778,
             "#000018"
            ],
            [
             0.8888888888888888,
             "#000019"
            ],
            [
             1,
             "#000020"
            ]
           ]
          },
          "colorway": [
           "#000001",
           "#000002",
           "#000003",
           "#000004",
           "#000005",
           "#000006",
           "#000007",
           "#000008",
           "#000009",
           "#000010"
          ]
         }
        }
       }
      },
      "image/png": "[encoded data removed]",
      "text/html": [
       "<div>                            <div id=\"af5a4d91-88bb-4bc2-a39f-0404a8ff5e0a\" class=\"plotly-graph-div\" style=\"height:525px; width:100%;\"></div>            <script type=\"text/javascript\">                require([\"plotly\"], function(Plotly) {                    window.PLOTLYENV=window.PLOTLYENV || {};                                    if (document.getElementById(\"af5a4d91-88bb-4bc2-a39f-0404a8ff5e0a\")) {                    Plotly.newPlot(                        \"af5a4d91-88bb-4bc2-a39f-0404a8ff5e0a\",                        [{\"hovertemplate\":\"\\u003cb\\u003e%{hovertext}\\u003c\\u002fb\\u003e\\u003cbr\\u003e\\u003cbr\\u003ecolor=Minor\\u003cbr\\u003eDanceability=%{x}\\u003cbr\\u003eAcousticness=%{y}\\u003cbr\\u003ePopularity=%{z}\\u003cbr\\u003eDuration=%{marker.size}\\u003cextra\\u003e\\u003c\\u002fextra\\u003e\",\"hovertext\":[\"I Me Mine\",\"The End\",\"Come Together\",\"Dig a Pony\",\"Polythene Pam\",\"I Want You (She's So Heavy)\",\"Octopus's Garden\",\"Maggie Mae\",\"Glass Onion\",\"Revolution 9\",\"Savoy Truffle\",\"Happiness Is a Warm Gun\",\"While My Guitar Gently Weeps\",\"Cry Baby Cry\",\"Lovely Rita\",\"A Day in the Life\",\"The Fool on the Hill\",\"Fixing a Hole\",\"I'm Only Sleeping\",\"Eleanor Rigby\",\"For No One\",\"Michelle\",\"Wait\",\"Girl\",\"Help!\",\"Day Tripper\",\"Shout\",\"Tell Me Why\",\"Things We Said Today\",\"When I Get Home\",\"And I Love Her\",\"I'm Happy Just to Dance with You\",\"Money (That's What I Want)\",\"Moonlight Bay\",\"Too Much Monkey Business\",\"A Taste of Honey\",\"All I've Got to Do\",\"All My Loving\",\"Baby It's You\",\"Cayenne\"],\"legendgroup\":\"Minor\",\"marker\":{\"color\":\"blue\",\"size\":[145.0,140.0,258.0,232.0,72.0,467.0,168.0,40.0,137.0,502.0,174.0,163.0,286.0,183.0,162.0,335.0,180.0,146.0,182.0,128.0,121.0,160.0,136.0,153.0,138.0,170.0,91.0,130.0,158.0,138.0,152.0,118.0,167.0,50.0,128.0,163.0,124.0,124.0,162.0,74.0],\"sizemode\":\"area\",\"sizeref\":1.255,\"symbol\":\"circle\"},\"mode\":\"markers\",\"name\":\"Minor\",\"scene\":\"scene\",\"showlegend\":true,\"x\":[0.291,0.647,0.533,0.538,0.474,0.37,0.626,0.516,0.523,0.208,0.623,0.431,0.453,0.517,0.61,0.364,0.356,0.469,0.494,0.581,0.483,0.578,0.552,0.699,0.534,0.643,0.342,0.267,0.551,0.568,0.767,0.658,0.545,0.297,0.631,0.42,0.49,0.416,0.608,0.475],\"y\":[0.179,0.00101,0.0302,0.472,0.00472,0.0233,0.155,0.379,0.0123,0.769,0.00814,0.523,0.0205,0.115,0.0634,0.29,0.913,0.382,0.21,0.936,0.783,0.652,0.0175,0.587,0.188,0.104,0.103,0.586,0.239,0.384,0.64,0.138,0.425,0.828,0.28,0.698,0.217,0.207,0.778,0.974],\"z\":[57.0,59.0,81.0,54.0,57.0,65.0,68.0,51.0,58.0,47.0,50.0,61.0,74.0,52.0,56.0,65.0,60.0,56.0,60.0,72.0,67.0,70.0,55.0,66.0,74.0,44.0,33.0,52.0,56.0,47.0,74.0,57.0,51.0,25.0,30.0,51.0,55.0,73.0,56.0,31.0],\"type\":\"scatter3d\"},{\"hovertemplate\":\"\\u003cb\\u003e%{hovertext}\\u003c\\u002fb\\u003e\\u003cbr\\u003e\\u003cbr\\u003ecolor=Major\\u003cbr\\u003eDanceability=%{x}\\u003cbr\\u003eAcousticness=%{y}\\u003cbr\\u003ePopularity=%{z}\\u003cbr\\u003eDuration=%{marker.size}\\u003cextra\\u003e\\u003c\\u002fextra\\u003e\",\"hovertext\":[\"Golden Slumbers\",\"Carry That Weight\",\"Two of Us\",\"Oh! Darling\",\"Come and Get It\",\"Old Brown Shoe\",\"One After 909\",\"Dig It\",\"The Long and Winding Road\",\"Don't Let Me Down\",\"I've Got a Feeling\",\"The Ballad of John and Yoko\",\"Rip It Up \\u002f Shake, Rattle, and Roll \\u002f Blue Suede Shoes\",\"For You Blue\",\"Teddy Boy\",\"Get Back\",\"Sun King\",\"Goodbye\",\"She Came in Through the Bathroom Window\",\"Her Majesty\",\"Here Comes the Sun\",\"Something\",\"Mailman, Bring Me No More Blues\",\"Let It Be\",\"Because\",\"All Things Must Pass\",\"Mean Mr. Mustard\",\"Maxwell's Silver Hammer\",\"You Never Give Me Your Money\",\"Blackbird\",\"Revolution 1\",\"Rocky Raccoon\",\"Lady Madonna\",\"Sexy Sadie\",\"Long, Long, Long\",\"Junk\",\"Good Night\",\"Across the Universe\",\"Step Inside Love \\u002f Los Paranoias\",\"Sour Milk Sea - Esher Demo\",\"Helter Skelter\",\"Honey Pie\",\"Hey Bulldog\",\"Hey Jude\",\"What's the New Mary Jane\",\"Everybody's Got Something to Hide Except Me and My Monkey\",\"Revolution\",\"Julia\",\"Ob-la-di, Ob-la-da\",\"Birthday\",\"Not Guilty\",\"I'm So Tired\",\"Circles - Esher Demo\",\"Mother Nature's Son\",\"Back in the U.S.S.R.\",\"Why Don't We Do It in the Road?\",\"Dear Prudence\",\"I Will\",\"Piggies\",\"Wild Honey Pie\",\"The Continuing Story of Bungalow Bill\",\"Don't Pass Me By\",\"The Inner Light\",\"Yer Blues\",\"Martha My Dear\",\"She's Leaving Home\",\"Magical Mystery Tour\",\"I Am the Walrus\",\"Only a Northern Song\",\"Lucy in the Sky with Diamonds\",\"Sgt. Pepper's Lonely Hearts Club Band (Reprise)\",\"It's All Too Much\",\"Sgt. Pepper's Lonely Hearts Club Band\",\"Your Mother Should Know\",\"With a Little Help From My Friends\",\"Being for the Benefit of Mr. Kite!\",\"You Know My Name (Look Up the Number)\",\"All Together Now\",\"All You Need Is Love\",\"Good Morning, Good Morning\",\"Hello, Goodbye\",\"Within You Without You\",\"Getting Better\",\"Flying\",\"Baby, You're a Rich Man\",\"Blue Jay Way\",\"Here, There and Everywhere\",\"When I'm Sixty Four\",\"Penny Lane\",\"Yellow Submarine\",\"And Your Bird Can Sing\",\"Paperback Writer\",\"Tomorrow Never Knows\",\"Love You to\",\"Taxman\",\"Good Day Sunshine\",\"Got to Get You Into My Life\",\"Strawberry Fields Forever\",\"I Want to Tell You\",\"She Said She Said\",\"Rain\",\"Doctor Robert\",\"You Like Me Too Much\",\"You Won't See Me\",\"Yesterday\",\"You're Going to Lose That Girl\",\"Yes It Is\",\"You've Got to Hide Your Love Away\",\"The Night Before\",\"Run for Your Life\",\"The Word\",\"That Means a Lot\",\"Norwegian Wood (This Bird Has Flown)\",\"Nowhere Man\",\"What Goes on\",\"We Can Work It Out\",\"Ticket to Ride\",\"Think for Yourself\",\"Tell Me What You See\",\"12-bar Original\",\"Drive My Car\",\"I'm Down\",\"If I Needed Someone\",\"Dizzy Miss Lizzy\",\"If You've Got Trouble\",\"I'm Looking Through You\",\"In My Life\",\"Bad Boy\",\"It's Only Love\",\"Another Girl\",\"Act Naturally\",\"I Need You\",\"I've Just Seen a Face\",\"She's a Woman\",\"Everybody's Trying to Be My Baby\",\"Honey Don't\",\"Slow Down\",\"I Call Your Name\",\"I Don't Want to Spoil the Party\",\"I Feel Fine\",\"I Forgot to Remember to Forget\",\"Long Tall Sally\",\"Every Little Thing\",\"Eight Days a Week\",\"I Should Have Known Better\",\"Can't Buy Me Love\",\"What You're Doing\",\"Baby's in Black\",\"Any Time at All\",\"Words of Love\",\"You Can't Do That\",\"You Know What to Do\",\"A Hard Day's Night\",\"Rock and Roll Music\",\"Leave My Kitten Alone\",\"Mr. Moonlight\",\"If I Fell\",\"Matchbox\",\"I'm a Loser\",\"Johnny B. Goode\",\"Kansas City \\u002f Hey, Hey, Hey, Hey\",\"I'll Follow the Sun\",\"I'll Cry Instead\",\"No Reply\",\"I'll Be Back\",\"Crying, Waiting, Hoping\",\"This Boy\",\"Till There Was You\",\"Misery\",\"To Know Her Is to Love Her\",\"Clarabella\",\"There's a Place\",\"Devil in Her Heart\",\"Twist and Shout\",\"Chains\",\"Carol\",\"It Won't Be Long\",\"Memphis, Tennessee\",\"Lucille\",\"Young Blood\",\"You've Really Got a Hold on Me\",\"A Shot of Rhythm and Blues\",\"Little Child\",\"Boys\",\"Lend Me Your Comb\",\"Anna (Go to Him)\",\"Keep Your Hands Off My Baby\",\"Do You Want to Know a Secret?\",\"Beautiful Dreamer\",\"I Wanna Be Your Man\",\"I Want to Hold Your Hand\",\"The Honeymoon Song\",\"She Loves You\",\"Don't Bother Me\",\"Soldier of Love (Lay Down Your Arms)\",\"So How Come (No One Loves Me)\",\"I'm Gonna Sit Right Down and Cry (Over You)\",\"Ooh! My Soul\",\"I'll Get You\",\"Please Mr. Postman\",\"I'm Talking About You\",\"I Got a Woman\",\"I Got to Find My Baby\",\"I Just Don't Understand\",\"Roll Over Beethoven\",\"I'll Be on My Way\",\"I Saw Her Standing There\",\"Lonesome Tears in My Eyes\",\"Some Other Guy\",\"Hold Me Tight\",\"Don't Ever Change\",\"Glad All Over\",\"Sure to Fall (In Love with You)\",\"Sweet Little Sixteen\",\"From Me to You\",\"Nothin' Shakin' (But the Leaves on the Trees)\",\"Not a Second Time\",\"That's All Right (Mama)\",\"Thank You Girl\",\"Searchin'\",\"The Sheik of Araby\",\"Love Me Do\",\"Please Please Me\",\"Like Dreamers Do\",\"Hello Little Girl\",\"P.S. I Love You\",\"Ask Me Why\",\"Three Cool Cats\",\"Ain't She Sweet\",\"Cry for a Shadow\",\"My Bonnie\",\"Hallelujah, I Love Her So\",\"You'll Be Mine\",\"That'll Be the Day\",\"In Spite of All the Danger\"],\"legendgroup\":\"Major\",\"marker\":{\"color\":\"beige\",\"size\":[91.0,96.0,213.0,206.0,150.0,196.0,172.0,51.0,220.0,215.0,217.0,179.0,191.0,152.0,198.0,194.0,146.0,144.0,117.0,23.0,186.0,179.0,116.0,243.0,165.0,185.0,66.0,207.0,242.0,139.0,201.0,213.0,136.0,195.0,184.0,145.0,191.0,230.0,151.0,224.0,270.0,161.0,194.0,431.0,372.0,144.0,201.0,174.0,187.0,162.0,202.0,123.0,137.0,168.0,163.0,102.0,236.0,106.0,124.0,52.0,198.0,231.0,156.0,241.0,148.0,215.0,171.0,273.0,207.0,208.0,80.0,388.0,119.0,149.0,164.0,157.0,261.0,130.0,237.0,161.0,207.0,305.0,167.0,137.0,183.0,235.0,145.0,157.0,183.0,158.0,121.0,138.0,178.0,181.0,159.0,129.0,147.0,245.0,149.0,157.0,179.0,135.0,155.0,202.0,123.0,140.0,161.0,131.0,153.0,138.0,161.0,146.0,125.0,164.0,170.0,135.0,190.0,138.0,156.0,175.0,148.0,153.0,143.0,145.0,168.0,147.0,148.0,141.0,115.0,124.0,139.0,148.0,127.0,183.0,143.0,173.0,175.0,129.0,153.0,145.0,126.0,130.0,121.0,164.0,164.0,131.0,150.0,122.0,133.0,122.0,157.0,119.0,152.0,150.0,176.0,155.0,142.0,117.0,151.0,171.0,163.0,106.0,129.0,135.0,140.0,131.0,133.0,136.0,107.0,171.0,160.0,109.0,147.0,125.0,143.0,156.0,133.0,136.0,110.0,116.0,182.0,136.0,108.0,144.0,110.0,168.0,151.0,116.0,106.0,103.0,144.0,100.0,138.0,149.0,119.0,115.0,122.0,98.0,124.0,156.0,112.0,168.0,118.0,168.0,168.0,118.0,175.0,156.0,121.0,152.0,125.0,113.0,141.0,141.0,116.0,180.0,128.0,176.0,121.0,180.0,103.0,142.0,120.0,155.0,100.0,126.0,144.0,145.0,133.0,142.0,162.0,73.0,99.0,128.0,164.0],\"sizemode\":\"area\",\"sizeref\":1.255,\"symbol\":\"circle\"},\"mode\":\"markers\",\"name\":\"Major\",\"scene\":\"scene\",\"showlegend\":true,\"x\":[0.419,0.543,0.726,0.422,0.603,0.529,0.554,0.54,0.299,0.486,0.44,0.656,0.395,0.88,0.678,0.761,0.483,0.556,0.53,0.703,0.557,0.396,0.735,0.443,0.328,0.492,0.676,0.764,0.335,0.686,0.386,0.599,0.631,0.577,0.349,0.513,0.146,0.257,0.644,0.662,0.166,0.537,0.587,0.399,0.288,0.523,0.417,0.512,0.818,0.541,0.47,0.433,0.267,0.608,0.48,0.589,0.388,0.631,0.542,0.792,0.621,0.599,0.304,0.327,0.472,0.381,0.297,0.401,0.175,0.311,0.653,0.39,0.451,0.698,0.705,0.526,0.672,0.587,0.4,0.542,0.479,0.352,0.632,0.551,0.619,0.294,0.29,0.704,0.651,0.604,0.555,0.49,0.38,0.391,0.469,0.77,0.521,0.39,0.493,0.329,0.234,0.394,0.555,0.488,0.332,0.533,0.414,0.398,0.461,0.563,0.59,0.433,0.425,0.534,0.67,0.373,0.519,0.529,0.592,0.6,0.754,0.439,0.492,0.373,0.301,0.667,0.688,0.549,0.629,0.516,0.702,0.601,0.647,0.72,0.543,0.629,0.494,0.69,0.533,0.571,0.549,0.383,0.74,0.652,0.682,0.483,0.695,0.374,0.612,0.551,0.612,0.579,0.59,0.457,0.559,0.631,0.665,0.344,0.492,0.492,0.588,0.689,0.643,0.718,0.721,0.647,0.66,0.727,0.591,0.45,0.521,0.455,0.618,0.482,0.654,0.484,0.472,0.757,0.629,0.474,0.373,0.699,0.526,0.402,0.665,0.608,0.566,0.673,0.44,0.553,0.492,0.728,0.391,0.371,0.742,0.494,0.639,0.576,0.653,0.552,0.579,0.676,0.413,0.586,0.351,0.614,0.491,0.579,0.451,0.54,0.561,0.604,0.662,0.491,0.644,0.761,0.471,0.671,0.553,0.556,0.608,0.52,0.527,0.53,0.473,0.635,0.605,0.546,0.495,0.514,0.376,0.569,0.418,0.639,0.44],\"y\":[0.326,0.226,0.0974,0.0126,0.00186,0.00171,0.0307,0.659,0.756,0.147,0.0715,0.00561,0.0691,0.24,0.494,0.492,0.284,0.918,0.00376,0.728,0.0339,0.198,0.0923,0.631,0.754,0.972,0.0699,0.629,0.345,0.754,0.0785,0.333,0.385,0.33,0.539,0.905,0.865,0.361,0.562,0.86,0.000606,0.88,0.0197,0.0293,0.763,0.0207,0.0888,0.828,0.232,7.37e-05,0.0348,0.656,0.351,0.634,0.069,0.53,0.16,0.742,0.643,0.425,0.224,0.594,0.751,0.000875,0.872,0.944,0.0385,0.0828,0.000341,0.0469,0.0061,4.3e-05,0.0857,0.784,0.365,0.338,0.647,0.0722,0.346,0.0858,0.306,0.339,0.313,0.368,0.0119,0.0258,0.921,0.625,0.212,0.531,0.0067,0.189,8.4e-05,0.7,0.0101,0.719,0.42,0.336,0.182,0.103,2.82e-05,0.164,0.415,0.136,0.879,0.346,0.638,0.207,0.0537,0.0103,0.00682,0.00446,0.183,0.00797,0.0168,0.102,0.0457,0.0124,0.061,0.00154,0.0173,0.563,0.00748,0.116,0.16,0.00772,0.449,0.199,0.22,0.238,0.366,0.277,0.723,0.367,0.466,0.473,0.707,0.313,0.451,0.311,0.611,0.209,0.488,0.412,0.257,0.283,0.301,0.434,0.366,0.323,0.367,0.712,0.137,0.566,0.121,0.796,0.68,0.428,0.567,0.0281,0.614,0.789,0.0917,0.67,0.744,0.689,0.213,0.79,0.707,0.777,0.61,0.629,0.227,0.641,0.608,0.311,0.284,0.231,0.397,0.697,0.525,0.879,0.292,0.607,0.304,0.635,0.0851,0.608,0.84,0.477,0.57,0.72,0.264,0.554,0.319,0.26,0.357,0.571,0.616,0.675,0.826,0.646,0.163,0.664,0.289,0.234,0.27,0.46,0.00388,0.664,0.795,0.583,0.78,0.403,0.613,0.52,0.213,0.604,0.449,0.492,0.564,0.386,0.334,0.264,0.313,0.389,0.767,0.079,0.208,0.545,0.591,0.989,0.989,0.992,0.991],\"z\":[70.0,62.0,61.0,69.0,33.0,38.0,51.0,48.0,68.0,48.0,59.0,40.0,29.0,52.0,28.0,70.0,59.0,45.0,61.0,27.0,87.0,76.0,28.0,81.0,60.0,35.0,58.0,61.0,60.0,79.0,52.0,61.0,39.0,54.0,52.0,35.0,51.0,69.0,28.0,31.0,63.0,53.0,55.0,51.0,28.0,52.0,41.0,57.0,74.0,57.0,33.0,58.0,30.0,57.0,65.0,52.0,61.0,68.0,52.0,52.0,54.0,52.0,41.0,54.0,56.0,60.0,56.0,64.0,43.0,70.0,52.0,44.0,64.0,58.0,69.0,54.0,40.0,45.0,68.0,52.0,63.0,54.0,56.0,53.0,55.0,53.0,70.0,68.0,67.0,61.0,58.0,40.0,59.0,53.0,60.0,65.0,60.0,71.0,52.0,56.0,52.0,52.0,50.0,57.0,80.0,57.0,46.0,73.0,56.0,55.0,55.0,34.0,75.0,67.0,54.0,41.0,69.0,55.0,49.0,31.0,69.0,43.0,56.0,50.0,31.0,60.0,79.0,40.0,56.0,52.0,52.0,57.0,66.0,45.0,46.0,46.0,39.0,42.0,46.0,40.0,26.0,44.0,48.0,69.0,59.0,70.0,47.0,48.0,52.0,51.0,51.0,28.0,71.0,55.0,31.0,48.0,67.0,37.0,50.0,33.0,47.0,69.0,49.0,55.0,53.0,30.0,56.0,66.0,54.0,35.0,27.0,51.0,49.0,80.0,50.0,28.0,54.0,22.0,27.0,29.0,54.0,35.0,46.0,51.0,28.0,58.0,31.0,66.0,25.0,49.0,41.0,30.0,51.0,53.0,39.0,25.0,28.0,24.0,42.0,58.0,27.0,31.0,24.0,27.0,56.0,33.0,71.0,28.0,35.0,50.0,30.0,25.0,23.0,29.0,42.0,27.0,48.0,29.0,41.0,30.0,32.0,71.0,61.0,38.0,33.0,54.0,52.0,33.0,38.0,34.0,35.0,30.0,28.0,36.0,43.0],\"type\":\"scatter3d\"}],                        {\"template\":{\"data\":{\"candlestick\":[{\"decreasing\":{\"line\":{\"color\":\"#000033\"}},\"increasing\":{\"line\":{\"color\":\"#000032\"}},\"type\":\"candlestick\"}],\"contourcarpet\":[{\"colorscale\":[[0.0,\"#000011\"],[0.1111111111111111,\"#000012\"],[0.2222222222222222,\"#000013\"],[0.3333333333333333,\"#000014\"],[0.4444444444444444,\"#000015\"],[0.5555555555555556,\"#000016\"],[0.6666666666666666,\"#000017\"],[0.7777777777777778,\"#000018\"],[0.8888888888888888,\"#000019\"],[1.0,\"#000020\"]],\"type\":\"contourcarpet\"}],\"contour\":[{\"colorscale\":[[0.0,\"#000011\"],[0.1111111111111111,\"#000012\"],[0.2222222222222222,\"#000013\"],[0.3333333333333333,\"#000014\"],[0.4444444444444444,\"#000015\"],[0.5555555555555556,\"#000016\"],[0.6666666666666666,\"#000017\"],[0.7777777777777778,\"#000018\"],[0.8888888888888888,\"#000019\"],[1.0,\"#000020\"]],\"type\":\"contour\"}],\"heatmap\":[{\"colorscale\":[[0.0,\"#000011\"],[0.1111111111111111,\"#000012\"],[0.2222222222222222,\"#000013\"],[0.3333333333333333,\"#000014\"],[0.4444444444444444,\"#000015\"],[0.5555555555555556,\"#000016\"],[0.6666666666666666,\"#000017\"],[0.7777777777777778,\"#000018\"],[0.8888888888888888,\"#000019\"],[1.0,\"#000020\"]],\"type\":\"heatmap\"}],\"histogram2d\":[{\"colorscale\":[[0.0,\"#000011\"],[0.1111111111111111,\"#000012\"],[0.2222222222222222,\"#000013\"],[0.3333333333333333,\"#000014\"],[0.4444444444444444,\"#000015\"],[0.5555555555555556,\"#000016\"],[0.6666666666666666,\"#000017\"],[0.7777777777777778,\"#000018\"],[0.8888888888888888,\"#000019\"],[1.0,\"#000020\"]],\"type\":\"histogram2d\"}],\"icicle\":[{\"textfont\":{\"color\":\"white\"},\"type\":\"icicle\"}],\"sankey\":[{\"textfont\":{\"color\":\"#000036\"},\"type\":\"sankey\"}],\"scatter\":[{\"marker\":{\"line\":{\"width\":0}},\"type\":\"scatter\"}],\"table\":[{\"cells\":{\"fill\":{\"color\":\"#000038\"},\"font\":{\"color\":\"#000037\"},\"line\":{\"color\":\"#000039\"}},\"header\":{\"fill\":{\"color\":\"#000040\"},\"font\":{\"color\":\"#000036\"},\"line\":{\"color\":\"#000039\"}},\"type\":\"table\"}],\"waterfall\":[{\"connector\":{\"line\":{\"color\":\"#000036\",\"width\":2}},\"decreasing\":{\"marker\":{\"color\":\"#000033\"}},\"increasing\":{\"marker\":{\"color\":\"#000032\"}},\"totals\":{\"marker\":{\"color\":\"#000034\"}},\"type\":\"waterfall\"}]},\"layout\":{\"coloraxis\":{\"colorscale\":[[0.0,\"#000011\"],[0.1111111111111111,\"#000012\"],[0.2222222222222222,\"#000013\"],[0.3333333333333333,\"#000014\"],[0.4444444444444444,\"#000015\"],[0.5555555555555556,\"#000016\"],[0.6666666666666666,\"#000017\"],[0.7777777777777778,\"#000018\"],[0.8888888888888888,\"#000019\"],[1.0,\"#000020\"]]},\"colorscale\":{\"diverging\":[[0.0,\"#000021\"],[0.1,\"#000022\"],[0.2,\"#000023\"],[0.3,\"#000024\"],[0.4,\"#000025\"],[0.5,\"#000026\"],[0.6,\"#000027\"],[0.7,\"#000028\"],[0.8,\"#000029\"],[0.9,\"#000030\"],[1.0,\"#000031\"]],\"sequential\":[[0.0,\"#000011\"],[0.1111111111111111,\"#000012\"],[0.2222222222222222,\"#000013\"],[0.3333333333333333,\"#000014\"],[0.4444444444444444,\"#000015\"],[0.5555555555555556,\"#000016\"],[0.6666666666666666,\"#000017\"],[0.7777777777777778,\"#000018\"],[0.8888888888888888,\"#000019\"],[1.0,\"#000020\"]],\"sequentialminus\":[[0.0,\"#000011\"],[0.1111111111111111,\"#000012\"],[0.2222222222222222,\"#000013\"],[0.3333333333333333,\"#000014\"],[0.4444444444444444,\"#000015\"],[0.5555555555555556,\"#000016\"],[0.6666666666666666,\"#000017\"],[0.7777777777777778,\"#000018\"],[0.8888888888888888,\"#000019\"],[1.0,\"#000020\"]]},\"colorway\":[\"#000001\",\"#000002\",\"#000003\",\"#000004\",\"#000005\",\"#000006\",\"#000007\",\"#000008\",\"#000009\",\"#000010\"]}},\"scene\":{\"domain\":{\"x\":[0.0,1.0],\"y\":[0.0,1.0]},\"xaxis\":{\"title\":{\"text\":\"Danceability\"}},\"yaxis\":{\"title\":{\"text\":\"Acousticness\"}},\"zaxis\":{\"title\":{\"text\":\"Popularity\"}}},\"legend\":{\"title\":{\"text\":\"color\"},\"tracegroupgap\":0,\"itemsizing\":\"constant\"},\"margin\":{\"t\":60}},                        {\"responsive\": true}                    ).then(function(){\n",
       "                            \n",
       "var gd = document.getElementById('af5a4d91-88bb-4bc2-a39f-0404a8ff5e0a');\n",
       "var x = new MutationObserver(function (mutations, observer) {{\n",
       "        var display = window.getComputedStyle(gd).display;\n",
       "        if (!display || display === 'none') {{\n",
       "            console.log([gd, 'removed!']);\n",
       "            Plotly.purge(gd);\n",
       "            observer.disconnect();\n",
       "        }}\n",
       "}});\n",
       "\n",
       "// Listen for the removal of the full notebook cells\n",
       "var notebookContainer = gd.closest('#notebook-container');\n",
       "if (notebookContainer) {{\n",
       "    x.observe(notebookContainer, {childList: true});\n",
       "}}\n",
       "\n",
       "// Listen for the clearing of the current output cell\n",
       "var outputEl = gd.closest('.output');\n",
       "if (outputEl) {{\n",
       "    x.observe(outputEl, {childList: true});\n",
       "}}\n",
       "\n",
       "                        })                };                });            </script>        </div>"
      ]
     },
     "metadata": {},
     "output_type": "display_data"
    },
    {
     "name": "stdout",
     "output_type": "stream",
     "text": [
      "The graph shows how the acoustics and dance quality of the songs are related to their popularity. \n",
      "The color of the dots indicates the key, and the size indicates the duration of the song.\n"
     ]
    }
   ],
   "source": [
    "# 7 Chart\n",
    "# 3D scatter just like bubble but in 3D\n",
    "print(\"Danceability, acousticness, mod, duration and popularity\")\n",
    "fig7 = px.scatter_3d(\n",
    "    dt,\n",
    "    x=\"Danceability\",\n",
    "    y=\"Acousticness\",\n",
    "    z=\"Popularity\",\n",
    "    color=dt[\"Mode\"].replace({0: \"Minor\", 1: \"Major\"}),  # Цвет по модусу\n",
    "    size=\"Duration\",\n",
    "    color_discrete_map={\"Minor\": \"blue\", \"Major\": \"beige\"},  # Настройка цветов\n",
    "    hover_name=\"Title\",\n",
    "    labels={\"Danceability\": \"Danceability\", \"Acousticness\": \"Acousticness\", \"Popularity\": \"Popularity\"}\n",
    ")\n",
    "fig7.show()\n",
    "print('''The graph shows how the acoustics and dance quality of the songs are related to their popularity. \n",
    "The color of the dots indicates the key, and the size indicates the duration of the song.''')"
   ]
  },
  {
   "cell_type": "code",
   "execution_count": 32,
   "id": "1f849d35-5bb2-4825-9711-28bc0c24cbcb",
   "metadata": {},
   "outputs": [
    {
     "name": "stdout",
     "output_type": "stream",
     "text": [
      "The distribution of songs by mod, key and popularity\n"
     ]
    },
    {
     "data": {
      "application/vnd.plotly.v1+json": {
       "config": {
        "plotlyServerURL": "https://plot.ly"
       },
       "data": [
        {
         "branchvalues": "total",
         "customdata": [
          [
           57.75548421615837
          ],
          [
           56
          ],
          [
           58.845697329376854
          ],
          [
           63.26315789473684
          ],
          [
           53.8197325956662
          ],
          [
           55.57534246575342
          ],
          [
           62.58064516129032
          ],
          [
           31
          ],
          [
           51.51007484168106
          ],
          [
           66.11926605504587
          ],
          [
           53.99841521394612
          ],
          [
           68.05882352941177
          ],
          [
           51.1764705882353
          ],
          [
           59.504347826086956
          ],
          [
           52.57166574432762
          ],
          [
           58
          ],
          [
           41.20253164556962
          ],
          [
           52.51677852348993
          ],
          [
           51.39771227452706
          ],
          [
           59.037151702786375
          ],
          [
           62.09933774834437
          ],
          [
           51.015151515151516
          ],
          [
           54.027863777089784
          ],
          [
           53.67743321020531
          ],
          [
           59.46431718061674
          ]
         ],
         "domain": {
          "x": [
           0,
           1
          ],
          "y": [
           0,
           1
          ]
         },
         "hovertemplate": "labels=%{label}<br>Popularity_sum=%{value}<br>parent=%{parent}<br>id=%{id}<br>Popularity=%{color}<extra></extra>",
         "ids": [
          "Major/0.0",
          "Minor/0.0",
          "Major/1.0",
          "Minor/1.0",
          "Major/2.0",
          "Minor/2.0",
          "Major/3.0",
          "Minor/3.0",
          "Major/4.0",
          "Minor/4.0",
          "Major/5.0",
          "Minor/5.0",
          "Major/6.0",
          "Minor/6.0",
          "Major/7.0",
          "Minor/7.0",
          "Major/8.0",
          "Minor/8.0",
          "Major/9.0",
          "Minor/9.0",
          "Major/10.0",
          "Major/11.0",
          "Minor/11.0",
          "Major",
          "Minor"
         ],
         "labels": [
          "0.0",
          "0.0",
          "1.0",
          "1.0",
          "2.0",
          "2.0",
          "3.0",
          "3.0",
          "4.0",
          "4.0",
          "5.0",
          "5.0",
          "6.0",
          "6.0",
          "7.0",
          "7.0",
          "8.0",
          "8.0",
          "9.0",
          "9.0",
          "10.0",
          "11.0",
          "11.0",
          "Major",
          "Minor"
         ],
         "marker": {
          "coloraxis": "coloraxis",
          "colors": [
           57.75548421615837,
           56,
           58.845697329376854,
           63.26315789473684,
           53.8197325956662,
           55.57534246575342,
           62.58064516129032,
           31,
           51.51007484168106,
           66.11926605504587,
           53.99841521394612,
           68.05882352941177,
           51.1764705882353,
           59.504347826086956,
           52.57166574432762,
           58,
           41.20253164556962,
           52.51677852348993,
           51.39771227452706,
           59.037151702786375,
           62.09933774834437,
           51.015151515151516,
           54.027863777089784,
           53.67743321020531,
           59.46431718061674
          ]
         },
         "name": "",
         "parents": [
          "Major",
          "Minor",
          "Major",
          "Minor",
          "Major",
          "Minor",
          "Major",
          "Minor",
          "Major",
          "Minor",
          "Major",
          "Minor",
          "Major",
          "Minor",
          "Major",
          "Minor",
          "Major",
          "Minor",
          "Major",
          "Minor",
          "Major",
          "Major",
          "Minor",
          "",
          ""
         ],
         "type": "sunburst",
         "values": [
          1869,
          56,
          337,
          418,
          2169,
          219,
          124,
          31,
          1737,
          327,
          631,
          136,
          102,
          230,
          1807,
          58,
          158,
          149,
          2273,
          323,
          302,
          132,
          323,
          11641,
          2270
         ]
        }
       ],
       "layout": {
        "coloraxis": {
         "colorbar": {
          "title": {
           "text": "Popularity"
          }
         },
         "colorscale": [
          [
           0,
           "#440154"
          ],
          [
           0.1111111111111111,
           "#482878"
          ],
          [
           0.2222222222222222,
           "#3e4989"
          ],
          [
           0.3333333333333333,
           "#31688e"
          ],
          [
           0.4444444444444444,
           "#26828e"
          ],
          [
           0.5555555555555556,
           "#1f9e89"
          ],
          [
           0.6666666666666666,
           "#35b779"
          ],
          [
           0.7777777777777778,
           "#6ece58"
          ],
          [
           0.8888888888888888,
           "#b5de2b"
          ],
          [
           1,
           "#fde725"
          ]
         ]
        },
        "legend": {
         "tracegroupgap": 0
        },
        "margin": {
         "t": 60
        },
        "template": {
         "data": {
          "candlestick": [
           {
            "decreasing": {
             "line": {
              "color": "#000033"
             }
            },
            "increasing": {
             "line": {
              "color": "#000032"
             }
            },
            "type": "candlestick"
           }
          ],
          "contour": [
           {
            "colorscale": [
             [
              0,
              "#000011"
             ],
             [
              0.1111111111111111,
              "#000012"
             ],
             [
              0.2222222222222222,
              "#000013"
             ],
             [
              0.3333333333333333,
              "#000014"
             ],
             [
              0.4444444444444444,
              "#000015"
             ],
             [
              0.5555555555555556,
              "#000016"
             ],
             [
              0.6666666666666666,
              "#000017"
             ],
             [
              0.7777777777777778,
              "#000018"
             ],
             [
              0.8888888888888888,
              "#000019"
             ],
             [
              1,
              "#000020"
             ]
            ],
            "type": "contour"
           }
          ],
          "contourcarpet": [
           {
            "colorscale": [
             [
              0,
              "#000011"
             ],
             [
              0.1111111111111111,
              "#000012"
             ],
             [
              0.2222222222222222,
              "#000013"
             ],
             [
              0.3333333333333333,
              "#000014"
             ],
             [
              0.4444444444444444,
              "#000015"
             ],
             [
              0.5555555555555556,
              "#000016"
             ],
             [
              0.6666666666666666,
              "#000017"
             ],
             [
              0.7777777777777778,
              "#000018"
             ],
             [
              0.8888888888888888,
              "#000019"
             ],
             [
              1,
              "#000020"
             ]
            ],
            "type": "contourcarpet"
           }
          ],
          "heatmap": [
           {
            "colorscale": [
             [
              0,
              "#000011"
             ],
             [
              0.1111111111111111,
              "#000012"
             ],
             [
              0.2222222222222222,
              "#000013"
             ],
             [
              0.3333333333333333,
              "#000014"
             ],
             [
              0.4444444444444444,
              "#000015"
             ],
             [
              0.5555555555555556,
              "#000016"
             ],
             [
              0.6666666666666666,
              "#000017"
             ],
             [
              0.7777777777777778,
              "#000018"
             ],
             [
              0.8888888888888888,
              "#000019"
             ],
             [
              1,
              "#000020"
             ]
            ],
            "type": "heatmap"
           }
          ],
          "histogram2d": [
           {
            "colorscale": [
             [
              0,
              "#000011"
             ],
             [
              0.1111111111111111,
              "#000012"
             ],
             [
              0.2222222222222222,
              "#000013"
             ],
             [
              0.3333333333333333,
              "#000014"
             ],
             [
              0.4444444444444444,
              "#000015"
             ],
             [
              0.5555555555555556,
              "#000016"
             ],
             [
              0.6666666666666666,
              "#000017"
             ],
             [
              0.7777777777777778,
              "#000018"
             ],
             [
              0.8888888888888888,
              "#000019"
             ],
             [
              1,
              "#000020"
             ]
            ],
            "type": "histogram2d"
           }
          ],
          "icicle": [
           {
            "textfont": {
             "color": "white"
            },
            "type": "icicle"
           }
          ],
          "sankey": [
           {
            "textfont": {
             "color": "#000036"
            },
            "type": "sankey"
           }
          ],
          "scatter": [
           {
            "marker": {
             "line": {
              "width": 0
             }
            },
            "type": "scatter"
           }
          ],
          "table": [
           {
            "cells": {
             "fill": {
              "color": "#000038"
             },
             "font": {
              "color": "#000037"
             },
             "line": {
              "color": "#000039"
             }
            },
            "header": {
             "fill": {
              "color": "#000040"
             },
             "font": {
              "color": "#000036"
             },
             "line": {
              "color": "#000039"
             }
            },
            "type": "table"
           }
          ],
          "waterfall": [
           {
            "connector": {
             "line": {
              "color": "#000036",
              "width": 2
             }
            },
            "decreasing": {
             "marker": {
              "color": "#000033"
             }
            },
            "increasing": {
             "marker": {
              "color": "#000032"
             }
            },
            "totals": {
             "marker": {
              "color": "#000034"
             }
            },
            "type": "waterfall"
           }
          ]
         },
         "layout": {
          "coloraxis": {
           "colorscale": [
            [
             0,
             "#000011"
            ],
            [
             0.1111111111111111,
             "#000012"
            ],
            [
             0.2222222222222222,
             "#000013"
            ],
            [
             0.3333333333333333,
             "#000014"
            ],
            [
             0.4444444444444444,
             "#000015"
            ],
            [
             0.5555555555555556,
             "#000016"
            ],
            [
             0.6666666666666666,
             "#000017"
            ],
            [
             0.7777777777777778,
             "#000018"
            ],
            [
             0.8888888888888888,
             "#000019"
            ],
            [
             1,
             "#000020"
            ]
           ]
          },
          "colorscale": {
           "diverging": [
            [
             0,
             "#000021"
            ],
            [
             0.1,
             "#000022"
            ],
            [
             0.2,
             "#000023"
            ],
            [
             0.3,
             "#000024"
            ],
            [
             0.4,
             "#000025"
            ],
            [
             0.5,
             "#000026"
            ],
            [
             0.6,
             "#000027"
            ],
            [
             0.7,
             "#000028"
            ],
            [
             0.8,
             "#000029"
            ],
            [
             0.9,
             "#000030"
            ],
            [
             1,
             "#000031"
            ]
           ],
           "sequential": [
            [
             0,
             "#000011"
            ],
            [
             0.1111111111111111,
             "#000012"
            ],
            [
             0.2222222222222222,
             "#000013"
            ],
            [
             0.3333333333333333,
             "#000014"
            ],
            [
             0.4444444444444444,
             "#000015"
            ],
            [
             0.5555555555555556,
             "#000016"
            ],
            [
             0.6666666666666666,
             "#000017"
            ],
            [
             0.7777777777777778,
             "#000018"
            ],
            [
             0.8888888888888888,
             "#000019"
            ],
            [
             1,
             "#000020"
            ]
           ],
           "sequentialminus": [
            [
             0,
             "#000011"
            ],
            [
             0.1111111111111111,
             "#000012"
            ],
            [
             0.2222222222222222,
             "#000013"
            ],
            [
             0.3333333333333333,
             "#000014"
            ],
            [
             0.4444444444444444,
             "#000015"
            ],
            [
             0.5555555555555556,
             "#000016"
            ],
            [
             0.6666666666666666,
             "#000017"
            ],
            [
             0.7777777777777778,
             "#000018"
            ],
            [
             0.8888888888888888,
             "#000019"
            ],
            [
             1,
             "#000020"
            ]
           ]
          },
          "colorway": [
           "#000001",
           "#000002",
           "#000003",
           "#000004",
           "#000005",
           "#000006",
           "#000007",
           "#000008",
           "#000009",
           "#000010"
          ]
         }
        }
       }
      },
      "image/png": "[encoded data removed]",
      "text/html": [
       "<div>                            <div id=\"6d0d8e11-9f71-44cd-b873-47142ee52270\" class=\"plotly-graph-div\" style=\"height:525px; width:100%;\"></div>            <script type=\"text/javascript\">                require([\"plotly\"], function(Plotly) {                    window.PLOTLYENV=window.PLOTLYENV || {};                                    if (document.getElementById(\"6d0d8e11-9f71-44cd-b873-47142ee52270\")) {                    Plotly.newPlot(                        \"6d0d8e11-9f71-44cd-b873-47142ee52270\",                        [{\"branchvalues\":\"total\",\"customdata\":[[57.75548421615837],[56.0],[58.845697329376854],[63.26315789473684],[53.8197325956662],[55.57534246575342],[62.58064516129032],[31.0],[51.51007484168106],[66.11926605504587],[53.99841521394612],[68.05882352941177],[51.1764705882353],[59.504347826086956],[52.57166574432762],[58.0],[41.20253164556962],[52.51677852348993],[51.39771227452706],[59.037151702786375],[62.09933774834437],[51.015151515151516],[54.027863777089784],[53.67743321020531],[59.46431718061674]],\"domain\":{\"x\":[0.0,1.0],\"y\":[0.0,1.0]},\"hovertemplate\":\"labels=%{label}\\u003cbr\\u003ePopularity_sum=%{value}\\u003cbr\\u003eparent=%{parent}\\u003cbr\\u003eid=%{id}\\u003cbr\\u003ePopularity=%{color}\\u003cextra\\u003e\\u003c\\u002fextra\\u003e\",\"ids\":[\"Major\\u002f0.0\",\"Minor\\u002f0.0\",\"Major\\u002f1.0\",\"Minor\\u002f1.0\",\"Major\\u002f2.0\",\"Minor\\u002f2.0\",\"Major\\u002f3.0\",\"Minor\\u002f3.0\",\"Major\\u002f4.0\",\"Minor\\u002f4.0\",\"Major\\u002f5.0\",\"Minor\\u002f5.0\",\"Major\\u002f6.0\",\"Minor\\u002f6.0\",\"Major\\u002f7.0\",\"Minor\\u002f7.0\",\"Major\\u002f8.0\",\"Minor\\u002f8.0\",\"Major\\u002f9.0\",\"Minor\\u002f9.0\",\"Major\\u002f10.0\",\"Major\\u002f11.0\",\"Minor\\u002f11.0\",\"Major\",\"Minor\"],\"labels\":[\"0.0\",\"0.0\",\"1.0\",\"1.0\",\"2.0\",\"2.0\",\"3.0\",\"3.0\",\"4.0\",\"4.0\",\"5.0\",\"5.0\",\"6.0\",\"6.0\",\"7.0\",\"7.0\",\"8.0\",\"8.0\",\"9.0\",\"9.0\",\"10.0\",\"11.0\",\"11.0\",\"Major\",\"Minor\"],\"marker\":{\"coloraxis\":\"coloraxis\",\"colors\":[57.75548421615837,56.0,58.845697329376854,63.26315789473684,53.8197325956662,55.57534246575342,62.58064516129032,31.0,51.51007484168106,66.11926605504587,53.99841521394612,68.05882352941177,51.1764705882353,59.504347826086956,52.57166574432762,58.0,41.20253164556962,52.51677852348993,51.39771227452706,59.037151702786375,62.09933774834437,51.015151515151516,54.027863777089784,53.67743321020531,59.46431718061674]},\"name\":\"\",\"parents\":[\"Major\",\"Minor\",\"Major\",\"Minor\",\"Major\",\"Minor\",\"Major\",\"Minor\",\"Major\",\"Minor\",\"Major\",\"Minor\",\"Major\",\"Minor\",\"Major\",\"Minor\",\"Major\",\"Minor\",\"Major\",\"Minor\",\"Major\",\"Major\",\"Minor\",\"\",\"\"],\"values\":[1869.0,56.0,337.0,418.0,2169.0,219.0,124.0,31.0,1737.0,327.0,631.0,136.0,102.0,230.0,1807.0,58.0,158.0,149.0,2273.0,323.0,302.0,132.0,323.0,11641.0,2270.0],\"type\":\"sunburst\"}],                        {\"template\":{\"data\":{\"candlestick\":[{\"decreasing\":{\"line\":{\"color\":\"#000033\"}},\"increasing\":{\"line\":{\"color\":\"#000032\"}},\"type\":\"candlestick\"}],\"contourcarpet\":[{\"colorscale\":[[0.0,\"#000011\"],[0.1111111111111111,\"#000012\"],[0.2222222222222222,\"#000013\"],[0.3333333333333333,\"#000014\"],[0.4444444444444444,\"#000015\"],[0.5555555555555556,\"#000016\"],[0.6666666666666666,\"#000017\"],[0.7777777777777778,\"#000018\"],[0.8888888888888888,\"#000019\"],[1.0,\"#000020\"]],\"type\":\"contourcarpet\"}],\"contour\":[{\"colorscale\":[[0.0,\"#000011\"],[0.1111111111111111,\"#000012\"],[0.2222222222222222,\"#000013\"],[0.3333333333333333,\"#000014\"],[0.4444444444444444,\"#000015\"],[0.5555555555555556,\"#000016\"],[0.6666666666666666,\"#000017\"],[0.7777777777777778,\"#000018\"],[0.8888888888888888,\"#000019\"],[1.0,\"#000020\"]],\"type\":\"contour\"}],\"heatmap\":[{\"colorscale\":[[0.0,\"#000011\"],[0.1111111111111111,\"#000012\"],[0.2222222222222222,\"#000013\"],[0.3333333333333333,\"#000014\"],[0.4444444444444444,\"#000015\"],[0.5555555555555556,\"#000016\"],[0.6666666666666666,\"#000017\"],[0.7777777777777778,\"#000018\"],[0.8888888888888888,\"#000019\"],[1.0,\"#000020\"]],\"type\":\"heatmap\"}],\"histogram2d\":[{\"colorscale\":[[0.0,\"#000011\"],[0.1111111111111111,\"#000012\"],[0.2222222222222222,\"#000013\"],[0.3333333333333333,\"#000014\"],[0.4444444444444444,\"#000015\"],[0.5555555555555556,\"#000016\"],[0.6666666666666666,\"#000017\"],[0.7777777777777778,\"#000018\"],[0.8888888888888888,\"#000019\"],[1.0,\"#000020\"]],\"type\":\"histogram2d\"}],\"icicle\":[{\"textfont\":{\"color\":\"white\"},\"type\":\"icicle\"}],\"sankey\":[{\"textfont\":{\"color\":\"#000036\"},\"type\":\"sankey\"}],\"scatter\":[{\"marker\":{\"line\":{\"width\":0}},\"type\":\"scatter\"}],\"table\":[{\"cells\":{\"fill\":{\"color\":\"#000038\"},\"font\":{\"color\":\"#000037\"},\"line\":{\"color\":\"#000039\"}},\"header\":{\"fill\":{\"color\":\"#000040\"},\"font\":{\"color\":\"#000036\"},\"line\":{\"color\":\"#000039\"}},\"type\":\"table\"}],\"waterfall\":[{\"connector\":{\"line\":{\"color\":\"#000036\",\"width\":2}},\"decreasing\":{\"marker\":{\"color\":\"#000033\"}},\"increasing\":{\"marker\":{\"color\":\"#000032\"}},\"totals\":{\"marker\":{\"color\":\"#000034\"}},\"type\":\"waterfall\"}]},\"layout\":{\"coloraxis\":{\"colorscale\":[[0.0,\"#000011\"],[0.1111111111111111,\"#000012\"],[0.2222222222222222,\"#000013\"],[0.3333333333333333,\"#000014\"],[0.4444444444444444,\"#000015\"],[0.5555555555555556,\"#000016\"],[0.6666666666666666,\"#000017\"],[0.7777777777777778,\"#000018\"],[0.8888888888888888,\"#000019\"],[1.0,\"#000020\"]]},\"colorscale\":{\"diverging\":[[0.0,\"#000021\"],[0.1,\"#000022\"],[0.2,\"#000023\"],[0.3,\"#000024\"],[0.4,\"#000025\"],[0.5,\"#000026\"],[0.6,\"#000027\"],[0.7,\"#000028\"],[0.8,\"#000029\"],[0.9,\"#000030\"],[1.0,\"#000031\"]],\"sequential\":[[0.0,\"#000011\"],[0.1111111111111111,\"#000012\"],[0.2222222222222222,\"#000013\"],[0.3333333333333333,\"#000014\"],[0.4444444444444444,\"#000015\"],[0.5555555555555556,\"#000016\"],[0.6666666666666666,\"#000017\"],[0.7777777777777778,\"#000018\"],[0.8888888888888888,\"#000019\"],[1.0,\"#000020\"]],\"sequentialminus\":[[0.0,\"#000011\"],[0.1111111111111111,\"#000012\"],[0.2222222222222222,\"#000013\"],[0.3333333333333333,\"#000014\"],[0.4444444444444444,\"#000015\"],[0.5555555555555556,\"#000016\"],[0.6666666666666666,\"#000017\"],[0.7777777777777778,\"#000018\"],[0.8888888888888888,\"#000019\"],[1.0,\"#000020\"]]},\"colorway\":[\"#000001\",\"#000002\",\"#000003\",\"#000004\",\"#000005\",\"#000006\",\"#000007\",\"#000008\",\"#000009\",\"#000010\"]}},\"coloraxis\":{\"colorbar\":{\"title\":{\"text\":\"Popularity\"}},\"colorscale\":[[0.0,\"#440154\"],[0.1111111111111111,\"#482878\"],[0.2222222222222222,\"#3e4989\"],[0.3333333333333333,\"#31688e\"],[0.4444444444444444,\"#26828e\"],[0.5555555555555556,\"#1f9e89\"],[0.6666666666666666,\"#35b779\"],[0.7777777777777778,\"#6ece58\"],[0.8888888888888888,\"#b5de2b\"],[1.0,\"#fde725\"]]},\"legend\":{\"tracegroupgap\":0},\"margin\":{\"t\":60}},                        {\"responsive\": true}                    ).then(function(){\n",
       "                            \n",
       "var gd = document.getElementById('6d0d8e11-9f71-44cd-b873-47142ee52270');\n",
       "var x = new MutationObserver(function (mutations, observer) {{\n",
       "        var display = window.getComputedStyle(gd).display;\n",
       "        if (!display || display === 'none') {{\n",
       "            console.log([gd, 'removed!']);\n",
       "            Plotly.purge(gd);\n",
       "            observer.disconnect();\n",
       "        }}\n",
       "}});\n",
       "\n",
       "// Listen for the removal of the full notebook cells\n",
       "var notebookContainer = gd.closest('#notebook-container');\n",
       "if (notebookContainer) {{\n",
       "    x.observe(notebookContainer, {childList: true});\n",
       "}}\n",
       "\n",
       "// Listen for the clearing of the current output cell\n",
       "var outputEl = gd.closest('.output');\n",
       "if (outputEl) {{\n",
       "    x.observe(outputEl, {childList: true});\n",
       "}}\n",
       "\n",
       "                        })                };                });            </script>        </div>"
      ]
     },
     "metadata": {},
     "output_type": "display_data"
    },
    {
     "name": "stdout",
     "output_type": "stream",
     "text": [
      "The graph shows the distribution of songs by major and minor, by key, and their popularity(colour).\n"
     ]
    }
   ],
   "source": [
    "# 8 chart\n",
    "# Sunburst chart, this one show dependence of key on mod\n",
    "\n",
    "print(\"The distribution of songs by mod, key and popularity\")\n",
    "dt[\"Mode+\"] = dt[\"Mode\"].replace({0: \"Minor\", 1: \"Major\"})\n",
    "fig_sunburst = px.sunburst(\n",
    "    dt,\n",
    "    path=[\"Mode+\", \"Key\"],\n",
    "    values=\"Popularity\",\n",
    "    color=\"Popularity\",\n",
    "    color_continuous_scale=\"Viridis\"\n",
    ")\n",
    "fig_sunburst.show()\n",
    "print(\"The graph shows the distribution of songs by major and minor, by key, and their popularity(colour).\")"
   ]
  },
  {
   "cell_type": "code",
   "execution_count": 33,
   "id": "1e3a52a4-6386-486f-aec3-d4c16b62ef85",
   "metadata": {},
   "outputs": [
    {
     "name": "stdout",
     "output_type": "stream",
     "text": [
      "Hypothesis: Major songs with high danceability are more popular than major ones with low, and minor songs with high acoustics are more popular than minor ones with low.\n",
      "**Information from the graph:**\n",
      "Popularity of major songs with high danceability: 47.93\n",
      "Popularity of major songs with low danceability: 51.21\n",
      "Popularity of minor songs with high acousticness: 55.06\n",
      "Popularity of minor songs with low acousticness: 58.14\n"
     ]
    },
    {
     "data": {
      "application/vnd.plotly.v1+json": {
       "config": {
        "plotlyServerURL": "https://plot.ly"
       },
       "data": [
        {
         "alignmentgroup": "True",
         "hovertemplate": "color=Major (high dance.)<br>=%{x}<br>Popularity=%{y}<extra></extra>",
         "legendgroup": "Major (high dance.)",
         "marker": {
          "color": "rgb(228,26,28)",
          "pattern": {
           "shape": ""
          }
         },
         "name": "Major (high dance.)",
         "offsetgroup": "Major (high dance.)",
         "orientation": "v",
         "showlegend": true,
         "textposition": "auto",
         "type": "bar",
         "x": [
          "Major (high dance.)"
         ],
         "xaxis": "x",
         "y": [
          47.93333333333333
         ],
         "yaxis": "y"
        },
        {
         "alignmentgroup": "True",
         "hovertemplate": "color=Major (low dance.)<br>=%{x}<br>Popularity=%{y}<extra></extra>",
         "legendgroup": "Major (low dance.)",
         "marker": {
          "color": "rgb(55,126,184)",
          "pattern": {
           "shape": ""
          }
         },
         "name": "Major (low dance.)",
         "offsetgroup": "Major (low dance.)",
         "orientation": "v",
         "showlegend": true,
         "textposition": "auto",
         "type": "bar",
         "x": [
          "Major (low dance.)"
         ],
         "xaxis": "x",
         "y": [
          51.208695652173915
         ],
         "yaxis": "y"
        },
        {
         "alignmentgroup": "True",
         "hovertemplate": "color=Minor (high acoustic.)<br>=%{x}<br>Popularity=%{y}<extra></extra>",
         "legendgroup": "Minor (high acoustic.)",
         "marker": {
          "color": "rgb(77,175,74)",
          "pattern": {
           "shape": ""
          }
         },
         "name": "Minor (high acoustic.)",
         "offsetgroup": "Minor (high acoustic.)",
         "orientation": "v",
         "showlegend": true,
         "textposition": "auto",
         "type": "bar",
         "x": [
          "Minor (high acoustic.)"
         ],
         "xaxis": "x",
         "y": [
          55.05555555555556
         ],
         "yaxis": "y"
        },
        {
         "alignmentgroup": "True",
         "hovertemplate": "color=Minor (low acoustic.)<br>=%{x}<br>Popularity=%{y}<extra></extra>",
         "legendgroup": "Minor (low acoustic.)",
         "marker": {
          "color": "rgb(152,78,163)",
          "pattern": {
           "shape": ""
          }
         },
         "name": "Minor (low acoustic.)",
         "offsetgroup": "Minor (low acoustic.)",
         "orientation": "v",
         "showlegend": true,
         "textposition": "auto",
         "type": "bar",
         "x": [
          "Minor (low acoustic.)"
         ],
         "xaxis": "x",
         "y": [
          58.13636363636363
         ],
         "yaxis": "y"
        }
       ],
       "layout": {
        "barmode": "relative",
        "legend": {
         "title": {
          "text": "color"
         },
         "tracegroupgap": 0
        },
        "margin": {
         "t": 60
        },
        "template": {
         "data": {
          "candlestick": [
           {
            "decreasing": {
             "line": {
              "color": "#000033"
             }
            },
            "increasing": {
             "line": {
              "color": "#000032"
             }
            },
            "type": "candlestick"
           }
          ],
          "contour": [
           {
            "colorscale": [
             [
              0,
              "#000011"
             ],
             [
              0.1111111111111111,
              "#000012"
             ],
             [
              0.2222222222222222,
              "#000013"
             ],
             [
              0.3333333333333333,
              "#000014"
             ],
             [
              0.4444444444444444,
              "#000015"
             ],
             [
              0.5555555555555556,
              "#000016"
             ],
             [
              0.6666666666666666,
              "#000017"
             ],
             [
              0.7777777777777778,
              "#000018"
             ],
             [
              0.8888888888888888,
              "#000019"
             ],
             [
              1,
              "#000020"
             ]
            ],
            "type": "contour"
           }
          ],
          "contourcarpet": [
           {
            "colorscale": [
             [
              0,
              "#000011"
             ],
             [
              0.1111111111111111,
              "#000012"
             ],
             [
              0.2222222222222222,
              "#000013"
             ],
             [
              0.3333333333333333,
              "#000014"
             ],
             [
              0.4444444444444444,
              "#000015"
             ],
             [
              0.5555555555555556,
              "#000016"
             ],
             [
              0.6666666666666666,
              "#000017"
             ],
             [
              0.7777777777777778,
              "#000018"
             ],
             [
              0.8888888888888888,
              "#000019"
             ],
             [
              1,
              "#000020"
             ]
            ],
            "type": "contourcarpet"
           }
          ],
          "heatmap": [
           {
            "colorscale": [
             [
              0,
              "#000011"
             ],
             [
              0.1111111111111111,
              "#000012"
             ],
             [
              0.2222222222222222,
              "#000013"
             ],
             [
              0.3333333333333333,
              "#000014"
             ],
             [
              0.4444444444444444,
              "#000015"
             ],
             [
              0.5555555555555556,
              "#000016"
             ],
             [
              0.6666666666666666,
              "#000017"
             ],
             [
              0.7777777777777778,
              "#000018"
             ],
             [
              0.8888888888888888,
              "#000019"
             ],
             [
              1,
              "#000020"
             ]
            ],
            "type": "heatmap"
           }
          ],
          "histogram2d": [
           {
            "colorscale": [
             [
              0,
              "#000011"
             ],
             [
              0.1111111111111111,
              "#000012"
             ],
             [
              0.2222222222222222,
              "#000013"
             ],
             [
              0.3333333333333333,
              "#000014"
             ],
             [
              0.4444444444444444,
              "#000015"
             ],
             [
              0.5555555555555556,
              "#000016"
             ],
             [
              0.6666666666666666,
              "#000017"
             ],
             [
              0.7777777777777778,
              "#000018"
             ],
             [
              0.8888888888888888,
              "#000019"
             ],
             [
              1,
              "#000020"
             ]
            ],
            "type": "histogram2d"
           }
          ],
          "icicle": [
           {
            "textfont": {
             "color": "white"
            },
            "type": "icicle"
           }
          ],
          "sankey": [
           {
            "textfont": {
             "color": "#000036"
            },
            "type": "sankey"
           }
          ],
          "scatter": [
           {
            "marker": {
             "line": {
              "width": 0
             }
            },
            "type": "scatter"
           }
          ],
          "table": [
           {
            "cells": {
             "fill": {
              "color": "#000038"
             },
             "font": {
              "color": "#000037"
             },
             "line": {
              "color": "#000039"
             }
            },
            "header": {
             "fill": {
              "color": "#000040"
             },
             "font": {
              "color": "#000036"
             },
             "line": {
              "color": "#000039"
             }
            },
            "type": "table"
           }
          ],
          "waterfall": [
           {
            "connector": {
             "line": {
              "color": "#000036",
              "width": 2
             }
            },
            "decreasing": {
             "marker": {
              "color": "#000033"
             }
            },
            "increasing": {
             "marker": {
              "color": "#000032"
             }
            },
            "totals": {
             "marker": {
              "color": "#000034"
             }
            },
            "type": "waterfall"
           }
          ]
         },
         "layout": {
          "coloraxis": {
           "colorscale": [
            [
             0,
             "#000011"
            ],
            [
             0.1111111111111111,
             "#000012"
            ],
            [
             0.2222222222222222,
             "#000013"
            ],
            [
             0.3333333333333333,
             "#000014"
            ],
            [
             0.4444444444444444,
             "#000015"
            ],
            [
             0.5555555555555556,
             "#000016"
            ],
            [
             0.6666666666666666,
             "#000017"
            ],
            [
             0.7777777777777778,
             "#000018"
            ],
            [
             0.8888888888888888,
             "#000019"
            ],
            [
             1,
             "#000020"
            ]
           ]
          },
          "colorscale": {
           "diverging": [
            [
             0,
             "#000021"
            ],
            [
             0.1,
             "#000022"
            ],
            [
             0.2,
             "#000023"
            ],
            [
             0.3,
             "#000024"
            ],
            [
             0.4,
             "#000025"
            ],
            [
             0.5,
             "#000026"
            ],
            [
             0.6,
             "#000027"
            ],
            [
             0.7,
             "#000028"
            ],
            [
             0.8,
             "#000029"
            ],
            [
             0.9,
             "#000030"
            ],
            [
             1,
             "#000031"
            ]
           ],
           "sequential": [
            [
             0,
             "#000011"
            ],
            [
             0.1111111111111111,
             "#000012"
            ],
            [
             0.2222222222222222,
             "#000013"
            ],
            [
             0.3333333333333333,
             "#000014"
            ],
            [
             0.4444444444444444,
             "#000015"
            ],
            [
             0.5555555555555556,
             "#000016"
            ],
            [
             0.6666666666666666,
             "#000017"
            ],
            [
             0.7777777777777778,
             "#000018"
            ],
            [
             0.8888888888888888,
             "#000019"
            ],
            [
             1,
             "#000020"
            ]
           ],
           "sequentialminus": [
            [
             0,
             "#000011"
            ],
            [
             0.1111111111111111,
             "#000012"
            ],
            [
             0.2222222222222222,
             "#000013"
            ],
            [
             0.3333333333333333,
             "#000014"
            ],
            [
             0.4444444444444444,
             "#000015"
            ],
            [
             0.5555555555555556,
             "#000016"
            ],
            [
             0.6666666666666666,
             "#000017"
            ],
            [
             0.7777777777777778,
             "#000018"
            ],
            [
             0.8888888888888888,
             "#000019"
            ],
            [
             1,
             "#000020"
            ]
           ]
          },
          "colorway": [
           "#000001",
           "#000002",
           "#000003",
           "#000004",
           "#000005",
           "#000006",
           "#000007",
           "#000008",
           "#000009",
           "#000010"
          ]
         }
        },
        "xaxis": {
         "anchor": "y",
         "domain": [
          0,
          1
         ],
         "title": {
          "text": ""
         }
        },
        "yaxis": {
         "anchor": "x",
         "domain": [
          0,
          1
         ],
         "title": {
          "text": "Popularity"
         }
        }
       }
      },
      "image/png": "[encoded data removed]",
      "text/html": [
       "<div>                            <div id=\"6138687f-5393-457e-bd00-540729a39fea\" class=\"plotly-graph-div\" style=\"height:525px; width:100%;\"></div>            <script type=\"text/javascript\">                require([\"plotly\"], function(Plotly) {                    window.PLOTLYENV=window.PLOTLYENV || {};                                    if (document.getElementById(\"6138687f-5393-457e-bd00-540729a39fea\")) {                    Plotly.newPlot(                        \"6138687f-5393-457e-bd00-540729a39fea\",                        [{\"alignmentgroup\":\"True\",\"hovertemplate\":\"color=Major (high dance.)\\u003cbr\\u003e=%{x}\\u003cbr\\u003ePopularity=%{y}\\u003cextra\\u003e\\u003c\\u002fextra\\u003e\",\"legendgroup\":\"Major (high dance.)\",\"marker\":{\"color\":\"rgb(228,26,28)\",\"pattern\":{\"shape\":\"\"}},\"name\":\"Major (high dance.)\",\"offsetgroup\":\"Major (high dance.)\",\"orientation\":\"v\",\"showlegend\":true,\"textposition\":\"auto\",\"x\":[\"Major (high dance.)\"],\"xaxis\":\"x\",\"y\":[47.93333333333333],\"yaxis\":\"y\",\"type\":\"bar\"},{\"alignmentgroup\":\"True\",\"hovertemplate\":\"color=Major (low dance.)\\u003cbr\\u003e=%{x}\\u003cbr\\u003ePopularity=%{y}\\u003cextra\\u003e\\u003c\\u002fextra\\u003e\",\"legendgroup\":\"Major (low dance.)\",\"marker\":{\"color\":\"rgb(55,126,184)\",\"pattern\":{\"shape\":\"\"}},\"name\":\"Major (low dance.)\",\"offsetgroup\":\"Major (low dance.)\",\"orientation\":\"v\",\"showlegend\":true,\"textposition\":\"auto\",\"x\":[\"Major (low dance.)\"],\"xaxis\":\"x\",\"y\":[51.208695652173915],\"yaxis\":\"y\",\"type\":\"bar\"},{\"alignmentgroup\":\"True\",\"hovertemplate\":\"color=Minor (high acoustic.)\\u003cbr\\u003e=%{x}\\u003cbr\\u003ePopularity=%{y}\\u003cextra\\u003e\\u003c\\u002fextra\\u003e\",\"legendgroup\":\"Minor (high acoustic.)\",\"marker\":{\"color\":\"rgb(77,175,74)\",\"pattern\":{\"shape\":\"\"}},\"name\":\"Minor (high acoustic.)\",\"offsetgroup\":\"Minor (high acoustic.)\",\"orientation\":\"v\",\"showlegend\":true,\"textposition\":\"auto\",\"x\":[\"Minor (high acoustic.)\"],\"xaxis\":\"x\",\"y\":[55.05555555555556],\"yaxis\":\"y\",\"type\":\"bar\"},{\"alignmentgroup\":\"True\",\"hovertemplate\":\"color=Minor (low acoustic.)\\u003cbr\\u003e=%{x}\\u003cbr\\u003ePopularity=%{y}\\u003cextra\\u003e\\u003c\\u002fextra\\u003e\",\"legendgroup\":\"Minor (low acoustic.)\",\"marker\":{\"color\":\"rgb(152,78,163)\",\"pattern\":{\"shape\":\"\"}},\"name\":\"Minor (low acoustic.)\",\"offsetgroup\":\"Minor (low acoustic.)\",\"orientation\":\"v\",\"showlegend\":true,\"textposition\":\"auto\",\"x\":[\"Minor (low acoustic.)\"],\"xaxis\":\"x\",\"y\":[58.13636363636363],\"yaxis\":\"y\",\"type\":\"bar\"}],                        {\"template\":{\"data\":{\"candlestick\":[{\"decreasing\":{\"line\":{\"color\":\"#000033\"}},\"increasing\":{\"line\":{\"color\":\"#000032\"}},\"type\":\"candlestick\"}],\"contourcarpet\":[{\"colorscale\":[[0.0,\"#000011\"],[0.1111111111111111,\"#000012\"],[0.2222222222222222,\"#000013\"],[0.3333333333333333,\"#000014\"],[0.4444444444444444,\"#000015\"],[0.5555555555555556,\"#000016\"],[0.6666666666666666,\"#000017\"],[0.7777777777777778,\"#000018\"],[0.8888888888888888,\"#000019\"],[1.0,\"#000020\"]],\"type\":\"contourcarpet\"}],\"contour\":[{\"colorscale\":[[0.0,\"#000011\"],[0.1111111111111111,\"#000012\"],[0.2222222222222222,\"#000013\"],[0.3333333333333333,\"#000014\"],[0.4444444444444444,\"#000015\"],[0.5555555555555556,\"#000016\"],[0.6666666666666666,\"#000017\"],[0.7777777777777778,\"#000018\"],[0.8888888888888888,\"#000019\"],[1.0,\"#000020\"]],\"type\":\"contour\"}],\"heatmap\":[{\"colorscale\":[[0.0,\"#000011\"],[0.1111111111111111,\"#000012\"],[0.2222222222222222,\"#000013\"],[0.3333333333333333,\"#000014\"],[0.4444444444444444,\"#000015\"],[0.5555555555555556,\"#000016\"],[0.6666666666666666,\"#000017\"],[0.7777777777777778,\"#000018\"],[0.8888888888888888,\"#000019\"],[1.0,\"#000020\"]],\"type\":\"heatmap\"}],\"histogram2d\":[{\"colorscale\":[[0.0,\"#000011\"],[0.1111111111111111,\"#000012\"],[0.2222222222222222,\"#000013\"],[0.3333333333333333,\"#000014\"],[0.4444444444444444,\"#000015\"],[0.5555555555555556,\"#000016\"],[0.6666666666666666,\"#000017\"],[0.7777777777777778,\"#000018\"],[0.8888888888888888,\"#000019\"],[1.0,\"#000020\"]],\"type\":\"histogram2d\"}],\"icicle\":[{\"textfont\":{\"color\":\"white\"},\"type\":\"icicle\"}],\"sankey\":[{\"textfont\":{\"color\":\"#000036\"},\"type\":\"sankey\"}],\"scatter\":[{\"marker\":{\"line\":{\"width\":0}},\"type\":\"scatter\"}],\"table\":[{\"cells\":{\"fill\":{\"color\":\"#000038\"},\"font\":{\"color\":\"#000037\"},\"line\":{\"color\":\"#000039\"}},\"header\":{\"fill\":{\"color\":\"#000040\"},\"font\":{\"color\":\"#000036\"},\"line\":{\"color\":\"#000039\"}},\"type\":\"table\"}],\"waterfall\":[{\"connector\":{\"line\":{\"color\":\"#000036\",\"width\":2}},\"decreasing\":{\"marker\":{\"color\":\"#000033\"}},\"increasing\":{\"marker\":{\"color\":\"#000032\"}},\"totals\":{\"marker\":{\"color\":\"#000034\"}},\"type\":\"waterfall\"}]},\"layout\":{\"coloraxis\":{\"colorscale\":[[0.0,\"#000011\"],[0.1111111111111111,\"#000012\"],[0.2222222222222222,\"#000013\"],[0.3333333333333333,\"#000014\"],[0.4444444444444444,\"#000015\"],[0.5555555555555556,\"#000016\"],[0.6666666666666666,\"#000017\"],[0.7777777777777778,\"#000018\"],[0.8888888888888888,\"#000019\"],[1.0,\"#000020\"]]},\"colorscale\":{\"diverging\":[[0.0,\"#000021\"],[0.1,\"#000022\"],[0.2,\"#000023\"],[0.3,\"#000024\"],[0.4,\"#000025\"],[0.5,\"#000026\"],[0.6,\"#000027\"],[0.7,\"#000028\"],[0.8,\"#000029\"],[0.9,\"#000030\"],[1.0,\"#000031\"]],\"sequential\":[[0.0,\"#000011\"],[0.1111111111111111,\"#000012\"],[0.2222222222222222,\"#000013\"],[0.3333333333333333,\"#000014\"],[0.4444444444444444,\"#000015\"],[0.5555555555555556,\"#000016\"],[0.6666666666666666,\"#000017\"],[0.7777777777777778,\"#000018\"],[0.8888888888888888,\"#000019\"],[1.0,\"#000020\"]],\"sequentialminus\":[[0.0,\"#000011\"],[0.1111111111111111,\"#000012\"],[0.2222222222222222,\"#000013\"],[0.3333333333333333,\"#000014\"],[0.4444444444444444,\"#000015\"],[0.5555555555555556,\"#000016\"],[0.6666666666666666,\"#000017\"],[0.7777777777777778,\"#000018\"],[0.8888888888888888,\"#000019\"],[1.0,\"#000020\"]]},\"colorway\":[\"#000001\",\"#000002\",\"#000003\",\"#000004\",\"#000005\",\"#000006\",\"#000007\",\"#000008\",\"#000009\",\"#000010\"]}},\"xaxis\":{\"anchor\":\"y\",\"domain\":[0.0,1.0],\"title\":{\"text\":\"\"}},\"yaxis\":{\"anchor\":\"x\",\"domain\":[0.0,1.0],\"title\":{\"text\":\"Popularity\"}},\"legend\":{\"title\":{\"text\":\"color\"},\"tracegroupgap\":0},\"margin\":{\"t\":60},\"barmode\":\"relative\"},                        {\"responsive\": true}                    ).then(function(){\n",
       "                            \n",
       "var gd = document.getElementById('6138687f-5393-457e-bd00-540729a39fea');\n",
       "var x = new MutationObserver(function (mutations, observer) {{\n",
       "        var display = window.getComputedStyle(gd).display;\n",
       "        if (!display || display === 'none') {{\n",
       "            console.log([gd, 'removed!']);\n",
       "            Plotly.purge(gd);\n",
       "            observer.disconnect();\n",
       "        }}\n",
       "}});\n",
       "\n",
       "// Listen for the removal of the full notebook cells\n",
       "var notebookContainer = gd.closest('#notebook-container');\n",
       "if (notebookContainer) {{\n",
       "    x.observe(notebookContainer, {childList: true});\n",
       "}}\n",
       "\n",
       "// Listen for the clearing of the current output cell\n",
       "var outputEl = gd.closest('.output');\n",
       "if (outputEl) {{\n",
       "    x.observe(outputEl, {childList: true});\n",
       "}}\n",
       "\n",
       "                        })                };                });            </script>        </div>"
      ]
     },
     "metadata": {},
     "output_type": "display_data"
    },
    {
     "name": "stdout",
     "output_type": "stream",
     "text": [
      "From the graph we can see that our hypothesis is wrong. In fact, it turned out to be the opposite, major songs with low danceability are more popular than with high, the same is for minor songs and acousticness.\n"
     ]
    }
   ],
   "source": [
    "# Hypothesis\n",
    "\n",
    "print('''Hypothesis: Major songs with high danceability are more popular than major ones with low, and minor songs with high acoustics are more popular than minor ones with low.''')\n",
    "\n",
    "major_songs = dt[dt[\"Mode\"] == 1]\n",
    "minor_songs = dt[dt[\"Mode\"] == 0]\n",
    "\n",
    "# Here I find median to understand what is high and what is low acousticness and danceability\n",
    "danceability_median = dt[\"Danceability\"].median()\n",
    "acousticness_median = dt[\"Acousticness\"].median()\n",
    "\n",
    "# Major\n",
    "major_songs_high_dance = major_songs[major_songs[\"Danceability\"] > danceability_median]\n",
    "major_songs_low_dance = major_songs[major_songs[\"Danceability\"] <= danceability_median]\n",
    "\n",
    "major_songs_high_dance_popularity = major_songs_high_dance[\"Popularity\"].mean()\n",
    "major_songs_low_dance_popularity = major_songs_low_dance[\"Popularity\"].mean()\n",
    "\n",
    "print(\"**Information from the graph:**\")\n",
    "print(f\"Popularity of major songs with high danceability: {major_songs_high_dance_popularity:.2f}\")\n",
    "print(f\"Popularity of major songs with low danceability: {major_songs_low_dance_popularity:.2f}\")\n",
    "\n",
    "# Minor\n",
    "minor_songs_high_acoustic = minor_songs[minor_songs[\"Acousticness\"] > acousticness_median]\n",
    "minor_songs_low_acoustic = minor_songs[minor_songs[\"Acousticness\"] <= acousticness_median]\n",
    "\n",
    "minor_songs_high_acoustic_popularity = minor_songs_high_acoustic[\"Popularity\"].mean()\n",
    "minor_songs_low_acoustic_popularity = minor_songs_low_acoustic[\"Popularity\"].mean()\n",
    "\n",
    "print(f\"Popularity of minor songs with high acousticness: {minor_songs_high_acoustic_popularity:.2f}\")\n",
    "print(f\"Popularity of minor songs with low acousticness: {minor_songs_low_acoustic_popularity:.2f}\")\n",
    "\n",
    "# 9 chart hypothesis\n",
    "fig9 = px.bar(\n",
    "    x=[\"Major (high dance.)\", \"Major (low dance.)\",\n",
    "       \"Minor (high acoustic.)\", \"Minor (low acoustic.)\"],\n",
    "    y=[major_songs_high_dance_popularity, major_songs_low_dance_popularity,\n",
    "       minor_songs_high_acoustic_popularity, minor_songs_low_acoustic_popularity],\n",
    "    labels={\"y\": \"Popularity\", \"x\": \"\"},\n",
    "    color=[\"Major (high dance.)\", \"Major (low dance.)\",\n",
    "           \"Minor (high acoustic.)\", \"Minor (low acoustic.)\"],\n",
    "    color_discrete_sequence=px.colors.qualitative.Set1\n",
    ")\n",
    "fig9.show()\n",
    "\n",
    "print(\"From the graph we can see that our hypothesis is wrong. In fact, it turned out to be the opposite, major songs with low danceability are more popular than with high, the same is for minor songs and acousticness.\")\n",
    "\n"
   ]
  },
  {
   "cell_type": "code",
   "execution_count": 42,
   "id": "a2621864-3968-4bf2-8c79-ead701e09b74",
   "metadata": {},
   "outputs": [
    {
     "name": "stdout",
     "output_type": "stream",
     "text": [
      "New columns\n"
     ]
    },
    {
     "data": {
      "text/html": [
       "<div>\n",
       "<style scoped>\n",
       "    .dataframe tbody tr th:only-of-type {\n",
       "        vertical-align: middle;\n",
       "    }\n",
       "\n",
       "    .dataframe tbody tr th {\n",
       "        vertical-align: top;\n",
       "    }\n",
       "\n",
       "    .dataframe thead th {\n",
       "        text-align: right;\n",
       "    }\n",
       "</style>\n",
       "<table border=\"1\" class=\"dataframe\">\n",
       "  <thead>\n",
       "    <tr style=\"text-align: right;\">\n",
       "      <th></th>\n",
       "      <th>Title</th>\n",
       "      <th>Energy Index</th>\n",
       "      <th>Complexity</th>\n",
       "    </tr>\n",
       "  </thead>\n",
       "  <tbody>\n",
       "    <tr>\n",
       "      <th>106</th>\n",
       "      <td>I Me Mine</td>\n",
       "      <td>0.816</td>\n",
       "      <td>30.317900</td>\n",
       "    </tr>\n",
       "    <tr>\n",
       "      <th>77</th>\n",
       "      <td>Golden Slumbers</td>\n",
       "      <td>0.658</td>\n",
       "      <td>20.032600</td>\n",
       "    </tr>\n",
       "    <tr>\n",
       "      <th>235</th>\n",
       "      <td>The End</td>\n",
       "      <td>0.869</td>\n",
       "      <td>29.900101</td>\n",
       "    </tr>\n",
       "    <tr>\n",
       "      <th>38</th>\n",
       "      <td>Carry That Weight</td>\n",
       "      <td>1.247</td>\n",
       "      <td>21.022600</td>\n",
       "    </tr>\n",
       "    <tr>\n",
       "      <th>255</th>\n",
       "      <td>Two of Us</td>\n",
       "      <td>1.657</td>\n",
       "      <td>42.909740</td>\n",
       "    </tr>\n",
       "    <tr>\n",
       "      <th>181</th>\n",
       "      <td>Oh! Darling</td>\n",
       "      <td>0.971</td>\n",
       "      <td>41.801260</td>\n",
       "    </tr>\n",
       "    <tr>\n",
       "      <th>43</th>\n",
       "      <td>Come Together</td>\n",
       "      <td>0.720</td>\n",
       "      <td>52.903020</td>\n",
       "    </tr>\n",
       "    <tr>\n",
       "      <th>44</th>\n",
       "      <td>Come and Get It</td>\n",
       "      <td>1.148</td>\n",
       "      <td>30.600186</td>\n",
       "    </tr>\n",
       "    <tr>\n",
       "      <th>182</th>\n",
       "      <td>Old Brown Shoe</td>\n",
       "      <td>0.925</td>\n",
       "      <td>40.700171</td>\n",
       "    </tr>\n",
       "    <tr>\n",
       "      <th>183</th>\n",
       "      <td>One After 909</td>\n",
       "      <td>1.442</td>\n",
       "      <td>35.003070</td>\n",
       "    </tr>\n",
       "  </tbody>\n",
       "</table>\n",
       "</div>"
      ],
      "text/plain": [
       "                 Title  Energy Index  Complexity\n",
       "106          I Me Mine         0.816   30.317900\n",
       "77     Golden Slumbers         0.658   20.032600\n",
       "235            The End         0.869   29.900101\n",
       "38   Carry That Weight         1.247   21.022600\n",
       "255          Two of Us         1.657   42.909740\n",
       "181        Oh! Darling         0.971   41.801260\n",
       "43       Come Together         0.720   52.903020\n",
       "44     Come and Get It         1.148   30.600186\n",
       "182     Old Brown Shoe         0.925   40.700171\n",
       "183      One After 909         1.442   35.003070"
      ]
     },
     "execution_count": 42,
     "metadata": {},
     "output_type": "execute_result"
    }
   ],
   "source": [
    "# New columns\n",
    "print(\"New columns\")\n",
    "\n",
    "# Valence + Danceability\n",
    "dt[\"Energy Index\"] = dt[\"Valence\"] + dt[\"Danceability\"]\n",
    "\n",
    "# Complexity\n",
    "# This one will show complexity of the songs from musical point of view\n",
    "# Songs with keys farther from the 6 are more complex.\n",
    "# Minor songs more complex.\n",
    "# Longer songs are more complex.\n",
    "# High acousticness is more complex.\n",
    "\n",
    "dt[\"Complexity\"] = (\n",
    "    0.3 * abs(dt[\"Key\"] - 6) +\n",
    "    0.4 * (1 - dt[\"Mode\"]) +\n",
    "    0.2 * dt[\"Duration\"] +\n",
    "    0.1 * dt[\"Acousticness\"]\n",
    ")\n",
    "# Parameters as 0.3 0.4 ... I put by random\n",
    "\n",
    "dt[[\"Title\", \"Energy Index\", \"Complexity\"]].head(10)"
   ]
  },
  {
   "cell_type": "code",
   "execution_count": 43,
   "id": "c26bc752-bd44-4934-820f-9222272dd7e3",
   "metadata": {},
   "outputs": [
    {
     "name": "stdout",
     "output_type": "stream",
     "text": [
      " I have added 2 new columns Energy index and Complexity. The first one shows us how energetic sing is, it \n",
      "uses 2 other columns: Valence and Danceability.\n",
      "The second column is harder, it shows complexity of the songs from musical point of view, using columns: Key, Mode, \n",
      "Duration, Acousticness (each of them has its own effect coefficient(0.3; 0.4; 0.2; 0.1 accordingly)).\n",
      "\n"
     ]
    }
   ],
   "source": [
    "print(\"\"\" I have added 2 new columns Energy index and Complexity. The first one shows us how energetic sing is, it \n",
    "uses 2 other columns: Valence and Danceability.\n",
    "The second column is harder, it shows complexity of the songs from musical point of view, using columns: Key, Mode, \n",
    "Duration, Acousticness (each of them has its own effect coefficient(0.3; 0.4; 0.2; 0.1 accordingly)).\n",
    "\"\"\")"
   ]
  },
  {
   "cell_type": "code",
   "execution_count": 44,
   "id": "f2439913-5752-408c-b5e0-dfbb4b240f79",
   "metadata": {},
   "outputs": [
    {
     "name": "stdout",
     "output_type": "stream",
     "text": [
      "That is the end of my analysis. Davlet and the Beatles were with you, best wishes X\n"
     ]
    }
   ],
   "source": [
    "print(\"That is the end of my analysis. Davlet and the Beatles were with you, best wishes X\")"
   ]
  }
 ],
 "metadata": {
  "kernelspec": {
   "display_name": "Python 3 (ipykernel)",
   "language": "python",
   "name": "python3"
  },
  "language_info": {
   "codemirror_mode": {
    "name": "ipython",
    "version": 3
   },
   "file_extension": ".py",
   "mimetype": "text/x-python",
   "name": "python",
   "nbconvert_exporter": "python",
   "pygments_lexer": "ipython3",
   "version": "3.9.13"
  }
 },
 "nbformat": 4,
 "nbformat_minor": 5
}
